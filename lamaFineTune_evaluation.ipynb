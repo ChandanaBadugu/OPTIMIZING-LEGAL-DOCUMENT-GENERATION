{
  "nbformat": 4,
  "nbformat_minor": 0,
  "metadata": {
    "colab": {
      "provenance": [],
      "gpuType": "T4"
    },
    "kernelspec": {
      "name": "python3",
      "display_name": "Python 3"
    },
    "language_info": {
      "name": "python"
    },
    "accelerator": "GPU",
    "widgets": {
      "application/vnd.jupyter.widget-state+json": {
        "515222334d9340ab90590076222dd429": {
          "model_module": "@jupyter-widgets/controls",
          "model_name": "HBoxModel",
          "model_module_version": "1.5.0",
          "state": {
            "_dom_classes": [],
            "_model_module": "@jupyter-widgets/controls",
            "_model_module_version": "1.5.0",
            "_model_name": "HBoxModel",
            "_view_count": null,
            "_view_module": "@jupyter-widgets/controls",
            "_view_module_version": "1.5.0",
            "_view_name": "HBoxView",
            "box_style": "",
            "children": [
              "IPY_MODEL_b49a0e1c85c144399fcc86029c3b5bf8",
              "IPY_MODEL_c54860d09cbb44e780fec30599d59bdc",
              "IPY_MODEL_202253c27a564e13832a3e3b93f08673"
            ],
            "layout": "IPY_MODEL_6eb68a78510240959a823e31bc5a54c6"
          }
        },
        "b49a0e1c85c144399fcc86029c3b5bf8": {
          "model_module": "@jupyter-widgets/controls",
          "model_name": "HTMLModel",
          "model_module_version": "1.5.0",
          "state": {
            "_dom_classes": [],
            "_model_module": "@jupyter-widgets/controls",
            "_model_module_version": "1.5.0",
            "_model_name": "HTMLModel",
            "_view_count": null,
            "_view_module": "@jupyter-widgets/controls",
            "_view_module_version": "1.5.0",
            "_view_name": "HTMLView",
            "description": "",
            "description_tooltip": null,
            "layout": "IPY_MODEL_dd9edd7a88634167b3cec176cf369110",
            "placeholder": "​",
            "style": "IPY_MODEL_661c5df1172442049cc7619365ea6510",
            "value": "tokenizer_config.json: 100%"
          }
        },
        "c54860d09cbb44e780fec30599d59bdc": {
          "model_module": "@jupyter-widgets/controls",
          "model_name": "FloatProgressModel",
          "model_module_version": "1.5.0",
          "state": {
            "_dom_classes": [],
            "_model_module": "@jupyter-widgets/controls",
            "_model_module_version": "1.5.0",
            "_model_name": "FloatProgressModel",
            "_view_count": null,
            "_view_module": "@jupyter-widgets/controls",
            "_view_module_version": "1.5.0",
            "_view_name": "ProgressView",
            "bar_style": "success",
            "description": "",
            "description_tooltip": null,
            "layout": "IPY_MODEL_e7246da3c0d042daa646fbd46911d3d0",
            "max": 1762,
            "min": 0,
            "orientation": "horizontal",
            "style": "IPY_MODEL_0d1c44abc555439282a3048e94392095",
            "value": 1762
          }
        },
        "202253c27a564e13832a3e3b93f08673": {
          "model_module": "@jupyter-widgets/controls",
          "model_name": "HTMLModel",
          "model_module_version": "1.5.0",
          "state": {
            "_dom_classes": [],
            "_model_module": "@jupyter-widgets/controls",
            "_model_module_version": "1.5.0",
            "_model_name": "HTMLModel",
            "_view_count": null,
            "_view_module": "@jupyter-widgets/controls",
            "_view_module_version": "1.5.0",
            "_view_name": "HTMLView",
            "description": "",
            "description_tooltip": null,
            "layout": "IPY_MODEL_259d7d6ff8b14aa29490a5acfa0fc247",
            "placeholder": "​",
            "style": "IPY_MODEL_bd7837243a3c43a883ae84d97de2a598",
            "value": " 1.76k/1.76k [00:00&lt;00:00, 44.8kB/s]"
          }
        },
        "6eb68a78510240959a823e31bc5a54c6": {
          "model_module": "@jupyter-widgets/base",
          "model_name": "LayoutModel",
          "model_module_version": "1.2.0",
          "state": {
            "_model_module": "@jupyter-widgets/base",
            "_model_module_version": "1.2.0",
            "_model_name": "LayoutModel",
            "_view_count": null,
            "_view_module": "@jupyter-widgets/base",
            "_view_module_version": "1.2.0",
            "_view_name": "LayoutView",
            "align_content": null,
            "align_items": null,
            "align_self": null,
            "border": null,
            "bottom": null,
            "display": null,
            "flex": null,
            "flex_flow": null,
            "grid_area": null,
            "grid_auto_columns": null,
            "grid_auto_flow": null,
            "grid_auto_rows": null,
            "grid_column": null,
            "grid_gap": null,
            "grid_row": null,
            "grid_template_areas": null,
            "grid_template_columns": null,
            "grid_template_rows": null,
            "height": null,
            "justify_content": null,
            "justify_items": null,
            "left": null,
            "margin": null,
            "max_height": null,
            "max_width": null,
            "min_height": null,
            "min_width": null,
            "object_fit": null,
            "object_position": null,
            "order": null,
            "overflow": null,
            "overflow_x": null,
            "overflow_y": null,
            "padding": null,
            "right": null,
            "top": null,
            "visibility": null,
            "width": null
          }
        },
        "dd9edd7a88634167b3cec176cf369110": {
          "model_module": "@jupyter-widgets/base",
          "model_name": "LayoutModel",
          "model_module_version": "1.2.0",
          "state": {
            "_model_module": "@jupyter-widgets/base",
            "_model_module_version": "1.2.0",
            "_model_name": "LayoutModel",
            "_view_count": null,
            "_view_module": "@jupyter-widgets/base",
            "_view_module_version": "1.2.0",
            "_view_name": "LayoutView",
            "align_content": null,
            "align_items": null,
            "align_self": null,
            "border": null,
            "bottom": null,
            "display": null,
            "flex": null,
            "flex_flow": null,
            "grid_area": null,
            "grid_auto_columns": null,
            "grid_auto_flow": null,
            "grid_auto_rows": null,
            "grid_column": null,
            "grid_gap": null,
            "grid_row": null,
            "grid_template_areas": null,
            "grid_template_columns": null,
            "grid_template_rows": null,
            "height": null,
            "justify_content": null,
            "justify_items": null,
            "left": null,
            "margin": null,
            "max_height": null,
            "max_width": null,
            "min_height": null,
            "min_width": null,
            "object_fit": null,
            "object_position": null,
            "order": null,
            "overflow": null,
            "overflow_x": null,
            "overflow_y": null,
            "padding": null,
            "right": null,
            "top": null,
            "visibility": null,
            "width": null
          }
        },
        "661c5df1172442049cc7619365ea6510": {
          "model_module": "@jupyter-widgets/controls",
          "model_name": "DescriptionStyleModel",
          "model_module_version": "1.5.0",
          "state": {
            "_model_module": "@jupyter-widgets/controls",
            "_model_module_version": "1.5.0",
            "_model_name": "DescriptionStyleModel",
            "_view_count": null,
            "_view_module": "@jupyter-widgets/base",
            "_view_module_version": "1.2.0",
            "_view_name": "StyleView",
            "description_width": ""
          }
        },
        "e7246da3c0d042daa646fbd46911d3d0": {
          "model_module": "@jupyter-widgets/base",
          "model_name": "LayoutModel",
          "model_module_version": "1.2.0",
          "state": {
            "_model_module": "@jupyter-widgets/base",
            "_model_module_version": "1.2.0",
            "_model_name": "LayoutModel",
            "_view_count": null,
            "_view_module": "@jupyter-widgets/base",
            "_view_module_version": "1.2.0",
            "_view_name": "LayoutView",
            "align_content": null,
            "align_items": null,
            "align_self": null,
            "border": null,
            "bottom": null,
            "display": null,
            "flex": null,
            "flex_flow": null,
            "grid_area": null,
            "grid_auto_columns": null,
            "grid_auto_flow": null,
            "grid_auto_rows": null,
            "grid_column": null,
            "grid_gap": null,
            "grid_row": null,
            "grid_template_areas": null,
            "grid_template_columns": null,
            "grid_template_rows": null,
            "height": null,
            "justify_content": null,
            "justify_items": null,
            "left": null,
            "margin": null,
            "max_height": null,
            "max_width": null,
            "min_height": null,
            "min_width": null,
            "object_fit": null,
            "object_position": null,
            "order": null,
            "overflow": null,
            "overflow_x": null,
            "overflow_y": null,
            "padding": null,
            "right": null,
            "top": null,
            "visibility": null,
            "width": null
          }
        },
        "0d1c44abc555439282a3048e94392095": {
          "model_module": "@jupyter-widgets/controls",
          "model_name": "ProgressStyleModel",
          "model_module_version": "1.5.0",
          "state": {
            "_model_module": "@jupyter-widgets/controls",
            "_model_module_version": "1.5.0",
            "_model_name": "ProgressStyleModel",
            "_view_count": null,
            "_view_module": "@jupyter-widgets/base",
            "_view_module_version": "1.2.0",
            "_view_name": "StyleView",
            "bar_color": null,
            "description_width": ""
          }
        },
        "259d7d6ff8b14aa29490a5acfa0fc247": {
          "model_module": "@jupyter-widgets/base",
          "model_name": "LayoutModel",
          "model_module_version": "1.2.0",
          "state": {
            "_model_module": "@jupyter-widgets/base",
            "_model_module_version": "1.2.0",
            "_model_name": "LayoutModel",
            "_view_count": null,
            "_view_module": "@jupyter-widgets/base",
            "_view_module_version": "1.2.0",
            "_view_name": "LayoutView",
            "align_content": null,
            "align_items": null,
            "align_self": null,
            "border": null,
            "bottom": null,
            "display": null,
            "flex": null,
            "flex_flow": null,
            "grid_area": null,
            "grid_auto_columns": null,
            "grid_auto_flow": null,
            "grid_auto_rows": null,
            "grid_column": null,
            "grid_gap": null,
            "grid_row": null,
            "grid_template_areas": null,
            "grid_template_columns": null,
            "grid_template_rows": null,
            "height": null,
            "justify_content": null,
            "justify_items": null,
            "left": null,
            "margin": null,
            "max_height": null,
            "max_width": null,
            "min_height": null,
            "min_width": null,
            "object_fit": null,
            "object_position": null,
            "order": null,
            "overflow": null,
            "overflow_x": null,
            "overflow_y": null,
            "padding": null,
            "right": null,
            "top": null,
            "visibility": null,
            "width": null
          }
        },
        "bd7837243a3c43a883ae84d97de2a598": {
          "model_module": "@jupyter-widgets/controls",
          "model_name": "DescriptionStyleModel",
          "model_module_version": "1.5.0",
          "state": {
            "_model_module": "@jupyter-widgets/controls",
            "_model_module_version": "1.5.0",
            "_model_name": "DescriptionStyleModel",
            "_view_count": null,
            "_view_module": "@jupyter-widgets/base",
            "_view_module_version": "1.2.0",
            "_view_name": "StyleView",
            "description_width": ""
          }
        },
        "00a5208966f7438499a5e80b9dd54a74": {
          "model_module": "@jupyter-widgets/controls",
          "model_name": "HBoxModel",
          "model_module_version": "1.5.0",
          "state": {
            "_dom_classes": [],
            "_model_module": "@jupyter-widgets/controls",
            "_model_module_version": "1.5.0",
            "_model_name": "HBoxModel",
            "_view_count": null,
            "_view_module": "@jupyter-widgets/controls",
            "_view_module_version": "1.5.0",
            "_view_name": "HBoxView",
            "box_style": "",
            "children": [
              "IPY_MODEL_bf1616301e9443808775b74f0fd1be19",
              "IPY_MODEL_aac4e1b438f346dc8d402e2f0545ea0a",
              "IPY_MODEL_ace33106b549441f970eeeb4b94c1915"
            ],
            "layout": "IPY_MODEL_d17e9f204567422e9d6581250df13ba0"
          }
        },
        "bf1616301e9443808775b74f0fd1be19": {
          "model_module": "@jupyter-widgets/controls",
          "model_name": "HTMLModel",
          "model_module_version": "1.5.0",
          "state": {
            "_dom_classes": [],
            "_model_module": "@jupyter-widgets/controls",
            "_model_module_version": "1.5.0",
            "_model_name": "HTMLModel",
            "_view_count": null,
            "_view_module": "@jupyter-widgets/controls",
            "_view_module_version": "1.5.0",
            "_view_name": "HTMLView",
            "description": "",
            "description_tooltip": null,
            "layout": "IPY_MODEL_7d3141b755a14863a7d9f8462d70597a",
            "placeholder": "​",
            "style": "IPY_MODEL_989801e568d046bab487953a95d4c81e",
            "value": "tokenizer.model: 100%"
          }
        },
        "aac4e1b438f346dc8d402e2f0545ea0a": {
          "model_module": "@jupyter-widgets/controls",
          "model_name": "FloatProgressModel",
          "model_module_version": "1.5.0",
          "state": {
            "_dom_classes": [],
            "_model_module": "@jupyter-widgets/controls",
            "_model_module_version": "1.5.0",
            "_model_name": "FloatProgressModel",
            "_view_count": null,
            "_view_module": "@jupyter-widgets/controls",
            "_view_module_version": "1.5.0",
            "_view_name": "ProgressView",
            "bar_style": "success",
            "description": "",
            "description_tooltip": null,
            "layout": "IPY_MODEL_a649df425e5340e6aecc7e7b46622fb4",
            "max": 499723,
            "min": 0,
            "orientation": "horizontal",
            "style": "IPY_MODEL_e10614984fb74f91a4e1d7dcb98fb155",
            "value": 499723
          }
        },
        "ace33106b549441f970eeeb4b94c1915": {
          "model_module": "@jupyter-widgets/controls",
          "model_name": "HTMLModel",
          "model_module_version": "1.5.0",
          "state": {
            "_dom_classes": [],
            "_model_module": "@jupyter-widgets/controls",
            "_model_module_version": "1.5.0",
            "_model_name": "HTMLModel",
            "_view_count": null,
            "_view_module": "@jupyter-widgets/controls",
            "_view_module_version": "1.5.0",
            "_view_name": "HTMLView",
            "description": "",
            "description_tooltip": null,
            "layout": "IPY_MODEL_82c48c7b011c45c0b7e8b87bd515ab9a",
            "placeholder": "​",
            "style": "IPY_MODEL_d45b50406fdb406386638990f8941ec7",
            "value": " 500k/500k [00:00&lt;00:00, 6.00MB/s]"
          }
        },
        "d17e9f204567422e9d6581250df13ba0": {
          "model_module": "@jupyter-widgets/base",
          "model_name": "LayoutModel",
          "model_module_version": "1.2.0",
          "state": {
            "_model_module": "@jupyter-widgets/base",
            "_model_module_version": "1.2.0",
            "_model_name": "LayoutModel",
            "_view_count": null,
            "_view_module": "@jupyter-widgets/base",
            "_view_module_version": "1.2.0",
            "_view_name": "LayoutView",
            "align_content": null,
            "align_items": null,
            "align_self": null,
            "border": null,
            "bottom": null,
            "display": null,
            "flex": null,
            "flex_flow": null,
            "grid_area": null,
            "grid_auto_columns": null,
            "grid_auto_flow": null,
            "grid_auto_rows": null,
            "grid_column": null,
            "grid_gap": null,
            "grid_row": null,
            "grid_template_areas": null,
            "grid_template_columns": null,
            "grid_template_rows": null,
            "height": null,
            "justify_content": null,
            "justify_items": null,
            "left": null,
            "margin": null,
            "max_height": null,
            "max_width": null,
            "min_height": null,
            "min_width": null,
            "object_fit": null,
            "object_position": null,
            "order": null,
            "overflow": null,
            "overflow_x": null,
            "overflow_y": null,
            "padding": null,
            "right": null,
            "top": null,
            "visibility": null,
            "width": null
          }
        },
        "7d3141b755a14863a7d9f8462d70597a": {
          "model_module": "@jupyter-widgets/base",
          "model_name": "LayoutModel",
          "model_module_version": "1.2.0",
          "state": {
            "_model_module": "@jupyter-widgets/base",
            "_model_module_version": "1.2.0",
            "_model_name": "LayoutModel",
            "_view_count": null,
            "_view_module": "@jupyter-widgets/base",
            "_view_module_version": "1.2.0",
            "_view_name": "LayoutView",
            "align_content": null,
            "align_items": null,
            "align_self": null,
            "border": null,
            "bottom": null,
            "display": null,
            "flex": null,
            "flex_flow": null,
            "grid_area": null,
            "grid_auto_columns": null,
            "grid_auto_flow": null,
            "grid_auto_rows": null,
            "grid_column": null,
            "grid_gap": null,
            "grid_row": null,
            "grid_template_areas": null,
            "grid_template_columns": null,
            "grid_template_rows": null,
            "height": null,
            "justify_content": null,
            "justify_items": null,
            "left": null,
            "margin": null,
            "max_height": null,
            "max_width": null,
            "min_height": null,
            "min_width": null,
            "object_fit": null,
            "object_position": null,
            "order": null,
            "overflow": null,
            "overflow_x": null,
            "overflow_y": null,
            "padding": null,
            "right": null,
            "top": null,
            "visibility": null,
            "width": null
          }
        },
        "989801e568d046bab487953a95d4c81e": {
          "model_module": "@jupyter-widgets/controls",
          "model_name": "DescriptionStyleModel",
          "model_module_version": "1.5.0",
          "state": {
            "_model_module": "@jupyter-widgets/controls",
            "_model_module_version": "1.5.0",
            "_model_name": "DescriptionStyleModel",
            "_view_count": null,
            "_view_module": "@jupyter-widgets/base",
            "_view_module_version": "1.2.0",
            "_view_name": "StyleView",
            "description_width": ""
          }
        },
        "a649df425e5340e6aecc7e7b46622fb4": {
          "model_module": "@jupyter-widgets/base",
          "model_name": "LayoutModel",
          "model_module_version": "1.2.0",
          "state": {
            "_model_module": "@jupyter-widgets/base",
            "_model_module_version": "1.2.0",
            "_model_name": "LayoutModel",
            "_view_count": null,
            "_view_module": "@jupyter-widgets/base",
            "_view_module_version": "1.2.0",
            "_view_name": "LayoutView",
            "align_content": null,
            "align_items": null,
            "align_self": null,
            "border": null,
            "bottom": null,
            "display": null,
            "flex": null,
            "flex_flow": null,
            "grid_area": null,
            "grid_auto_columns": null,
            "grid_auto_flow": null,
            "grid_auto_rows": null,
            "grid_column": null,
            "grid_gap": null,
            "grid_row": null,
            "grid_template_areas": null,
            "grid_template_columns": null,
            "grid_template_rows": null,
            "height": null,
            "justify_content": null,
            "justify_items": null,
            "left": null,
            "margin": null,
            "max_height": null,
            "max_width": null,
            "min_height": null,
            "min_width": null,
            "object_fit": null,
            "object_position": null,
            "order": null,
            "overflow": null,
            "overflow_x": null,
            "overflow_y": null,
            "padding": null,
            "right": null,
            "top": null,
            "visibility": null,
            "width": null
          }
        },
        "e10614984fb74f91a4e1d7dcb98fb155": {
          "model_module": "@jupyter-widgets/controls",
          "model_name": "ProgressStyleModel",
          "model_module_version": "1.5.0",
          "state": {
            "_model_module": "@jupyter-widgets/controls",
            "_model_module_version": "1.5.0",
            "_model_name": "ProgressStyleModel",
            "_view_count": null,
            "_view_module": "@jupyter-widgets/base",
            "_view_module_version": "1.2.0",
            "_view_name": "StyleView",
            "bar_color": null,
            "description_width": ""
          }
        },
        "82c48c7b011c45c0b7e8b87bd515ab9a": {
          "model_module": "@jupyter-widgets/base",
          "model_name": "LayoutModel",
          "model_module_version": "1.2.0",
          "state": {
            "_model_module": "@jupyter-widgets/base",
            "_model_module_version": "1.2.0",
            "_model_name": "LayoutModel",
            "_view_count": null,
            "_view_module": "@jupyter-widgets/base",
            "_view_module_version": "1.2.0",
            "_view_name": "LayoutView",
            "align_content": null,
            "align_items": null,
            "align_self": null,
            "border": null,
            "bottom": null,
            "display": null,
            "flex": null,
            "flex_flow": null,
            "grid_area": null,
            "grid_auto_columns": null,
            "grid_auto_flow": null,
            "grid_auto_rows": null,
            "grid_column": null,
            "grid_gap": null,
            "grid_row": null,
            "grid_template_areas": null,
            "grid_template_columns": null,
            "grid_template_rows": null,
            "height": null,
            "justify_content": null,
            "justify_items": null,
            "left": null,
            "margin": null,
            "max_height": null,
            "max_width": null,
            "min_height": null,
            "min_width": null,
            "object_fit": null,
            "object_position": null,
            "order": null,
            "overflow": null,
            "overflow_x": null,
            "overflow_y": null,
            "padding": null,
            "right": null,
            "top": null,
            "visibility": null,
            "width": null
          }
        },
        "d45b50406fdb406386638990f8941ec7": {
          "model_module": "@jupyter-widgets/controls",
          "model_name": "DescriptionStyleModel",
          "model_module_version": "1.5.0",
          "state": {
            "_model_module": "@jupyter-widgets/controls",
            "_model_module_version": "1.5.0",
            "_model_name": "DescriptionStyleModel",
            "_view_count": null,
            "_view_module": "@jupyter-widgets/base",
            "_view_module_version": "1.2.0",
            "_view_name": "StyleView",
            "description_width": ""
          }
        },
        "a55b5281fa4744d5b56c2b763bbf349c": {
          "model_module": "@jupyter-widgets/controls",
          "model_name": "HBoxModel",
          "model_module_version": "1.5.0",
          "state": {
            "_dom_classes": [],
            "_model_module": "@jupyter-widgets/controls",
            "_model_module_version": "1.5.0",
            "_model_name": "HBoxModel",
            "_view_count": null,
            "_view_module": "@jupyter-widgets/controls",
            "_view_module_version": "1.5.0",
            "_view_name": "HBoxView",
            "box_style": "",
            "children": [
              "IPY_MODEL_03b052278c024176b77d1f9c8e2d9666",
              "IPY_MODEL_b5fc476123264e4b963af87f8bd84e3d",
              "IPY_MODEL_f7c9a81a9e9749008c6793bf91243ec3"
            ],
            "layout": "IPY_MODEL_3f0a5560264142a39421f036d63933f9"
          }
        },
        "03b052278c024176b77d1f9c8e2d9666": {
          "model_module": "@jupyter-widgets/controls",
          "model_name": "HTMLModel",
          "model_module_version": "1.5.0",
          "state": {
            "_dom_classes": [],
            "_model_module": "@jupyter-widgets/controls",
            "_model_module_version": "1.5.0",
            "_model_name": "HTMLModel",
            "_view_count": null,
            "_view_module": "@jupyter-widgets/controls",
            "_view_module_version": "1.5.0",
            "_view_name": "HTMLView",
            "description": "",
            "description_tooltip": null,
            "layout": "IPY_MODEL_a0d2ee00276a45619e1a2aed23ab4629",
            "placeholder": "​",
            "style": "IPY_MODEL_a80ba9886e934d3290c958e2f42a6358",
            "value": "tokenizer.json: 100%"
          }
        },
        "b5fc476123264e4b963af87f8bd84e3d": {
          "model_module": "@jupyter-widgets/controls",
          "model_name": "FloatProgressModel",
          "model_module_version": "1.5.0",
          "state": {
            "_dom_classes": [],
            "_model_module": "@jupyter-widgets/controls",
            "_model_module_version": "1.5.0",
            "_model_name": "FloatProgressModel",
            "_view_count": null,
            "_view_module": "@jupyter-widgets/controls",
            "_view_module_version": "1.5.0",
            "_view_name": "ProgressView",
            "bar_style": "success",
            "description": "",
            "description_tooltip": null,
            "layout": "IPY_MODEL_8dc28515a04d4409b47e12922a3e5c06",
            "max": 1842864,
            "min": 0,
            "orientation": "horizontal",
            "style": "IPY_MODEL_5098b3c4300f43678b84cf1682ef8dda",
            "value": 1842864
          }
        },
        "f7c9a81a9e9749008c6793bf91243ec3": {
          "model_module": "@jupyter-widgets/controls",
          "model_name": "HTMLModel",
          "model_module_version": "1.5.0",
          "state": {
            "_dom_classes": [],
            "_model_module": "@jupyter-widgets/controls",
            "_model_module_version": "1.5.0",
            "_model_name": "HTMLModel",
            "_view_count": null,
            "_view_module": "@jupyter-widgets/controls",
            "_view_module_version": "1.5.0",
            "_view_name": "HTMLView",
            "description": "",
            "description_tooltip": null,
            "layout": "IPY_MODEL_d427d89ca5674ade88f43ebf6e077971",
            "placeholder": "​",
            "style": "IPY_MODEL_fdf1e0af941549eaa6739290338065fb",
            "value": " 1.84M/1.84M [00:00&lt;00:00, 22.5MB/s]"
          }
        },
        "3f0a5560264142a39421f036d63933f9": {
          "model_module": "@jupyter-widgets/base",
          "model_name": "LayoutModel",
          "model_module_version": "1.2.0",
          "state": {
            "_model_module": "@jupyter-widgets/base",
            "_model_module_version": "1.2.0",
            "_model_name": "LayoutModel",
            "_view_count": null,
            "_view_module": "@jupyter-widgets/base",
            "_view_module_version": "1.2.0",
            "_view_name": "LayoutView",
            "align_content": null,
            "align_items": null,
            "align_self": null,
            "border": null,
            "bottom": null,
            "display": null,
            "flex": null,
            "flex_flow": null,
            "grid_area": null,
            "grid_auto_columns": null,
            "grid_auto_flow": null,
            "grid_auto_rows": null,
            "grid_column": null,
            "grid_gap": null,
            "grid_row": null,
            "grid_template_areas": null,
            "grid_template_columns": null,
            "grid_template_rows": null,
            "height": null,
            "justify_content": null,
            "justify_items": null,
            "left": null,
            "margin": null,
            "max_height": null,
            "max_width": null,
            "min_height": null,
            "min_width": null,
            "object_fit": null,
            "object_position": null,
            "order": null,
            "overflow": null,
            "overflow_x": null,
            "overflow_y": null,
            "padding": null,
            "right": null,
            "top": null,
            "visibility": null,
            "width": null
          }
        },
        "a0d2ee00276a45619e1a2aed23ab4629": {
          "model_module": "@jupyter-widgets/base",
          "model_name": "LayoutModel",
          "model_module_version": "1.2.0",
          "state": {
            "_model_module": "@jupyter-widgets/base",
            "_model_module_version": "1.2.0",
            "_model_name": "LayoutModel",
            "_view_count": null,
            "_view_module": "@jupyter-widgets/base",
            "_view_module_version": "1.2.0",
            "_view_name": "LayoutView",
            "align_content": null,
            "align_items": null,
            "align_self": null,
            "border": null,
            "bottom": null,
            "display": null,
            "flex": null,
            "flex_flow": null,
            "grid_area": null,
            "grid_auto_columns": null,
            "grid_auto_flow": null,
            "grid_auto_rows": null,
            "grid_column": null,
            "grid_gap": null,
            "grid_row": null,
            "grid_template_areas": null,
            "grid_template_columns": null,
            "grid_template_rows": null,
            "height": null,
            "justify_content": null,
            "justify_items": null,
            "left": null,
            "margin": null,
            "max_height": null,
            "max_width": null,
            "min_height": null,
            "min_width": null,
            "object_fit": null,
            "object_position": null,
            "order": null,
            "overflow": null,
            "overflow_x": null,
            "overflow_y": null,
            "padding": null,
            "right": null,
            "top": null,
            "visibility": null,
            "width": null
          }
        },
        "a80ba9886e934d3290c958e2f42a6358": {
          "model_module": "@jupyter-widgets/controls",
          "model_name": "DescriptionStyleModel",
          "model_module_version": "1.5.0",
          "state": {
            "_model_module": "@jupyter-widgets/controls",
            "_model_module_version": "1.5.0",
            "_model_name": "DescriptionStyleModel",
            "_view_count": null,
            "_view_module": "@jupyter-widgets/base",
            "_view_module_version": "1.2.0",
            "_view_name": "StyleView",
            "description_width": ""
          }
        },
        "8dc28515a04d4409b47e12922a3e5c06": {
          "model_module": "@jupyter-widgets/base",
          "model_name": "LayoutModel",
          "model_module_version": "1.2.0",
          "state": {
            "_model_module": "@jupyter-widgets/base",
            "_model_module_version": "1.2.0",
            "_model_name": "LayoutModel",
            "_view_count": null,
            "_view_module": "@jupyter-widgets/base",
            "_view_module_version": "1.2.0",
            "_view_name": "LayoutView",
            "align_content": null,
            "align_items": null,
            "align_self": null,
            "border": null,
            "bottom": null,
            "display": null,
            "flex": null,
            "flex_flow": null,
            "grid_area": null,
            "grid_auto_columns": null,
            "grid_auto_flow": null,
            "grid_auto_rows": null,
            "grid_column": null,
            "grid_gap": null,
            "grid_row": null,
            "grid_template_areas": null,
            "grid_template_columns": null,
            "grid_template_rows": null,
            "height": null,
            "justify_content": null,
            "justify_items": null,
            "left": null,
            "margin": null,
            "max_height": null,
            "max_width": null,
            "min_height": null,
            "min_width": null,
            "object_fit": null,
            "object_position": null,
            "order": null,
            "overflow": null,
            "overflow_x": null,
            "overflow_y": null,
            "padding": null,
            "right": null,
            "top": null,
            "visibility": null,
            "width": null
          }
        },
        "5098b3c4300f43678b84cf1682ef8dda": {
          "model_module": "@jupyter-widgets/controls",
          "model_name": "ProgressStyleModel",
          "model_module_version": "1.5.0",
          "state": {
            "_model_module": "@jupyter-widgets/controls",
            "_model_module_version": "1.5.0",
            "_model_name": "ProgressStyleModel",
            "_view_count": null,
            "_view_module": "@jupyter-widgets/base",
            "_view_module_version": "1.2.0",
            "_view_name": "StyleView",
            "bar_color": null,
            "description_width": ""
          }
        },
        "d427d89ca5674ade88f43ebf6e077971": {
          "model_module": "@jupyter-widgets/base",
          "model_name": "LayoutModel",
          "model_module_version": "1.2.0",
          "state": {
            "_model_module": "@jupyter-widgets/base",
            "_model_module_version": "1.2.0",
            "_model_name": "LayoutModel",
            "_view_count": null,
            "_view_module": "@jupyter-widgets/base",
            "_view_module_version": "1.2.0",
            "_view_name": "LayoutView",
            "align_content": null,
            "align_items": null,
            "align_self": null,
            "border": null,
            "bottom": null,
            "display": null,
            "flex": null,
            "flex_flow": null,
            "grid_area": null,
            "grid_auto_columns": null,
            "grid_auto_flow": null,
            "grid_auto_rows": null,
            "grid_column": null,
            "grid_gap": null,
            "grid_row": null,
            "grid_template_areas": null,
            "grid_template_columns": null,
            "grid_template_rows": null,
            "height": null,
            "justify_content": null,
            "justify_items": null,
            "left": null,
            "margin": null,
            "max_height": null,
            "max_width": null,
            "min_height": null,
            "min_width": null,
            "object_fit": null,
            "object_position": null,
            "order": null,
            "overflow": null,
            "overflow_x": null,
            "overflow_y": null,
            "padding": null,
            "right": null,
            "top": null,
            "visibility": null,
            "width": null
          }
        },
        "fdf1e0af941549eaa6739290338065fb": {
          "model_module": "@jupyter-widgets/controls",
          "model_name": "DescriptionStyleModel",
          "model_module_version": "1.5.0",
          "state": {
            "_model_module": "@jupyter-widgets/controls",
            "_model_module_version": "1.5.0",
            "_model_name": "DescriptionStyleModel",
            "_view_count": null,
            "_view_module": "@jupyter-widgets/base",
            "_view_module_version": "1.2.0",
            "_view_name": "StyleView",
            "description_width": ""
          }
        },
        "c7c260724a654df5ace23e0012fe6fd0": {
          "model_module": "@jupyter-widgets/controls",
          "model_name": "HBoxModel",
          "model_module_version": "1.5.0",
          "state": {
            "_dom_classes": [],
            "_model_module": "@jupyter-widgets/controls",
            "_model_module_version": "1.5.0",
            "_model_name": "HBoxModel",
            "_view_count": null,
            "_view_module": "@jupyter-widgets/controls",
            "_view_module_version": "1.5.0",
            "_view_name": "HBoxView",
            "box_style": "",
            "children": [
              "IPY_MODEL_6c3267eabce24bdb9ebdad9ae5974e04",
              "IPY_MODEL_59a765f369f8499b8cd4f2cbdd4527ee",
              "IPY_MODEL_1c34d7ab444e493ead1532235f9f21a9"
            ],
            "layout": "IPY_MODEL_744ef82e4b0c4ebb858b142dc11d8363"
          }
        },
        "6c3267eabce24bdb9ebdad9ae5974e04": {
          "model_module": "@jupyter-widgets/controls",
          "model_name": "HTMLModel",
          "model_module_version": "1.5.0",
          "state": {
            "_dom_classes": [],
            "_model_module": "@jupyter-widgets/controls",
            "_model_module_version": "1.5.0",
            "_model_name": "HTMLModel",
            "_view_count": null,
            "_view_module": "@jupyter-widgets/controls",
            "_view_module_version": "1.5.0",
            "_view_name": "HTMLView",
            "description": "",
            "description_tooltip": null,
            "layout": "IPY_MODEL_89fbeb67c1ee4401a1280c25418cc099",
            "placeholder": "​",
            "style": "IPY_MODEL_7371dbd11bf843e2b032864606fc1b33",
            "value": "special_tokens_map.json: 100%"
          }
        },
        "59a765f369f8499b8cd4f2cbdd4527ee": {
          "model_module": "@jupyter-widgets/controls",
          "model_name": "FloatProgressModel",
          "model_module_version": "1.5.0",
          "state": {
            "_dom_classes": [],
            "_model_module": "@jupyter-widgets/controls",
            "_model_module_version": "1.5.0",
            "_model_name": "FloatProgressModel",
            "_view_count": null,
            "_view_module": "@jupyter-widgets/controls",
            "_view_module_version": "1.5.0",
            "_view_name": "ProgressView",
            "bar_style": "success",
            "description": "",
            "description_tooltip": null,
            "layout": "IPY_MODEL_8f543c412ac548dab2294b2249f36674",
            "max": 437,
            "min": 0,
            "orientation": "horizontal",
            "style": "IPY_MODEL_e7fa9063ded54e85b841328b3aacf95e",
            "value": 437
          }
        },
        "1c34d7ab444e493ead1532235f9f21a9": {
          "model_module": "@jupyter-widgets/controls",
          "model_name": "HTMLModel",
          "model_module_version": "1.5.0",
          "state": {
            "_dom_classes": [],
            "_model_module": "@jupyter-widgets/controls",
            "_model_module_version": "1.5.0",
            "_model_name": "HTMLModel",
            "_view_count": null,
            "_view_module": "@jupyter-widgets/controls",
            "_view_module_version": "1.5.0",
            "_view_name": "HTMLView",
            "description": "",
            "description_tooltip": null,
            "layout": "IPY_MODEL_8f3e3e0589794f3bb2815ffede685b76",
            "placeholder": "​",
            "style": "IPY_MODEL_324fb4edd44d4a0e85d0b2175ad1e235",
            "value": " 437/437 [00:00&lt;00:00, 8.20kB/s]"
          }
        },
        "744ef82e4b0c4ebb858b142dc11d8363": {
          "model_module": "@jupyter-widgets/base",
          "model_name": "LayoutModel",
          "model_module_version": "1.2.0",
          "state": {
            "_model_module": "@jupyter-widgets/base",
            "_model_module_version": "1.2.0",
            "_model_name": "LayoutModel",
            "_view_count": null,
            "_view_module": "@jupyter-widgets/base",
            "_view_module_version": "1.2.0",
            "_view_name": "LayoutView",
            "align_content": null,
            "align_items": null,
            "align_self": null,
            "border": null,
            "bottom": null,
            "display": null,
            "flex": null,
            "flex_flow": null,
            "grid_area": null,
            "grid_auto_columns": null,
            "grid_auto_flow": null,
            "grid_auto_rows": null,
            "grid_column": null,
            "grid_gap": null,
            "grid_row": null,
            "grid_template_areas": null,
            "grid_template_columns": null,
            "grid_template_rows": null,
            "height": null,
            "justify_content": null,
            "justify_items": null,
            "left": null,
            "margin": null,
            "max_height": null,
            "max_width": null,
            "min_height": null,
            "min_width": null,
            "object_fit": null,
            "object_position": null,
            "order": null,
            "overflow": null,
            "overflow_x": null,
            "overflow_y": null,
            "padding": null,
            "right": null,
            "top": null,
            "visibility": null,
            "width": null
          }
        },
        "89fbeb67c1ee4401a1280c25418cc099": {
          "model_module": "@jupyter-widgets/base",
          "model_name": "LayoutModel",
          "model_module_version": "1.2.0",
          "state": {
            "_model_module": "@jupyter-widgets/base",
            "_model_module_version": "1.2.0",
            "_model_name": "LayoutModel",
            "_view_count": null,
            "_view_module": "@jupyter-widgets/base",
            "_view_module_version": "1.2.0",
            "_view_name": "LayoutView",
            "align_content": null,
            "align_items": null,
            "align_self": null,
            "border": null,
            "bottom": null,
            "display": null,
            "flex": null,
            "flex_flow": null,
            "grid_area": null,
            "grid_auto_columns": null,
            "grid_auto_flow": null,
            "grid_auto_rows": null,
            "grid_column": null,
            "grid_gap": null,
            "grid_row": null,
            "grid_template_areas": null,
            "grid_template_columns": null,
            "grid_template_rows": null,
            "height": null,
            "justify_content": null,
            "justify_items": null,
            "left": null,
            "margin": null,
            "max_height": null,
            "max_width": null,
            "min_height": null,
            "min_width": null,
            "object_fit": null,
            "object_position": null,
            "order": null,
            "overflow": null,
            "overflow_x": null,
            "overflow_y": null,
            "padding": null,
            "right": null,
            "top": null,
            "visibility": null,
            "width": null
          }
        },
        "7371dbd11bf843e2b032864606fc1b33": {
          "model_module": "@jupyter-widgets/controls",
          "model_name": "DescriptionStyleModel",
          "model_module_version": "1.5.0",
          "state": {
            "_model_module": "@jupyter-widgets/controls",
            "_model_module_version": "1.5.0",
            "_model_name": "DescriptionStyleModel",
            "_view_count": null,
            "_view_module": "@jupyter-widgets/base",
            "_view_module_version": "1.2.0",
            "_view_name": "StyleView",
            "description_width": ""
          }
        },
        "8f543c412ac548dab2294b2249f36674": {
          "model_module": "@jupyter-widgets/base",
          "model_name": "LayoutModel",
          "model_module_version": "1.2.0",
          "state": {
            "_model_module": "@jupyter-widgets/base",
            "_model_module_version": "1.2.0",
            "_model_name": "LayoutModel",
            "_view_count": null,
            "_view_module": "@jupyter-widgets/base",
            "_view_module_version": "1.2.0",
            "_view_name": "LayoutView",
            "align_content": null,
            "align_items": null,
            "align_self": null,
            "border": null,
            "bottom": null,
            "display": null,
            "flex": null,
            "flex_flow": null,
            "grid_area": null,
            "grid_auto_columns": null,
            "grid_auto_flow": null,
            "grid_auto_rows": null,
            "grid_column": null,
            "grid_gap": null,
            "grid_row": null,
            "grid_template_areas": null,
            "grid_template_columns": null,
            "grid_template_rows": null,
            "height": null,
            "justify_content": null,
            "justify_items": null,
            "left": null,
            "margin": null,
            "max_height": null,
            "max_width": null,
            "min_height": null,
            "min_width": null,
            "object_fit": null,
            "object_position": null,
            "order": null,
            "overflow": null,
            "overflow_x": null,
            "overflow_y": null,
            "padding": null,
            "right": null,
            "top": null,
            "visibility": null,
            "width": null
          }
        },
        "e7fa9063ded54e85b841328b3aacf95e": {
          "model_module": "@jupyter-widgets/controls",
          "model_name": "ProgressStyleModel",
          "model_module_version": "1.5.0",
          "state": {
            "_model_module": "@jupyter-widgets/controls",
            "_model_module_version": "1.5.0",
            "_model_name": "ProgressStyleModel",
            "_view_count": null,
            "_view_module": "@jupyter-widgets/base",
            "_view_module_version": "1.2.0",
            "_view_name": "StyleView",
            "bar_color": null,
            "description_width": ""
          }
        },
        "8f3e3e0589794f3bb2815ffede685b76": {
          "model_module": "@jupyter-widgets/base",
          "model_name": "LayoutModel",
          "model_module_version": "1.2.0",
          "state": {
            "_model_module": "@jupyter-widgets/base",
            "_model_module_version": "1.2.0",
            "_model_name": "LayoutModel",
            "_view_count": null,
            "_view_module": "@jupyter-widgets/base",
            "_view_module_version": "1.2.0",
            "_view_name": "LayoutView",
            "align_content": null,
            "align_items": null,
            "align_self": null,
            "border": null,
            "bottom": null,
            "display": null,
            "flex": null,
            "flex_flow": null,
            "grid_area": null,
            "grid_auto_columns": null,
            "grid_auto_flow": null,
            "grid_auto_rows": null,
            "grid_column": null,
            "grid_gap": null,
            "grid_row": null,
            "grid_template_areas": null,
            "grid_template_columns": null,
            "grid_template_rows": null,
            "height": null,
            "justify_content": null,
            "justify_items": null,
            "left": null,
            "margin": null,
            "max_height": null,
            "max_width": null,
            "min_height": null,
            "min_width": null,
            "object_fit": null,
            "object_position": null,
            "order": null,
            "overflow": null,
            "overflow_x": null,
            "overflow_y": null,
            "padding": null,
            "right": null,
            "top": null,
            "visibility": null,
            "width": null
          }
        },
        "324fb4edd44d4a0e85d0b2175ad1e235": {
          "model_module": "@jupyter-widgets/controls",
          "model_name": "DescriptionStyleModel",
          "model_module_version": "1.5.0",
          "state": {
            "_model_module": "@jupyter-widgets/controls",
            "_model_module_version": "1.5.0",
            "_model_name": "DescriptionStyleModel",
            "_view_count": null,
            "_view_module": "@jupyter-widgets/base",
            "_view_module_version": "1.2.0",
            "_view_name": "StyleView",
            "description_width": ""
          }
        },
        "754571fa44d645cf99b55397fdb6948d": {
          "model_module": "@jupyter-widgets/controls",
          "model_name": "HBoxModel",
          "model_module_version": "1.5.0",
          "state": {
            "_dom_classes": [],
            "_model_module": "@jupyter-widgets/controls",
            "_model_module_version": "1.5.0",
            "_model_name": "HBoxModel",
            "_view_count": null,
            "_view_module": "@jupyter-widgets/controls",
            "_view_module_version": "1.5.0",
            "_view_name": "HBoxView",
            "box_style": "",
            "children": [
              "IPY_MODEL_87eaff3321a042d58f588ca2c98d1af2",
              "IPY_MODEL_372a74120317484abb3fb5c039b7ba26",
              "IPY_MODEL_ae340da44298474d9a8e6a87736afc1a"
            ],
            "layout": "IPY_MODEL_90b1c8fb6f7b46cc8d27a773215fc564"
          }
        },
        "87eaff3321a042d58f588ca2c98d1af2": {
          "model_module": "@jupyter-widgets/controls",
          "model_name": "HTMLModel",
          "model_module_version": "1.5.0",
          "state": {
            "_dom_classes": [],
            "_model_module": "@jupyter-widgets/controls",
            "_model_module_version": "1.5.0",
            "_model_name": "HTMLModel",
            "_view_count": null,
            "_view_module": "@jupyter-widgets/controls",
            "_view_module_version": "1.5.0",
            "_view_name": "HTMLView",
            "description": "",
            "description_tooltip": null,
            "layout": "IPY_MODEL_936dbe6879294df9aa2c4b5b1fa46688",
            "placeholder": "​",
            "style": "IPY_MODEL_7c92c8e2a5a043fba5cda449dfadd49b",
            "value": "Downloading shards: 100%"
          }
        },
        "372a74120317484abb3fb5c039b7ba26": {
          "model_module": "@jupyter-widgets/controls",
          "model_name": "FloatProgressModel",
          "model_module_version": "1.5.0",
          "state": {
            "_dom_classes": [],
            "_model_module": "@jupyter-widgets/controls",
            "_model_module_version": "1.5.0",
            "_model_name": "FloatProgressModel",
            "_view_count": null,
            "_view_module": "@jupyter-widgets/controls",
            "_view_module_version": "1.5.0",
            "_view_name": "ProgressView",
            "bar_style": "success",
            "description": "",
            "description_tooltip": null,
            "layout": "IPY_MODEL_92ff31be7114408ab459a2080fe6349a",
            "max": 3,
            "min": 0,
            "orientation": "horizontal",
            "style": "IPY_MODEL_503fb10db83f477cb7497dd4d1a3384f",
            "value": 3
          }
        },
        "ae340da44298474d9a8e6a87736afc1a": {
          "model_module": "@jupyter-widgets/controls",
          "model_name": "HTMLModel",
          "model_module_version": "1.5.0",
          "state": {
            "_dom_classes": [],
            "_model_module": "@jupyter-widgets/controls",
            "_model_module_version": "1.5.0",
            "_model_name": "HTMLModel",
            "_view_count": null,
            "_view_module": "@jupyter-widgets/controls",
            "_view_module_version": "1.5.0",
            "_view_name": "HTMLView",
            "description": "",
            "description_tooltip": null,
            "layout": "IPY_MODEL_876c3d3c06424aa69f33c4dd3088a4a0",
            "placeholder": "​",
            "style": "IPY_MODEL_be53c232e6d44449ab0ccf181639576e",
            "value": " 3/3 [02:29&lt;00:00, 47.25s/it]"
          }
        },
        "90b1c8fb6f7b46cc8d27a773215fc564": {
          "model_module": "@jupyter-widgets/base",
          "model_name": "LayoutModel",
          "model_module_version": "1.2.0",
          "state": {
            "_model_module": "@jupyter-widgets/base",
            "_model_module_version": "1.2.0",
            "_model_name": "LayoutModel",
            "_view_count": null,
            "_view_module": "@jupyter-widgets/base",
            "_view_module_version": "1.2.0",
            "_view_name": "LayoutView",
            "align_content": null,
            "align_items": null,
            "align_self": null,
            "border": null,
            "bottom": null,
            "display": null,
            "flex": null,
            "flex_flow": null,
            "grid_area": null,
            "grid_auto_columns": null,
            "grid_auto_flow": null,
            "grid_auto_rows": null,
            "grid_column": null,
            "grid_gap": null,
            "grid_row": null,
            "grid_template_areas": null,
            "grid_template_columns": null,
            "grid_template_rows": null,
            "height": null,
            "justify_content": null,
            "justify_items": null,
            "left": null,
            "margin": null,
            "max_height": null,
            "max_width": null,
            "min_height": null,
            "min_width": null,
            "object_fit": null,
            "object_position": null,
            "order": null,
            "overflow": null,
            "overflow_x": null,
            "overflow_y": null,
            "padding": null,
            "right": null,
            "top": null,
            "visibility": null,
            "width": null
          }
        },
        "936dbe6879294df9aa2c4b5b1fa46688": {
          "model_module": "@jupyter-widgets/base",
          "model_name": "LayoutModel",
          "model_module_version": "1.2.0",
          "state": {
            "_model_module": "@jupyter-widgets/base",
            "_model_module_version": "1.2.0",
            "_model_name": "LayoutModel",
            "_view_count": null,
            "_view_module": "@jupyter-widgets/base",
            "_view_module_version": "1.2.0",
            "_view_name": "LayoutView",
            "align_content": null,
            "align_items": null,
            "align_self": null,
            "border": null,
            "bottom": null,
            "display": null,
            "flex": null,
            "flex_flow": null,
            "grid_area": null,
            "grid_auto_columns": null,
            "grid_auto_flow": null,
            "grid_auto_rows": null,
            "grid_column": null,
            "grid_gap": null,
            "grid_row": null,
            "grid_template_areas": null,
            "grid_template_columns": null,
            "grid_template_rows": null,
            "height": null,
            "justify_content": null,
            "justify_items": null,
            "left": null,
            "margin": null,
            "max_height": null,
            "max_width": null,
            "min_height": null,
            "min_width": null,
            "object_fit": null,
            "object_position": null,
            "order": null,
            "overflow": null,
            "overflow_x": null,
            "overflow_y": null,
            "padding": null,
            "right": null,
            "top": null,
            "visibility": null,
            "width": null
          }
        },
        "7c92c8e2a5a043fba5cda449dfadd49b": {
          "model_module": "@jupyter-widgets/controls",
          "model_name": "DescriptionStyleModel",
          "model_module_version": "1.5.0",
          "state": {
            "_model_module": "@jupyter-widgets/controls",
            "_model_module_version": "1.5.0",
            "_model_name": "DescriptionStyleModel",
            "_view_count": null,
            "_view_module": "@jupyter-widgets/base",
            "_view_module_version": "1.2.0",
            "_view_name": "StyleView",
            "description_width": ""
          }
        },
        "92ff31be7114408ab459a2080fe6349a": {
          "model_module": "@jupyter-widgets/base",
          "model_name": "LayoutModel",
          "model_module_version": "1.2.0",
          "state": {
            "_model_module": "@jupyter-widgets/base",
            "_model_module_version": "1.2.0",
            "_model_name": "LayoutModel",
            "_view_count": null,
            "_view_module": "@jupyter-widgets/base",
            "_view_module_version": "1.2.0",
            "_view_name": "LayoutView",
            "align_content": null,
            "align_items": null,
            "align_self": null,
            "border": null,
            "bottom": null,
            "display": null,
            "flex": null,
            "flex_flow": null,
            "grid_area": null,
            "grid_auto_columns": null,
            "grid_auto_flow": null,
            "grid_auto_rows": null,
            "grid_column": null,
            "grid_gap": null,
            "grid_row": null,
            "grid_template_areas": null,
            "grid_template_columns": null,
            "grid_template_rows": null,
            "height": null,
            "justify_content": null,
            "justify_items": null,
            "left": null,
            "margin": null,
            "max_height": null,
            "max_width": null,
            "min_height": null,
            "min_width": null,
            "object_fit": null,
            "object_position": null,
            "order": null,
            "overflow": null,
            "overflow_x": null,
            "overflow_y": null,
            "padding": null,
            "right": null,
            "top": null,
            "visibility": null,
            "width": null
          }
        },
        "503fb10db83f477cb7497dd4d1a3384f": {
          "model_module": "@jupyter-widgets/controls",
          "model_name": "ProgressStyleModel",
          "model_module_version": "1.5.0",
          "state": {
            "_model_module": "@jupyter-widgets/controls",
            "_model_module_version": "1.5.0",
            "_model_name": "ProgressStyleModel",
            "_view_count": null,
            "_view_module": "@jupyter-widgets/base",
            "_view_module_version": "1.2.0",
            "_view_name": "StyleView",
            "bar_color": null,
            "description_width": ""
          }
        },
        "876c3d3c06424aa69f33c4dd3088a4a0": {
          "model_module": "@jupyter-widgets/base",
          "model_name": "LayoutModel",
          "model_module_version": "1.2.0",
          "state": {
            "_model_module": "@jupyter-widgets/base",
            "_model_module_version": "1.2.0",
            "_model_name": "LayoutModel",
            "_view_count": null,
            "_view_module": "@jupyter-widgets/base",
            "_view_module_version": "1.2.0",
            "_view_name": "LayoutView",
            "align_content": null,
            "align_items": null,
            "align_self": null,
            "border": null,
            "bottom": null,
            "display": null,
            "flex": null,
            "flex_flow": null,
            "grid_area": null,
            "grid_auto_columns": null,
            "grid_auto_flow": null,
            "grid_auto_rows": null,
            "grid_column": null,
            "grid_gap": null,
            "grid_row": null,
            "grid_template_areas": null,
            "grid_template_columns": null,
            "grid_template_rows": null,
            "height": null,
            "justify_content": null,
            "justify_items": null,
            "left": null,
            "margin": null,
            "max_height": null,
            "max_width": null,
            "min_height": null,
            "min_width": null,
            "object_fit": null,
            "object_position": null,
            "order": null,
            "overflow": null,
            "overflow_x": null,
            "overflow_y": null,
            "padding": null,
            "right": null,
            "top": null,
            "visibility": null,
            "width": null
          }
        },
        "be53c232e6d44449ab0ccf181639576e": {
          "model_module": "@jupyter-widgets/controls",
          "model_name": "DescriptionStyleModel",
          "model_module_version": "1.5.0",
          "state": {
            "_model_module": "@jupyter-widgets/controls",
            "_model_module_version": "1.5.0",
            "_model_name": "DescriptionStyleModel",
            "_view_count": null,
            "_view_module": "@jupyter-widgets/base",
            "_view_module_version": "1.2.0",
            "_view_name": "StyleView",
            "description_width": ""
          }
        },
        "00bde4a3bb234caabcb4e74951f3e88d": {
          "model_module": "@jupyter-widgets/controls",
          "model_name": "HBoxModel",
          "model_module_version": "1.5.0",
          "state": {
            "_dom_classes": [],
            "_model_module": "@jupyter-widgets/controls",
            "_model_module_version": "1.5.0",
            "_model_name": "HBoxModel",
            "_view_count": null,
            "_view_module": "@jupyter-widgets/controls",
            "_view_module_version": "1.5.0",
            "_view_name": "HBoxView",
            "box_style": "",
            "children": [
              "IPY_MODEL_72586446803b43f78c12c3ef05229622",
              "IPY_MODEL_49a60717eb9b4c3eb2d100dc41594907",
              "IPY_MODEL_aa9e29eda5884529aa5ab5a41684ecac"
            ],
            "layout": "IPY_MODEL_6fbbd33b5f7948d8a11fcbd981a4a5c2"
          }
        },
        "72586446803b43f78c12c3ef05229622": {
          "model_module": "@jupyter-widgets/controls",
          "model_name": "HTMLModel",
          "model_module_version": "1.5.0",
          "state": {
            "_dom_classes": [],
            "_model_module": "@jupyter-widgets/controls",
            "_model_module_version": "1.5.0",
            "_model_name": "HTMLModel",
            "_view_count": null,
            "_view_module": "@jupyter-widgets/controls",
            "_view_module_version": "1.5.0",
            "_view_name": "HTMLView",
            "description": "",
            "description_tooltip": null,
            "layout": "IPY_MODEL_9bd7b4b7166244049036cbce55960312",
            "placeholder": "​",
            "style": "IPY_MODEL_c0ffce9944264e29ad6f20f6c9a19c54",
            "value": "model-00001-of-00003.safetensors: 100%"
          }
        },
        "49a60717eb9b4c3eb2d100dc41594907": {
          "model_module": "@jupyter-widgets/controls",
          "model_name": "FloatProgressModel",
          "model_module_version": "1.5.0",
          "state": {
            "_dom_classes": [],
            "_model_module": "@jupyter-widgets/controls",
            "_model_module_version": "1.5.0",
            "_model_name": "FloatProgressModel",
            "_view_count": null,
            "_view_module": "@jupyter-widgets/controls",
            "_view_module_version": "1.5.0",
            "_view_name": "ProgressView",
            "bar_style": "success",
            "description": "",
            "description_tooltip": null,
            "layout": "IPY_MODEL_5ffc37640d494dbe99b358d2b68c5f49",
            "max": 4964157528,
            "min": 0,
            "orientation": "horizontal",
            "style": "IPY_MODEL_4da8f1ab58454bf4b5752b2c654609bb",
            "value": 4964157528
          }
        },
        "aa9e29eda5884529aa5ab5a41684ecac": {
          "model_module": "@jupyter-widgets/controls",
          "model_name": "HTMLModel",
          "model_module_version": "1.5.0",
          "state": {
            "_dom_classes": [],
            "_model_module": "@jupyter-widgets/controls",
            "_model_module_version": "1.5.0",
            "_model_name": "HTMLModel",
            "_view_count": null,
            "_view_module": "@jupyter-widgets/controls",
            "_view_module_version": "1.5.0",
            "_view_name": "HTMLView",
            "description": "",
            "description_tooltip": null,
            "layout": "IPY_MODEL_950013d43327495dbebe39035d201e12",
            "placeholder": "​",
            "style": "IPY_MODEL_d01f5b3d00c94d588f4cce2a4d546c80",
            "value": " 4.96G/4.96G [00:53&lt;00:00, 184MB/s]"
          }
        },
        "6fbbd33b5f7948d8a11fcbd981a4a5c2": {
          "model_module": "@jupyter-widgets/base",
          "model_name": "LayoutModel",
          "model_module_version": "1.2.0",
          "state": {
            "_model_module": "@jupyter-widgets/base",
            "_model_module_version": "1.2.0",
            "_model_name": "LayoutModel",
            "_view_count": null,
            "_view_module": "@jupyter-widgets/base",
            "_view_module_version": "1.2.0",
            "_view_name": "LayoutView",
            "align_content": null,
            "align_items": null,
            "align_self": null,
            "border": null,
            "bottom": null,
            "display": null,
            "flex": null,
            "flex_flow": null,
            "grid_area": null,
            "grid_auto_columns": null,
            "grid_auto_flow": null,
            "grid_auto_rows": null,
            "grid_column": null,
            "grid_gap": null,
            "grid_row": null,
            "grid_template_areas": null,
            "grid_template_columns": null,
            "grid_template_rows": null,
            "height": null,
            "justify_content": null,
            "justify_items": null,
            "left": null,
            "margin": null,
            "max_height": null,
            "max_width": null,
            "min_height": null,
            "min_width": null,
            "object_fit": null,
            "object_position": null,
            "order": null,
            "overflow": null,
            "overflow_x": null,
            "overflow_y": null,
            "padding": null,
            "right": null,
            "top": null,
            "visibility": null,
            "width": null
          }
        },
        "9bd7b4b7166244049036cbce55960312": {
          "model_module": "@jupyter-widgets/base",
          "model_name": "LayoutModel",
          "model_module_version": "1.2.0",
          "state": {
            "_model_module": "@jupyter-widgets/base",
            "_model_module_version": "1.2.0",
            "_model_name": "LayoutModel",
            "_view_count": null,
            "_view_module": "@jupyter-widgets/base",
            "_view_module_version": "1.2.0",
            "_view_name": "LayoutView",
            "align_content": null,
            "align_items": null,
            "align_self": null,
            "border": null,
            "bottom": null,
            "display": null,
            "flex": null,
            "flex_flow": null,
            "grid_area": null,
            "grid_auto_columns": null,
            "grid_auto_flow": null,
            "grid_auto_rows": null,
            "grid_column": null,
            "grid_gap": null,
            "grid_row": null,
            "grid_template_areas": null,
            "grid_template_columns": null,
            "grid_template_rows": null,
            "height": null,
            "justify_content": null,
            "justify_items": null,
            "left": null,
            "margin": null,
            "max_height": null,
            "max_width": null,
            "min_height": null,
            "min_width": null,
            "object_fit": null,
            "object_position": null,
            "order": null,
            "overflow": null,
            "overflow_x": null,
            "overflow_y": null,
            "padding": null,
            "right": null,
            "top": null,
            "visibility": null,
            "width": null
          }
        },
        "c0ffce9944264e29ad6f20f6c9a19c54": {
          "model_module": "@jupyter-widgets/controls",
          "model_name": "DescriptionStyleModel",
          "model_module_version": "1.5.0",
          "state": {
            "_model_module": "@jupyter-widgets/controls",
            "_model_module_version": "1.5.0",
            "_model_name": "DescriptionStyleModel",
            "_view_count": null,
            "_view_module": "@jupyter-widgets/base",
            "_view_module_version": "1.2.0",
            "_view_name": "StyleView",
            "description_width": ""
          }
        },
        "5ffc37640d494dbe99b358d2b68c5f49": {
          "model_module": "@jupyter-widgets/base",
          "model_name": "LayoutModel",
          "model_module_version": "1.2.0",
          "state": {
            "_model_module": "@jupyter-widgets/base",
            "_model_module_version": "1.2.0",
            "_model_name": "LayoutModel",
            "_view_count": null,
            "_view_module": "@jupyter-widgets/base",
            "_view_module_version": "1.2.0",
            "_view_name": "LayoutView",
            "align_content": null,
            "align_items": null,
            "align_self": null,
            "border": null,
            "bottom": null,
            "display": null,
            "flex": null,
            "flex_flow": null,
            "grid_area": null,
            "grid_auto_columns": null,
            "grid_auto_flow": null,
            "grid_auto_rows": null,
            "grid_column": null,
            "grid_gap": null,
            "grid_row": null,
            "grid_template_areas": null,
            "grid_template_columns": null,
            "grid_template_rows": null,
            "height": null,
            "justify_content": null,
            "justify_items": null,
            "left": null,
            "margin": null,
            "max_height": null,
            "max_width": null,
            "min_height": null,
            "min_width": null,
            "object_fit": null,
            "object_position": null,
            "order": null,
            "overflow": null,
            "overflow_x": null,
            "overflow_y": null,
            "padding": null,
            "right": null,
            "top": null,
            "visibility": null,
            "width": null
          }
        },
        "4da8f1ab58454bf4b5752b2c654609bb": {
          "model_module": "@jupyter-widgets/controls",
          "model_name": "ProgressStyleModel",
          "model_module_version": "1.5.0",
          "state": {
            "_model_module": "@jupyter-widgets/controls",
            "_model_module_version": "1.5.0",
            "_model_name": "ProgressStyleModel",
            "_view_count": null,
            "_view_module": "@jupyter-widgets/base",
            "_view_module_version": "1.2.0",
            "_view_name": "StyleView",
            "bar_color": null,
            "description_width": ""
          }
        },
        "950013d43327495dbebe39035d201e12": {
          "model_module": "@jupyter-widgets/base",
          "model_name": "LayoutModel",
          "model_module_version": "1.2.0",
          "state": {
            "_model_module": "@jupyter-widgets/base",
            "_model_module_version": "1.2.0",
            "_model_name": "LayoutModel",
            "_view_count": null,
            "_view_module": "@jupyter-widgets/base",
            "_view_module_version": "1.2.0",
            "_view_name": "LayoutView",
            "align_content": null,
            "align_items": null,
            "align_self": null,
            "border": null,
            "bottom": null,
            "display": null,
            "flex": null,
            "flex_flow": null,
            "grid_area": null,
            "grid_auto_columns": null,
            "grid_auto_flow": null,
            "grid_auto_rows": null,
            "grid_column": null,
            "grid_gap": null,
            "grid_row": null,
            "grid_template_areas": null,
            "grid_template_columns": null,
            "grid_template_rows": null,
            "height": null,
            "justify_content": null,
            "justify_items": null,
            "left": null,
            "margin": null,
            "max_height": null,
            "max_width": null,
            "min_height": null,
            "min_width": null,
            "object_fit": null,
            "object_position": null,
            "order": null,
            "overflow": null,
            "overflow_x": null,
            "overflow_y": null,
            "padding": null,
            "right": null,
            "top": null,
            "visibility": null,
            "width": null
          }
        },
        "d01f5b3d00c94d588f4cce2a4d546c80": {
          "model_module": "@jupyter-widgets/controls",
          "model_name": "DescriptionStyleModel",
          "model_module_version": "1.5.0",
          "state": {
            "_model_module": "@jupyter-widgets/controls",
            "_model_module_version": "1.5.0",
            "_model_name": "DescriptionStyleModel",
            "_view_count": null,
            "_view_module": "@jupyter-widgets/base",
            "_view_module_version": "1.2.0",
            "_view_name": "StyleView",
            "description_width": ""
          }
        },
        "166747a8e23b431392eb08b97c3c83d4": {
          "model_module": "@jupyter-widgets/controls",
          "model_name": "HBoxModel",
          "model_module_version": "1.5.0",
          "state": {
            "_dom_classes": [],
            "_model_module": "@jupyter-widgets/controls",
            "_model_module_version": "1.5.0",
            "_model_name": "HBoxModel",
            "_view_count": null,
            "_view_module": "@jupyter-widgets/controls",
            "_view_module_version": "1.5.0",
            "_view_name": "HBoxView",
            "box_style": "",
            "children": [
              "IPY_MODEL_13f5dcce9ed14c27a2634bcaa3d119c7",
              "IPY_MODEL_44f00235d35e493994a9c90f8f5e0ed0",
              "IPY_MODEL_6867ce0f7c514f58b31811a05dd49562"
            ],
            "layout": "IPY_MODEL_47b8fde0e6354218b7d2f8d17aaa3452"
          }
        },
        "13f5dcce9ed14c27a2634bcaa3d119c7": {
          "model_module": "@jupyter-widgets/controls",
          "model_name": "HTMLModel",
          "model_module_version": "1.5.0",
          "state": {
            "_dom_classes": [],
            "_model_module": "@jupyter-widgets/controls",
            "_model_module_version": "1.5.0",
            "_model_name": "HTMLModel",
            "_view_count": null,
            "_view_module": "@jupyter-widgets/controls",
            "_view_module_version": "1.5.0",
            "_view_name": "HTMLView",
            "description": "",
            "description_tooltip": null,
            "layout": "IPY_MODEL_9f825e1410e74594a2c6e2e2bcc71948",
            "placeholder": "​",
            "style": "IPY_MODEL_a13f10c8e6ea4d44b5bb1f36b3059b79",
            "value": "model-00002-of-00003.safetensors: 100%"
          }
        },
        "44f00235d35e493994a9c90f8f5e0ed0": {
          "model_module": "@jupyter-widgets/controls",
          "model_name": "FloatProgressModel",
          "model_module_version": "1.5.0",
          "state": {
            "_dom_classes": [],
            "_model_module": "@jupyter-widgets/controls",
            "_model_module_version": "1.5.0",
            "_model_name": "FloatProgressModel",
            "_view_count": null,
            "_view_module": "@jupyter-widgets/controls",
            "_view_module_version": "1.5.0",
            "_view_name": "ProgressView",
            "bar_style": "success",
            "description": "",
            "description_tooltip": null,
            "layout": "IPY_MODEL_d16cd0adb0f842e6af4ded7571e3e710",
            "max": 4972563080,
            "min": 0,
            "orientation": "horizontal",
            "style": "IPY_MODEL_cf7f0efb320449a6b8dbfc35d0381ea5",
            "value": 4972563080
          }
        },
        "6867ce0f7c514f58b31811a05dd49562": {
          "model_module": "@jupyter-widgets/controls",
          "model_name": "HTMLModel",
          "model_module_version": "1.5.0",
          "state": {
            "_dom_classes": [],
            "_model_module": "@jupyter-widgets/controls",
            "_model_module_version": "1.5.0",
            "_model_name": "HTMLModel",
            "_view_count": null,
            "_view_module": "@jupyter-widgets/controls",
            "_view_module_version": "1.5.0",
            "_view_name": "HTMLView",
            "description": "",
            "description_tooltip": null,
            "layout": "IPY_MODEL_785e84e117924ed2b5f273fc216b6537",
            "placeholder": "​",
            "style": "IPY_MODEL_010a436240134be88808f5a99587b142",
            "value": " 4.97G/4.97G [01:00&lt;00:00, 176MB/s]"
          }
        },
        "47b8fde0e6354218b7d2f8d17aaa3452": {
          "model_module": "@jupyter-widgets/base",
          "model_name": "LayoutModel",
          "model_module_version": "1.2.0",
          "state": {
            "_model_module": "@jupyter-widgets/base",
            "_model_module_version": "1.2.0",
            "_model_name": "LayoutModel",
            "_view_count": null,
            "_view_module": "@jupyter-widgets/base",
            "_view_module_version": "1.2.0",
            "_view_name": "LayoutView",
            "align_content": null,
            "align_items": null,
            "align_self": null,
            "border": null,
            "bottom": null,
            "display": null,
            "flex": null,
            "flex_flow": null,
            "grid_area": null,
            "grid_auto_columns": null,
            "grid_auto_flow": null,
            "grid_auto_rows": null,
            "grid_column": null,
            "grid_gap": null,
            "grid_row": null,
            "grid_template_areas": null,
            "grid_template_columns": null,
            "grid_template_rows": null,
            "height": null,
            "justify_content": null,
            "justify_items": null,
            "left": null,
            "margin": null,
            "max_height": null,
            "max_width": null,
            "min_height": null,
            "min_width": null,
            "object_fit": null,
            "object_position": null,
            "order": null,
            "overflow": null,
            "overflow_x": null,
            "overflow_y": null,
            "padding": null,
            "right": null,
            "top": null,
            "visibility": null,
            "width": null
          }
        },
        "9f825e1410e74594a2c6e2e2bcc71948": {
          "model_module": "@jupyter-widgets/base",
          "model_name": "LayoutModel",
          "model_module_version": "1.2.0",
          "state": {
            "_model_module": "@jupyter-widgets/base",
            "_model_module_version": "1.2.0",
            "_model_name": "LayoutModel",
            "_view_count": null,
            "_view_module": "@jupyter-widgets/base",
            "_view_module_version": "1.2.0",
            "_view_name": "LayoutView",
            "align_content": null,
            "align_items": null,
            "align_self": null,
            "border": null,
            "bottom": null,
            "display": null,
            "flex": null,
            "flex_flow": null,
            "grid_area": null,
            "grid_auto_columns": null,
            "grid_auto_flow": null,
            "grid_auto_rows": null,
            "grid_column": null,
            "grid_gap": null,
            "grid_row": null,
            "grid_template_areas": null,
            "grid_template_columns": null,
            "grid_template_rows": null,
            "height": null,
            "justify_content": null,
            "justify_items": null,
            "left": null,
            "margin": null,
            "max_height": null,
            "max_width": null,
            "min_height": null,
            "min_width": null,
            "object_fit": null,
            "object_position": null,
            "order": null,
            "overflow": null,
            "overflow_x": null,
            "overflow_y": null,
            "padding": null,
            "right": null,
            "top": null,
            "visibility": null,
            "width": null
          }
        },
        "a13f10c8e6ea4d44b5bb1f36b3059b79": {
          "model_module": "@jupyter-widgets/controls",
          "model_name": "DescriptionStyleModel",
          "model_module_version": "1.5.0",
          "state": {
            "_model_module": "@jupyter-widgets/controls",
            "_model_module_version": "1.5.0",
            "_model_name": "DescriptionStyleModel",
            "_view_count": null,
            "_view_module": "@jupyter-widgets/base",
            "_view_module_version": "1.2.0",
            "_view_name": "StyleView",
            "description_width": ""
          }
        },
        "d16cd0adb0f842e6af4ded7571e3e710": {
          "model_module": "@jupyter-widgets/base",
          "model_name": "LayoutModel",
          "model_module_version": "1.2.0",
          "state": {
            "_model_module": "@jupyter-widgets/base",
            "_model_module_version": "1.2.0",
            "_model_name": "LayoutModel",
            "_view_count": null,
            "_view_module": "@jupyter-widgets/base",
            "_view_module_version": "1.2.0",
            "_view_name": "LayoutView",
            "align_content": null,
            "align_items": null,
            "align_self": null,
            "border": null,
            "bottom": null,
            "display": null,
            "flex": null,
            "flex_flow": null,
            "grid_area": null,
            "grid_auto_columns": null,
            "grid_auto_flow": null,
            "grid_auto_rows": null,
            "grid_column": null,
            "grid_gap": null,
            "grid_row": null,
            "grid_template_areas": null,
            "grid_template_columns": null,
            "grid_template_rows": null,
            "height": null,
            "justify_content": null,
            "justify_items": null,
            "left": null,
            "margin": null,
            "max_height": null,
            "max_width": null,
            "min_height": null,
            "min_width": null,
            "object_fit": null,
            "object_position": null,
            "order": null,
            "overflow": null,
            "overflow_x": null,
            "overflow_y": null,
            "padding": null,
            "right": null,
            "top": null,
            "visibility": null,
            "width": null
          }
        },
        "cf7f0efb320449a6b8dbfc35d0381ea5": {
          "model_module": "@jupyter-widgets/controls",
          "model_name": "ProgressStyleModel",
          "model_module_version": "1.5.0",
          "state": {
            "_model_module": "@jupyter-widgets/controls",
            "_model_module_version": "1.5.0",
            "_model_name": "ProgressStyleModel",
            "_view_count": null,
            "_view_module": "@jupyter-widgets/base",
            "_view_module_version": "1.2.0",
            "_view_name": "StyleView",
            "bar_color": null,
            "description_width": ""
          }
        },
        "785e84e117924ed2b5f273fc216b6537": {
          "model_module": "@jupyter-widgets/base",
          "model_name": "LayoutModel",
          "model_module_version": "1.2.0",
          "state": {
            "_model_module": "@jupyter-widgets/base",
            "_model_module_version": "1.2.0",
            "_model_name": "LayoutModel",
            "_view_count": null,
            "_view_module": "@jupyter-widgets/base",
            "_view_module_version": "1.2.0",
            "_view_name": "LayoutView",
            "align_content": null,
            "align_items": null,
            "align_self": null,
            "border": null,
            "bottom": null,
            "display": null,
            "flex": null,
            "flex_flow": null,
            "grid_area": null,
            "grid_auto_columns": null,
            "grid_auto_flow": null,
            "grid_auto_rows": null,
            "grid_column": null,
            "grid_gap": null,
            "grid_row": null,
            "grid_template_areas": null,
            "grid_template_columns": null,
            "grid_template_rows": null,
            "height": null,
            "justify_content": null,
            "justify_items": null,
            "left": null,
            "margin": null,
            "max_height": null,
            "max_width": null,
            "min_height": null,
            "min_width": null,
            "object_fit": null,
            "object_position": null,
            "order": null,
            "overflow": null,
            "overflow_x": null,
            "overflow_y": null,
            "padding": null,
            "right": null,
            "top": null,
            "visibility": null,
            "width": null
          }
        },
        "010a436240134be88808f5a99587b142": {
          "model_module": "@jupyter-widgets/controls",
          "model_name": "DescriptionStyleModel",
          "model_module_version": "1.5.0",
          "state": {
            "_model_module": "@jupyter-widgets/controls",
            "_model_module_version": "1.5.0",
            "_model_name": "DescriptionStyleModel",
            "_view_count": null,
            "_view_module": "@jupyter-widgets/base",
            "_view_module_version": "1.2.0",
            "_view_name": "StyleView",
            "description_width": ""
          }
        },
        "060bf3eec24c4128be32b671cb399a06": {
          "model_module": "@jupyter-widgets/controls",
          "model_name": "HBoxModel",
          "model_module_version": "1.5.0",
          "state": {
            "_dom_classes": [],
            "_model_module": "@jupyter-widgets/controls",
            "_model_module_version": "1.5.0",
            "_model_name": "HBoxModel",
            "_view_count": null,
            "_view_module": "@jupyter-widgets/controls",
            "_view_module_version": "1.5.0",
            "_view_name": "HBoxView",
            "box_style": "",
            "children": [
              "IPY_MODEL_385760ebdd7843f2a24677e494e6f1a7",
              "IPY_MODEL_1c8a088a842b43c98b371d2a247d4d20",
              "IPY_MODEL_42a6abf1bcd947f58a6689856311ae02"
            ],
            "layout": "IPY_MODEL_9f9bb8bafba147feb27e618c1787bc48"
          }
        },
        "385760ebdd7843f2a24677e494e6f1a7": {
          "model_module": "@jupyter-widgets/controls",
          "model_name": "HTMLModel",
          "model_module_version": "1.5.0",
          "state": {
            "_dom_classes": [],
            "_model_module": "@jupyter-widgets/controls",
            "_model_module_version": "1.5.0",
            "_model_name": "HTMLModel",
            "_view_count": null,
            "_view_module": "@jupyter-widgets/controls",
            "_view_module_version": "1.5.0",
            "_view_name": "HTMLView",
            "description": "",
            "description_tooltip": null,
            "layout": "IPY_MODEL_16a02e735cfd42c18709b71567db38ef",
            "placeholder": "​",
            "style": "IPY_MODEL_35302f7c36754946ac013d5d252fdf22",
            "value": "model-00003-of-00003.safetensors: 100%"
          }
        },
        "1c8a088a842b43c98b371d2a247d4d20": {
          "model_module": "@jupyter-widgets/controls",
          "model_name": "FloatProgressModel",
          "model_module_version": "1.5.0",
          "state": {
            "_dom_classes": [],
            "_model_module": "@jupyter-widgets/controls",
            "_model_module_version": "1.5.0",
            "_model_name": "FloatProgressModel",
            "_view_count": null,
            "_view_module": "@jupyter-widgets/controls",
            "_view_module_version": "1.5.0",
            "_view_name": "ProgressView",
            "bar_style": "success",
            "description": "",
            "description_tooltip": null,
            "layout": "IPY_MODEL_0d6f0f1d053f4924ba4694135b8c7a23",
            "max": 3607270280,
            "min": 0,
            "orientation": "horizontal",
            "style": "IPY_MODEL_2b9c55d2f69f4f2ca0187345c6228fd2",
            "value": 3607270280
          }
        },
        "42a6abf1bcd947f58a6689856311ae02": {
          "model_module": "@jupyter-widgets/controls",
          "model_name": "HTMLModel",
          "model_module_version": "1.5.0",
          "state": {
            "_dom_classes": [],
            "_model_module": "@jupyter-widgets/controls",
            "_model_module_version": "1.5.0",
            "_model_name": "HTMLModel",
            "_view_count": null,
            "_view_module": "@jupyter-widgets/controls",
            "_view_module_version": "1.5.0",
            "_view_name": "HTMLView",
            "description": "",
            "description_tooltip": null,
            "layout": "IPY_MODEL_55ce5df1e09945d29bd0c626939148e0",
            "placeholder": "​",
            "style": "IPY_MODEL_78c6f07c6e5e4bad8cdab40e79bf6f39",
            "value": " 3.61G/3.61G [00:34&lt;00:00, 177MB/s]"
          }
        },
        "9f9bb8bafba147feb27e618c1787bc48": {
          "model_module": "@jupyter-widgets/base",
          "model_name": "LayoutModel",
          "model_module_version": "1.2.0",
          "state": {
            "_model_module": "@jupyter-widgets/base",
            "_model_module_version": "1.2.0",
            "_model_name": "LayoutModel",
            "_view_count": null,
            "_view_module": "@jupyter-widgets/base",
            "_view_module_version": "1.2.0",
            "_view_name": "LayoutView",
            "align_content": null,
            "align_items": null,
            "align_self": null,
            "border": null,
            "bottom": null,
            "display": null,
            "flex": null,
            "flex_flow": null,
            "grid_area": null,
            "grid_auto_columns": null,
            "grid_auto_flow": null,
            "grid_auto_rows": null,
            "grid_column": null,
            "grid_gap": null,
            "grid_row": null,
            "grid_template_areas": null,
            "grid_template_columns": null,
            "grid_template_rows": null,
            "height": null,
            "justify_content": null,
            "justify_items": null,
            "left": null,
            "margin": null,
            "max_height": null,
            "max_width": null,
            "min_height": null,
            "min_width": null,
            "object_fit": null,
            "object_position": null,
            "order": null,
            "overflow": null,
            "overflow_x": null,
            "overflow_y": null,
            "padding": null,
            "right": null,
            "top": null,
            "visibility": null,
            "width": null
          }
        },
        "16a02e735cfd42c18709b71567db38ef": {
          "model_module": "@jupyter-widgets/base",
          "model_name": "LayoutModel",
          "model_module_version": "1.2.0",
          "state": {
            "_model_module": "@jupyter-widgets/base",
            "_model_module_version": "1.2.0",
            "_model_name": "LayoutModel",
            "_view_count": null,
            "_view_module": "@jupyter-widgets/base",
            "_view_module_version": "1.2.0",
            "_view_name": "LayoutView",
            "align_content": null,
            "align_items": null,
            "align_self": null,
            "border": null,
            "bottom": null,
            "display": null,
            "flex": null,
            "flex_flow": null,
            "grid_area": null,
            "grid_auto_columns": null,
            "grid_auto_flow": null,
            "grid_auto_rows": null,
            "grid_column": null,
            "grid_gap": null,
            "grid_row": null,
            "grid_template_areas": null,
            "grid_template_columns": null,
            "grid_template_rows": null,
            "height": null,
            "justify_content": null,
            "justify_items": null,
            "left": null,
            "margin": null,
            "max_height": null,
            "max_width": null,
            "min_height": null,
            "min_width": null,
            "object_fit": null,
            "object_position": null,
            "order": null,
            "overflow": null,
            "overflow_x": null,
            "overflow_y": null,
            "padding": null,
            "right": null,
            "top": null,
            "visibility": null,
            "width": null
          }
        },
        "35302f7c36754946ac013d5d252fdf22": {
          "model_module": "@jupyter-widgets/controls",
          "model_name": "DescriptionStyleModel",
          "model_module_version": "1.5.0",
          "state": {
            "_model_module": "@jupyter-widgets/controls",
            "_model_module_version": "1.5.0",
            "_model_name": "DescriptionStyleModel",
            "_view_count": null,
            "_view_module": "@jupyter-widgets/base",
            "_view_module_version": "1.2.0",
            "_view_name": "StyleView",
            "description_width": ""
          }
        },
        "0d6f0f1d053f4924ba4694135b8c7a23": {
          "model_module": "@jupyter-widgets/base",
          "model_name": "LayoutModel",
          "model_module_version": "1.2.0",
          "state": {
            "_model_module": "@jupyter-widgets/base",
            "_model_module_version": "1.2.0",
            "_model_name": "LayoutModel",
            "_view_count": null,
            "_view_module": "@jupyter-widgets/base",
            "_view_module_version": "1.2.0",
            "_view_name": "LayoutView",
            "align_content": null,
            "align_items": null,
            "align_self": null,
            "border": null,
            "bottom": null,
            "display": null,
            "flex": null,
            "flex_flow": null,
            "grid_area": null,
            "grid_auto_columns": null,
            "grid_auto_flow": null,
            "grid_auto_rows": null,
            "grid_column": null,
            "grid_gap": null,
            "grid_row": null,
            "grid_template_areas": null,
            "grid_template_columns": null,
            "grid_template_rows": null,
            "height": null,
            "justify_content": null,
            "justify_items": null,
            "left": null,
            "margin": null,
            "max_height": null,
            "max_width": null,
            "min_height": null,
            "min_width": null,
            "object_fit": null,
            "object_position": null,
            "order": null,
            "overflow": null,
            "overflow_x": null,
            "overflow_y": null,
            "padding": null,
            "right": null,
            "top": null,
            "visibility": null,
            "width": null
          }
        },
        "2b9c55d2f69f4f2ca0187345c6228fd2": {
          "model_module": "@jupyter-widgets/controls",
          "model_name": "ProgressStyleModel",
          "model_module_version": "1.5.0",
          "state": {
            "_model_module": "@jupyter-widgets/controls",
            "_model_module_version": "1.5.0",
            "_model_name": "ProgressStyleModel",
            "_view_count": null,
            "_view_module": "@jupyter-widgets/base",
            "_view_module_version": "1.2.0",
            "_view_name": "StyleView",
            "bar_color": null,
            "description_width": ""
          }
        },
        "55ce5df1e09945d29bd0c626939148e0": {
          "model_module": "@jupyter-widgets/base",
          "model_name": "LayoutModel",
          "model_module_version": "1.2.0",
          "state": {
            "_model_module": "@jupyter-widgets/base",
            "_model_module_version": "1.2.0",
            "_model_name": "LayoutModel",
            "_view_count": null,
            "_view_module": "@jupyter-widgets/base",
            "_view_module_version": "1.2.0",
            "_view_name": "LayoutView",
            "align_content": null,
            "align_items": null,
            "align_self": null,
            "border": null,
            "bottom": null,
            "display": null,
            "flex": null,
            "flex_flow": null,
            "grid_area": null,
            "grid_auto_columns": null,
            "grid_auto_flow": null,
            "grid_auto_rows": null,
            "grid_column": null,
            "grid_gap": null,
            "grid_row": null,
            "grid_template_areas": null,
            "grid_template_columns": null,
            "grid_template_rows": null,
            "height": null,
            "justify_content": null,
            "justify_items": null,
            "left": null,
            "margin": null,
            "max_height": null,
            "max_width": null,
            "min_height": null,
            "min_width": null,
            "object_fit": null,
            "object_position": null,
            "order": null,
            "overflow": null,
            "overflow_x": null,
            "overflow_y": null,
            "padding": null,
            "right": null,
            "top": null,
            "visibility": null,
            "width": null
          }
        },
        "78c6f07c6e5e4bad8cdab40e79bf6f39": {
          "model_module": "@jupyter-widgets/controls",
          "model_name": "DescriptionStyleModel",
          "model_module_version": "1.5.0",
          "state": {
            "_model_module": "@jupyter-widgets/controls",
            "_model_module_version": "1.5.0",
            "_model_name": "DescriptionStyleModel",
            "_view_count": null,
            "_view_module": "@jupyter-widgets/base",
            "_view_module_version": "1.2.0",
            "_view_name": "StyleView",
            "description_width": ""
          }
        },
        "da7c7c1fb3454ef88c1b757e792b8585": {
          "model_module": "@jupyter-widgets/controls",
          "model_name": "HBoxModel",
          "model_module_version": "1.5.0",
          "state": {
            "_dom_classes": [],
            "_model_module": "@jupyter-widgets/controls",
            "_model_module_version": "1.5.0",
            "_model_name": "HBoxModel",
            "_view_count": null,
            "_view_module": "@jupyter-widgets/controls",
            "_view_module_version": "1.5.0",
            "_view_name": "HBoxView",
            "box_style": "",
            "children": [
              "IPY_MODEL_9e275bd30a244546b6486fc5d1073e3a",
              "IPY_MODEL_1be232a7c63648a78245cc9ce5be0d4c",
              "IPY_MODEL_8f196a98d4ae4d4fb5a1897adb054897"
            ],
            "layout": "IPY_MODEL_780054afb78a424fa5fa1283ddddc350"
          }
        },
        "9e275bd30a244546b6486fc5d1073e3a": {
          "model_module": "@jupyter-widgets/controls",
          "model_name": "HTMLModel",
          "model_module_version": "1.5.0",
          "state": {
            "_dom_classes": [],
            "_model_module": "@jupyter-widgets/controls",
            "_model_module_version": "1.5.0",
            "_model_name": "HTMLModel",
            "_view_count": null,
            "_view_module": "@jupyter-widgets/controls",
            "_view_module_version": "1.5.0",
            "_view_name": "HTMLView",
            "description": "",
            "description_tooltip": null,
            "layout": "IPY_MODEL_56e4fa86a6f84141892f0b41b76a9e12",
            "placeholder": "​",
            "style": "IPY_MODEL_6015b102a4ff4b8dacc793bb30c167d0",
            "value": "Loading checkpoint shards: 100%"
          }
        },
        "1be232a7c63648a78245cc9ce5be0d4c": {
          "model_module": "@jupyter-widgets/controls",
          "model_name": "FloatProgressModel",
          "model_module_version": "1.5.0",
          "state": {
            "_dom_classes": [],
            "_model_module": "@jupyter-widgets/controls",
            "_model_module_version": "1.5.0",
            "_model_name": "FloatProgressModel",
            "_view_count": null,
            "_view_module": "@jupyter-widgets/controls",
            "_view_module_version": "1.5.0",
            "_view_name": "ProgressView",
            "bar_style": "success",
            "description": "",
            "description_tooltip": null,
            "layout": "IPY_MODEL_ebc7e02d8a3545ab8b44b1aaf08b068c",
            "max": 3,
            "min": 0,
            "orientation": "horizontal",
            "style": "IPY_MODEL_553addb8060e4d9bac453828952f1d36",
            "value": 3
          }
        },
        "8f196a98d4ae4d4fb5a1897adb054897": {
          "model_module": "@jupyter-widgets/controls",
          "model_name": "HTMLModel",
          "model_module_version": "1.5.0",
          "state": {
            "_dom_classes": [],
            "_model_module": "@jupyter-widgets/controls",
            "_model_module_version": "1.5.0",
            "_model_name": "HTMLModel",
            "_view_count": null,
            "_view_module": "@jupyter-widgets/controls",
            "_view_module_version": "1.5.0",
            "_view_name": "HTMLView",
            "description": "",
            "description_tooltip": null,
            "layout": "IPY_MODEL_a587d9371f8c4deaa7fa511a52ca1593",
            "placeholder": "​",
            "style": "IPY_MODEL_9a36ab1dd32b472c9505561ea54d700b",
            "value": " 3/3 [00:27&lt;00:00,  7.11s/it]"
          }
        },
        "780054afb78a424fa5fa1283ddddc350": {
          "model_module": "@jupyter-widgets/base",
          "model_name": "LayoutModel",
          "model_module_version": "1.2.0",
          "state": {
            "_model_module": "@jupyter-widgets/base",
            "_model_module_version": "1.2.0",
            "_model_name": "LayoutModel",
            "_view_count": null,
            "_view_module": "@jupyter-widgets/base",
            "_view_module_version": "1.2.0",
            "_view_name": "LayoutView",
            "align_content": null,
            "align_items": null,
            "align_self": null,
            "border": null,
            "bottom": null,
            "display": null,
            "flex": null,
            "flex_flow": null,
            "grid_area": null,
            "grid_auto_columns": null,
            "grid_auto_flow": null,
            "grid_auto_rows": null,
            "grid_column": null,
            "grid_gap": null,
            "grid_row": null,
            "grid_template_areas": null,
            "grid_template_columns": null,
            "grid_template_rows": null,
            "height": null,
            "justify_content": null,
            "justify_items": null,
            "left": null,
            "margin": null,
            "max_height": null,
            "max_width": null,
            "min_height": null,
            "min_width": null,
            "object_fit": null,
            "object_position": null,
            "order": null,
            "overflow": null,
            "overflow_x": null,
            "overflow_y": null,
            "padding": null,
            "right": null,
            "top": null,
            "visibility": null,
            "width": null
          }
        },
        "56e4fa86a6f84141892f0b41b76a9e12": {
          "model_module": "@jupyter-widgets/base",
          "model_name": "LayoutModel",
          "model_module_version": "1.2.0",
          "state": {
            "_model_module": "@jupyter-widgets/base",
            "_model_module_version": "1.2.0",
            "_model_name": "LayoutModel",
            "_view_count": null,
            "_view_module": "@jupyter-widgets/base",
            "_view_module_version": "1.2.0",
            "_view_name": "LayoutView",
            "align_content": null,
            "align_items": null,
            "align_self": null,
            "border": null,
            "bottom": null,
            "display": null,
            "flex": null,
            "flex_flow": null,
            "grid_area": null,
            "grid_auto_columns": null,
            "grid_auto_flow": null,
            "grid_auto_rows": null,
            "grid_column": null,
            "grid_gap": null,
            "grid_row": null,
            "grid_template_areas": null,
            "grid_template_columns": null,
            "grid_template_rows": null,
            "height": null,
            "justify_content": null,
            "justify_items": null,
            "left": null,
            "margin": null,
            "max_height": null,
            "max_width": null,
            "min_height": null,
            "min_width": null,
            "object_fit": null,
            "object_position": null,
            "order": null,
            "overflow": null,
            "overflow_x": null,
            "overflow_y": null,
            "padding": null,
            "right": null,
            "top": null,
            "visibility": null,
            "width": null
          }
        },
        "6015b102a4ff4b8dacc793bb30c167d0": {
          "model_module": "@jupyter-widgets/controls",
          "model_name": "DescriptionStyleModel",
          "model_module_version": "1.5.0",
          "state": {
            "_model_module": "@jupyter-widgets/controls",
            "_model_module_version": "1.5.0",
            "_model_name": "DescriptionStyleModel",
            "_view_count": null,
            "_view_module": "@jupyter-widgets/base",
            "_view_module_version": "1.2.0",
            "_view_name": "StyleView",
            "description_width": ""
          }
        },
        "ebc7e02d8a3545ab8b44b1aaf08b068c": {
          "model_module": "@jupyter-widgets/base",
          "model_name": "LayoutModel",
          "model_module_version": "1.2.0",
          "state": {
            "_model_module": "@jupyter-widgets/base",
            "_model_module_version": "1.2.0",
            "_model_name": "LayoutModel",
            "_view_count": null,
            "_view_module": "@jupyter-widgets/base",
            "_view_module_version": "1.2.0",
            "_view_name": "LayoutView",
            "align_content": null,
            "align_items": null,
            "align_self": null,
            "border": null,
            "bottom": null,
            "display": null,
            "flex": null,
            "flex_flow": null,
            "grid_area": null,
            "grid_auto_columns": null,
            "grid_auto_flow": null,
            "grid_auto_rows": null,
            "grid_column": null,
            "grid_gap": null,
            "grid_row": null,
            "grid_template_areas": null,
            "grid_template_columns": null,
            "grid_template_rows": null,
            "height": null,
            "justify_content": null,
            "justify_items": null,
            "left": null,
            "margin": null,
            "max_height": null,
            "max_width": null,
            "min_height": null,
            "min_width": null,
            "object_fit": null,
            "object_position": null,
            "order": null,
            "overflow": null,
            "overflow_x": null,
            "overflow_y": null,
            "padding": null,
            "right": null,
            "top": null,
            "visibility": null,
            "width": null
          }
        },
        "553addb8060e4d9bac453828952f1d36": {
          "model_module": "@jupyter-widgets/controls",
          "model_name": "ProgressStyleModel",
          "model_module_version": "1.5.0",
          "state": {
            "_model_module": "@jupyter-widgets/controls",
            "_model_module_version": "1.5.0",
            "_model_name": "ProgressStyleModel",
            "_view_count": null,
            "_view_module": "@jupyter-widgets/base",
            "_view_module_version": "1.2.0",
            "_view_name": "StyleView",
            "bar_color": null,
            "description_width": ""
          }
        },
        "a587d9371f8c4deaa7fa511a52ca1593": {
          "model_module": "@jupyter-widgets/base",
          "model_name": "LayoutModel",
          "model_module_version": "1.2.0",
          "state": {
            "_model_module": "@jupyter-widgets/base",
            "_model_module_version": "1.2.0",
            "_model_name": "LayoutModel",
            "_view_count": null,
            "_view_module": "@jupyter-widgets/base",
            "_view_module_version": "1.2.0",
            "_view_name": "LayoutView",
            "align_content": null,
            "align_items": null,
            "align_self": null,
            "border": null,
            "bottom": null,
            "display": null,
            "flex": null,
            "flex_flow": null,
            "grid_area": null,
            "grid_auto_columns": null,
            "grid_auto_flow": null,
            "grid_auto_rows": null,
            "grid_column": null,
            "grid_gap": null,
            "grid_row": null,
            "grid_template_areas": null,
            "grid_template_columns": null,
            "grid_template_rows": null,
            "height": null,
            "justify_content": null,
            "justify_items": null,
            "left": null,
            "margin": null,
            "max_height": null,
            "max_width": null,
            "min_height": null,
            "min_width": null,
            "object_fit": null,
            "object_position": null,
            "order": null,
            "overflow": null,
            "overflow_x": null,
            "overflow_y": null,
            "padding": null,
            "right": null,
            "top": null,
            "visibility": null,
            "width": null
          }
        },
        "9a36ab1dd32b472c9505561ea54d700b": {
          "model_module": "@jupyter-widgets/controls",
          "model_name": "DescriptionStyleModel",
          "model_module_version": "1.5.0",
          "state": {
            "_model_module": "@jupyter-widgets/controls",
            "_model_module_version": "1.5.0",
            "_model_name": "DescriptionStyleModel",
            "_view_count": null,
            "_view_module": "@jupyter-widgets/base",
            "_view_module_version": "1.2.0",
            "_view_name": "StyleView",
            "description_width": ""
          }
        },
        "7472c31f4c6e4963afd42aad5dc4a586": {
          "model_module": "@jupyter-widgets/controls",
          "model_name": "HBoxModel",
          "model_module_version": "1.5.0",
          "state": {
            "_dom_classes": [],
            "_model_module": "@jupyter-widgets/controls",
            "_model_module_version": "1.5.0",
            "_model_name": "HBoxModel",
            "_view_count": null,
            "_view_module": "@jupyter-widgets/controls",
            "_view_module_version": "1.5.0",
            "_view_name": "HBoxView",
            "box_style": "",
            "children": [
              "IPY_MODEL_9575885331cf449c80049a35ec8e7677",
              "IPY_MODEL_5cfff349d1b048b5b1c82d20734c69f2",
              "IPY_MODEL_6eaf85a51469435a8838d38809fd2542"
            ],
            "layout": "IPY_MODEL_dc53fc7266a94b35bc330fd211427cd5"
          }
        },
        "9575885331cf449c80049a35ec8e7677": {
          "model_module": "@jupyter-widgets/controls",
          "model_name": "HTMLModel",
          "model_module_version": "1.5.0",
          "state": {
            "_dom_classes": [],
            "_model_module": "@jupyter-widgets/controls",
            "_model_module_version": "1.5.0",
            "_model_name": "HTMLModel",
            "_view_count": null,
            "_view_module": "@jupyter-widgets/controls",
            "_view_module_version": "1.5.0",
            "_view_name": "HTMLView",
            "description": "",
            "description_tooltip": null,
            "layout": "IPY_MODEL_aa5cf92b91fa4bdfadcf9747f4c98568",
            "placeholder": "​",
            "style": "IPY_MODEL_965f94a1559a4325a3353b8accd069e3",
            "value": "generation_config.json: 100%"
          }
        },
        "5cfff349d1b048b5b1c82d20734c69f2": {
          "model_module": "@jupyter-widgets/controls",
          "model_name": "FloatProgressModel",
          "model_module_version": "1.5.0",
          "state": {
            "_dom_classes": [],
            "_model_module": "@jupyter-widgets/controls",
            "_model_module_version": "1.5.0",
            "_model_name": "FloatProgressModel",
            "_view_count": null,
            "_view_module": "@jupyter-widgets/controls",
            "_view_module_version": "1.5.0",
            "_view_name": "ProgressView",
            "bar_style": "success",
            "description": "",
            "description_tooltip": null,
            "layout": "IPY_MODEL_ace5eb9b96c7425b962929599b34de6d",
            "max": 183,
            "min": 0,
            "orientation": "horizontal",
            "style": "IPY_MODEL_7bc3da7aa1af480e97e0e2f2a64c0b6b",
            "value": 183
          }
        },
        "6eaf85a51469435a8838d38809fd2542": {
          "model_module": "@jupyter-widgets/controls",
          "model_name": "HTMLModel",
          "model_module_version": "1.5.0",
          "state": {
            "_dom_classes": [],
            "_model_module": "@jupyter-widgets/controls",
            "_model_module_version": "1.5.0",
            "_model_name": "HTMLModel",
            "_view_count": null,
            "_view_module": "@jupyter-widgets/controls",
            "_view_module_version": "1.5.0",
            "_view_name": "HTMLView",
            "description": "",
            "description_tooltip": null,
            "layout": "IPY_MODEL_c8c071e3910a45e984fc1004eafe30fc",
            "placeholder": "​",
            "style": "IPY_MODEL_a18bdc2fef464c78be178a9ff35f5e83",
            "value": " 183/183 [00:00&lt;00:00, 9.21kB/s]"
          }
        },
        "dc53fc7266a94b35bc330fd211427cd5": {
          "model_module": "@jupyter-widgets/base",
          "model_name": "LayoutModel",
          "model_module_version": "1.2.0",
          "state": {
            "_model_module": "@jupyter-widgets/base",
            "_model_module_version": "1.2.0",
            "_model_name": "LayoutModel",
            "_view_count": null,
            "_view_module": "@jupyter-widgets/base",
            "_view_module_version": "1.2.0",
            "_view_name": "LayoutView",
            "align_content": null,
            "align_items": null,
            "align_self": null,
            "border": null,
            "bottom": null,
            "display": null,
            "flex": null,
            "flex_flow": null,
            "grid_area": null,
            "grid_auto_columns": null,
            "grid_auto_flow": null,
            "grid_auto_rows": null,
            "grid_column": null,
            "grid_gap": null,
            "grid_row": null,
            "grid_template_areas": null,
            "grid_template_columns": null,
            "grid_template_rows": null,
            "height": null,
            "justify_content": null,
            "justify_items": null,
            "left": null,
            "margin": null,
            "max_height": null,
            "max_width": null,
            "min_height": null,
            "min_width": null,
            "object_fit": null,
            "object_position": null,
            "order": null,
            "overflow": null,
            "overflow_x": null,
            "overflow_y": null,
            "padding": null,
            "right": null,
            "top": null,
            "visibility": null,
            "width": null
          }
        },
        "aa5cf92b91fa4bdfadcf9747f4c98568": {
          "model_module": "@jupyter-widgets/base",
          "model_name": "LayoutModel",
          "model_module_version": "1.2.0",
          "state": {
            "_model_module": "@jupyter-widgets/base",
            "_model_module_version": "1.2.0",
            "_model_name": "LayoutModel",
            "_view_count": null,
            "_view_module": "@jupyter-widgets/base",
            "_view_module_version": "1.2.0",
            "_view_name": "LayoutView",
            "align_content": null,
            "align_items": null,
            "align_self": null,
            "border": null,
            "bottom": null,
            "display": null,
            "flex": null,
            "flex_flow": null,
            "grid_area": null,
            "grid_auto_columns": null,
            "grid_auto_flow": null,
            "grid_auto_rows": null,
            "grid_column": null,
            "grid_gap": null,
            "grid_row": null,
            "grid_template_areas": null,
            "grid_template_columns": null,
            "grid_template_rows": null,
            "height": null,
            "justify_content": null,
            "justify_items": null,
            "left": null,
            "margin": null,
            "max_height": null,
            "max_width": null,
            "min_height": null,
            "min_width": null,
            "object_fit": null,
            "object_position": null,
            "order": null,
            "overflow": null,
            "overflow_x": null,
            "overflow_y": null,
            "padding": null,
            "right": null,
            "top": null,
            "visibility": null,
            "width": null
          }
        },
        "965f94a1559a4325a3353b8accd069e3": {
          "model_module": "@jupyter-widgets/controls",
          "model_name": "DescriptionStyleModel",
          "model_module_version": "1.5.0",
          "state": {
            "_model_module": "@jupyter-widgets/controls",
            "_model_module_version": "1.5.0",
            "_model_name": "DescriptionStyleModel",
            "_view_count": null,
            "_view_module": "@jupyter-widgets/base",
            "_view_module_version": "1.2.0",
            "_view_name": "StyleView",
            "description_width": ""
          }
        },
        "ace5eb9b96c7425b962929599b34de6d": {
          "model_module": "@jupyter-widgets/base",
          "model_name": "LayoutModel",
          "model_module_version": "1.2.0",
          "state": {
            "_model_module": "@jupyter-widgets/base",
            "_model_module_version": "1.2.0",
            "_model_name": "LayoutModel",
            "_view_count": null,
            "_view_module": "@jupyter-widgets/base",
            "_view_module_version": "1.2.0",
            "_view_name": "LayoutView",
            "align_content": null,
            "align_items": null,
            "align_self": null,
            "border": null,
            "bottom": null,
            "display": null,
            "flex": null,
            "flex_flow": null,
            "grid_area": null,
            "grid_auto_columns": null,
            "grid_auto_flow": null,
            "grid_auto_rows": null,
            "grid_column": null,
            "grid_gap": null,
            "grid_row": null,
            "grid_template_areas": null,
            "grid_template_columns": null,
            "grid_template_rows": null,
            "height": null,
            "justify_content": null,
            "justify_items": null,
            "left": null,
            "margin": null,
            "max_height": null,
            "max_width": null,
            "min_height": null,
            "min_width": null,
            "object_fit": null,
            "object_position": null,
            "order": null,
            "overflow": null,
            "overflow_x": null,
            "overflow_y": null,
            "padding": null,
            "right": null,
            "top": null,
            "visibility": null,
            "width": null
          }
        },
        "7bc3da7aa1af480e97e0e2f2a64c0b6b": {
          "model_module": "@jupyter-widgets/controls",
          "model_name": "ProgressStyleModel",
          "model_module_version": "1.5.0",
          "state": {
            "_model_module": "@jupyter-widgets/controls",
            "_model_module_version": "1.5.0",
            "_model_name": "ProgressStyleModel",
            "_view_count": null,
            "_view_module": "@jupyter-widgets/base",
            "_view_module_version": "1.2.0",
            "_view_name": "StyleView",
            "bar_color": null,
            "description_width": ""
          }
        },
        "c8c071e3910a45e984fc1004eafe30fc": {
          "model_module": "@jupyter-widgets/base",
          "model_name": "LayoutModel",
          "model_module_version": "1.2.0",
          "state": {
            "_model_module": "@jupyter-widgets/base",
            "_model_module_version": "1.2.0",
            "_model_name": "LayoutModel",
            "_view_count": null,
            "_view_module": "@jupyter-widgets/base",
            "_view_module_version": "1.2.0",
            "_view_name": "LayoutView",
            "align_content": null,
            "align_items": null,
            "align_self": null,
            "border": null,
            "bottom": null,
            "display": null,
            "flex": null,
            "flex_flow": null,
            "grid_area": null,
            "grid_auto_columns": null,
            "grid_auto_flow": null,
            "grid_auto_rows": null,
            "grid_column": null,
            "grid_gap": null,
            "grid_row": null,
            "grid_template_areas": null,
            "grid_template_columns": null,
            "grid_template_rows": null,
            "height": null,
            "justify_content": null,
            "justify_items": null,
            "left": null,
            "margin": null,
            "max_height": null,
            "max_width": null,
            "min_height": null,
            "min_width": null,
            "object_fit": null,
            "object_position": null,
            "order": null,
            "overflow": null,
            "overflow_x": null,
            "overflow_y": null,
            "padding": null,
            "right": null,
            "top": null,
            "visibility": null,
            "width": null
          }
        },
        "a18bdc2fef464c78be178a9ff35f5e83": {
          "model_module": "@jupyter-widgets/controls",
          "model_name": "DescriptionStyleModel",
          "model_module_version": "1.5.0",
          "state": {
            "_model_module": "@jupyter-widgets/controls",
            "_model_module_version": "1.5.0",
            "_model_name": "DescriptionStyleModel",
            "_view_count": null,
            "_view_module": "@jupyter-widgets/base",
            "_view_module_version": "1.2.0",
            "_view_name": "StyleView",
            "description_width": ""
          }
        },
        "ced655b1dd4e475b9c74e89b0483a809": {
          "model_module": "@jupyter-widgets/controls",
          "model_name": "HBoxModel",
          "model_module_version": "1.5.0",
          "state": {
            "_dom_classes": [],
            "_model_module": "@jupyter-widgets/controls",
            "_model_module_version": "1.5.0",
            "_model_name": "HBoxModel",
            "_view_count": null,
            "_view_module": "@jupyter-widgets/controls",
            "_view_module_version": "1.5.0",
            "_view_name": "HBoxView",
            "box_style": "",
            "children": [
              "IPY_MODEL_57aea258dbac417aaf3ae599f2445fde",
              "IPY_MODEL_5628b57089114f77a394a3b51b9d7174",
              "IPY_MODEL_a8e45b141db94c0b95349ab8868166b2"
            ],
            "layout": "IPY_MODEL_8b9d33805e3e4a1cb280302addd0d8e5"
          }
        },
        "57aea258dbac417aaf3ae599f2445fde": {
          "model_module": "@jupyter-widgets/controls",
          "model_name": "HTMLModel",
          "model_module_version": "1.5.0",
          "state": {
            "_dom_classes": [],
            "_model_module": "@jupyter-widgets/controls",
            "_model_module_version": "1.5.0",
            "_model_name": "HTMLModel",
            "_view_count": null,
            "_view_module": "@jupyter-widgets/controls",
            "_view_module_version": "1.5.0",
            "_view_name": "HTMLView",
            "description": "",
            "description_tooltip": null,
            "layout": "IPY_MODEL_e8743917abf442fd91b42d3da049442e",
            "placeholder": "​",
            "style": "IPY_MODEL_a786671fa1454737b8bb783ec9a1cbb2",
            "value": "Loading checkpoint shards:   0%"
          }
        },
        "5628b57089114f77a394a3b51b9d7174": {
          "model_module": "@jupyter-widgets/controls",
          "model_name": "FloatProgressModel",
          "model_module_version": "1.5.0",
          "state": {
            "_dom_classes": [],
            "_model_module": "@jupyter-widgets/controls",
            "_model_module_version": "1.5.0",
            "_model_name": "FloatProgressModel",
            "_view_count": null,
            "_view_module": "@jupyter-widgets/controls",
            "_view_module_version": "1.5.0",
            "_view_name": "ProgressView",
            "bar_style": "",
            "description": "",
            "description_tooltip": null,
            "layout": "IPY_MODEL_26e8bddef5c14ff59150c0877e219e3b",
            "max": 2,
            "min": 0,
            "orientation": "horizontal",
            "style": "IPY_MODEL_20fb35b6526e4ca1bbc2b4138910d8e0",
            "value": 0
          }
        },
        "a8e45b141db94c0b95349ab8868166b2": {
          "model_module": "@jupyter-widgets/controls",
          "model_name": "HTMLModel",
          "model_module_version": "1.5.0",
          "state": {
            "_dom_classes": [],
            "_model_module": "@jupyter-widgets/controls",
            "_model_module_version": "1.5.0",
            "_model_name": "HTMLModel",
            "_view_count": null,
            "_view_module": "@jupyter-widgets/controls",
            "_view_module_version": "1.5.0",
            "_view_name": "HTMLView",
            "description": "",
            "description_tooltip": null,
            "layout": "IPY_MODEL_27976b69551e4140bd3b8a23547c7338",
            "placeholder": "​",
            "style": "IPY_MODEL_f21aecac93e34f6b87e5ce9e501c7eb8",
            "value": " 0/2 [00:00&lt;?, ?it/s]"
          }
        },
        "8b9d33805e3e4a1cb280302addd0d8e5": {
          "model_module": "@jupyter-widgets/base",
          "model_name": "LayoutModel",
          "model_module_version": "1.2.0",
          "state": {
            "_model_module": "@jupyter-widgets/base",
            "_model_module_version": "1.2.0",
            "_model_name": "LayoutModel",
            "_view_count": null,
            "_view_module": "@jupyter-widgets/base",
            "_view_module_version": "1.2.0",
            "_view_name": "LayoutView",
            "align_content": null,
            "align_items": null,
            "align_self": null,
            "border": null,
            "bottom": null,
            "display": null,
            "flex": null,
            "flex_flow": null,
            "grid_area": null,
            "grid_auto_columns": null,
            "grid_auto_flow": null,
            "grid_auto_rows": null,
            "grid_column": null,
            "grid_gap": null,
            "grid_row": null,
            "grid_template_areas": null,
            "grid_template_columns": null,
            "grid_template_rows": null,
            "height": null,
            "justify_content": null,
            "justify_items": null,
            "left": null,
            "margin": null,
            "max_height": null,
            "max_width": null,
            "min_height": null,
            "min_width": null,
            "object_fit": null,
            "object_position": null,
            "order": null,
            "overflow": null,
            "overflow_x": null,
            "overflow_y": null,
            "padding": null,
            "right": null,
            "top": null,
            "visibility": null,
            "width": null
          }
        },
        "e8743917abf442fd91b42d3da049442e": {
          "model_module": "@jupyter-widgets/base",
          "model_name": "LayoutModel",
          "model_module_version": "1.2.0",
          "state": {
            "_model_module": "@jupyter-widgets/base",
            "_model_module_version": "1.2.0",
            "_model_name": "LayoutModel",
            "_view_count": null,
            "_view_module": "@jupyter-widgets/base",
            "_view_module_version": "1.2.0",
            "_view_name": "LayoutView",
            "align_content": null,
            "align_items": null,
            "align_self": null,
            "border": null,
            "bottom": null,
            "display": null,
            "flex": null,
            "flex_flow": null,
            "grid_area": null,
            "grid_auto_columns": null,
            "grid_auto_flow": null,
            "grid_auto_rows": null,
            "grid_column": null,
            "grid_gap": null,
            "grid_row": null,
            "grid_template_areas": null,
            "grid_template_columns": null,
            "grid_template_rows": null,
            "height": null,
            "justify_content": null,
            "justify_items": null,
            "left": null,
            "margin": null,
            "max_height": null,
            "max_width": null,
            "min_height": null,
            "min_width": null,
            "object_fit": null,
            "object_position": null,
            "order": null,
            "overflow": null,
            "overflow_x": null,
            "overflow_y": null,
            "padding": null,
            "right": null,
            "top": null,
            "visibility": null,
            "width": null
          }
        },
        "a786671fa1454737b8bb783ec9a1cbb2": {
          "model_module": "@jupyter-widgets/controls",
          "model_name": "DescriptionStyleModel",
          "model_module_version": "1.5.0",
          "state": {
            "_model_module": "@jupyter-widgets/controls",
            "_model_module_version": "1.5.0",
            "_model_name": "DescriptionStyleModel",
            "_view_count": null,
            "_view_module": "@jupyter-widgets/base",
            "_view_module_version": "1.2.0",
            "_view_name": "StyleView",
            "description_width": ""
          }
        },
        "26e8bddef5c14ff59150c0877e219e3b": {
          "model_module": "@jupyter-widgets/base",
          "model_name": "LayoutModel",
          "model_module_version": "1.2.0",
          "state": {
            "_model_module": "@jupyter-widgets/base",
            "_model_module_version": "1.2.0",
            "_model_name": "LayoutModel",
            "_view_count": null,
            "_view_module": "@jupyter-widgets/base",
            "_view_module_version": "1.2.0",
            "_view_name": "LayoutView",
            "align_content": null,
            "align_items": null,
            "align_self": null,
            "border": null,
            "bottom": null,
            "display": null,
            "flex": null,
            "flex_flow": null,
            "grid_area": null,
            "grid_auto_columns": null,
            "grid_auto_flow": null,
            "grid_auto_rows": null,
            "grid_column": null,
            "grid_gap": null,
            "grid_row": null,
            "grid_template_areas": null,
            "grid_template_columns": null,
            "grid_template_rows": null,
            "height": null,
            "justify_content": null,
            "justify_items": null,
            "left": null,
            "margin": null,
            "max_height": null,
            "max_width": null,
            "min_height": null,
            "min_width": null,
            "object_fit": null,
            "object_position": null,
            "order": null,
            "overflow": null,
            "overflow_x": null,
            "overflow_y": null,
            "padding": null,
            "right": null,
            "top": null,
            "visibility": null,
            "width": null
          }
        },
        "20fb35b6526e4ca1bbc2b4138910d8e0": {
          "model_module": "@jupyter-widgets/controls",
          "model_name": "ProgressStyleModel",
          "model_module_version": "1.5.0",
          "state": {
            "_model_module": "@jupyter-widgets/controls",
            "_model_module_version": "1.5.0",
            "_model_name": "ProgressStyleModel",
            "_view_count": null,
            "_view_module": "@jupyter-widgets/base",
            "_view_module_version": "1.2.0",
            "_view_name": "StyleView",
            "bar_color": null,
            "description_width": ""
          }
        },
        "27976b69551e4140bd3b8a23547c7338": {
          "model_module": "@jupyter-widgets/base",
          "model_name": "LayoutModel",
          "model_module_version": "1.2.0",
          "state": {
            "_model_module": "@jupyter-widgets/base",
            "_model_module_version": "1.2.0",
            "_model_name": "LayoutModel",
            "_view_count": null,
            "_view_module": "@jupyter-widgets/base",
            "_view_module_version": "1.2.0",
            "_view_name": "LayoutView",
            "align_content": null,
            "align_items": null,
            "align_self": null,
            "border": null,
            "bottom": null,
            "display": null,
            "flex": null,
            "flex_flow": null,
            "grid_area": null,
            "grid_auto_columns": null,
            "grid_auto_flow": null,
            "grid_auto_rows": null,
            "grid_column": null,
            "grid_gap": null,
            "grid_row": null,
            "grid_template_areas": null,
            "grid_template_columns": null,
            "grid_template_rows": null,
            "height": null,
            "justify_content": null,
            "justify_items": null,
            "left": null,
            "margin": null,
            "max_height": null,
            "max_width": null,
            "min_height": null,
            "min_width": null,
            "object_fit": null,
            "object_position": null,
            "order": null,
            "overflow": null,
            "overflow_x": null,
            "overflow_y": null,
            "padding": null,
            "right": null,
            "top": null,
            "visibility": null,
            "width": null
          }
        },
        "f21aecac93e34f6b87e5ce9e501c7eb8": {
          "model_module": "@jupyter-widgets/controls",
          "model_name": "DescriptionStyleModel",
          "model_module_version": "1.5.0",
          "state": {
            "_model_module": "@jupyter-widgets/controls",
            "_model_module_version": "1.5.0",
            "_model_name": "DescriptionStyleModel",
            "_view_count": null,
            "_view_module": "@jupyter-widgets/base",
            "_view_module_version": "1.2.0",
            "_view_name": "StyleView",
            "description_width": ""
          }
        }
      }
    }
  },
  "cells": [
    {
      "cell_type": "markdown",
      "source": [
        "# Import all the necessary packages"
      ],
      "metadata": {
        "id": "zeq7LaNFJIGB"
      }
    },
    {
      "cell_type": "code",
      "source": [
        "%%capture\n",
        "%pip install accelerate"
      ],
      "metadata": {
        "id": "2q57IiPYDscN"
      },
      "execution_count": null,
      "outputs": []
    },
    {
      "cell_type": "code",
      "source": [
        "import os\n",
        "import torch"
      ],
      "metadata": {
        "id": "14SXH9JQEuOk"
      },
      "execution_count": null,
      "outputs": []
    },
    {
      "cell_type": "code",
      "source": [
        "from transformers import (\n",
        "    AutoModelForCausalLM,\n",
        "    AutoTokenizer,\n",
        "    pipeline,\n",
        "    logging,\n",
        ")"
      ],
      "metadata": {
        "id": "L3DqZ5YGD9tz"
      },
      "execution_count": null,
      "outputs": []
    },
    {
      "cell_type": "code",
      "source": [
        "!nvcc --version"
      ],
      "metadata": {
        "colab": {
          "base_uri": "https://localhost:8080/"
        },
        "id": "-U8MWa3pDwrV",
        "outputId": "5bd8ac01-5a11-4ba6-d31b-7eae3ba9310e"
      },
      "execution_count": null,
      "outputs": [
        {
          "output_type": "stream",
          "name": "stdout",
          "text": [
            "nvcc: NVIDIA (R) Cuda compiler driver\n",
            "Copyright (c) 2005-2023 NVIDIA Corporation\n",
            "Built on Tue_Aug_15_22:02:13_PDT_2023\n",
            "Cuda compilation tools, release 12.2, V12.2.140\n",
            "Build cuda_12.2.r12.2/compiler.33191640_0\n"
          ]
        }
      ]
    },
    {
      "cell_type": "markdown",
      "source": [
        "# Login into huugingface hub to get access to lama model"
      ],
      "metadata": {
        "id": "GNKoP2ruI8By"
      }
    },
    {
      "cell_type": "code",
      "source": [
        "from huggingface_hub import login\n",
        "login()"
      ],
      "metadata": {
        "id": "QJ-zxFdxFYJi"
      },
      "execution_count": null,
      "outputs": []
    },
    {
      "cell_type": "code",
      "source": [
        "# if torch.cuda.is_available():\n",
        "#   model_id = \"meta-llama/Llama-2-7b-chat-hf\"\n",
        "#   model = AutoModelForCausalLM.from_pretrained(model_id, torch_dtype=torch.float16, device_map=\"auto\")\n",
        "#   model.cuda()\n",
        "#   tokenizer = AutoTokenizer.from_pretrained(model_id)\n",
        "#   tokenizer.use_default_system_prompt = False"
      ],
      "metadata": {
        "id": "QFqMBUftD30c"
      },
      "execution_count": null,
      "outputs": []
    },
    {
      "cell_type": "code",
      "source": [
        "model"
      ],
      "metadata": {
        "colab": {
          "base_uri": "https://localhost:8080/",
          "height": 141
        },
        "id": "wT3qCx0oD7a3",
        "outputId": "587e430d-1fc6-4ea0-f7ee-beb423c720b4"
      },
      "execution_count": null,
      "outputs": [
        {
          "output_type": "error",
          "ename": "NameError",
          "evalue": "name 'model' is not defined",
          "traceback": [
            "\u001b[0;31m---------------------------------------------------------------------------\u001b[0m",
            "\u001b[0;31mNameError\u001b[0m                                 Traceback (most recent call last)",
            "\u001b[0;32m<ipython-input-8-1f8a688cae5d>\u001b[0m in \u001b[0;36m<cell line: 1>\u001b[0;34m()\u001b[0m\n\u001b[0;32m----> 1\u001b[0;31m \u001b[0mmodel\u001b[0m\u001b[0;34m\u001b[0m\u001b[0;34m\u001b[0m\u001b[0m\n\u001b[0m",
            "\u001b[0;31mNameError\u001b[0m: name 'model' is not defined"
          ]
        }
      ]
    },
    {
      "cell_type": "code",
      "source": [
        "import transformers"
      ],
      "metadata": {
        "id": "eYxeV8EnEzqj"
      },
      "execution_count": null,
      "outputs": []
    },
    {
      "cell_type": "markdown",
      "source": [
        "# Loading base meta-llama/llama-2-7b-chat-hf model\n",
        "*And printing smaple output when a prompt is given to this base model*"
      ],
      "metadata": {
        "id": "Ex5Ox7WNHqZY"
      }
    },
    {
      "cell_type": "code",
      "source": [
        "model = \"meta-llama/Llama-2-7b-chat-hf\"\n",
        "prompt = \"What is a large language model?\""
      ],
      "metadata": {
        "id": "e3881XiTHF9K"
      },
      "execution_count": null,
      "outputs": []
    },
    {
      "cell_type": "code",
      "source": [
        "tokenizer = AutoTokenizer.from_pretrained(model)\n",
        "pipeline = transformers.pipeline(\n",
        "    \"text-generation\",\n",
        "    model=model,\n",
        "    torch_dtype=torch.float16,\n",
        "    # device_map=\"auto\",\n",
        ")"
      ],
      "metadata": {
        "colab": {
          "base_uri": "https://localhost:8080/",
          "height": 153,
          "referenced_widgets": [
            "ced655b1dd4e475b9c74e89b0483a809",
            "57aea258dbac417aaf3ae599f2445fde",
            "5628b57089114f77a394a3b51b9d7174",
            "a8e45b141db94c0b95349ab8868166b2",
            "8b9d33805e3e4a1cb280302addd0d8e5",
            "e8743917abf442fd91b42d3da049442e",
            "a786671fa1454737b8bb783ec9a1cbb2",
            "26e8bddef5c14ff59150c0877e219e3b",
            "20fb35b6526e4ca1bbc2b4138910d8e0",
            "27976b69551e4140bd3b8a23547c7338",
            "f21aecac93e34f6b87e5ce9e501c7eb8"
          ]
        },
        "id": "0sS0zylBHRc1",
        "outputId": "55028296-a638-4d63-98a8-5cf086765df1"
      },
      "execution_count": null,
      "outputs": [
        {
          "output_type": "stream",
          "name": "stderr",
          "text": [
            "/usr/local/lib/python3.10/dist-packages/huggingface_hub/utils/_token.py:88: UserWarning: \n",
            "The secret `HF_TOKEN` does not exist in your Colab secrets.\n",
            "To authenticate with the Hugging Face Hub, create a token in your settings tab (https://huggingface.co/settings/tokens), set it as secret in your Google Colab and restart your session.\n",
            "You will be able to reuse this secret in all of your notebooks.\n",
            "Please note that authentication is recommended but still optional to access public models or datasets.\n",
            "  warnings.warn(\n"
          ]
        },
        {
          "output_type": "display_data",
          "data": {
            "text/plain": [
              "Loading checkpoint shards:   0%|          | 0/2 [00:00<?, ?it/s]"
            ],
            "application/vnd.jupyter.widget-view+json": {
              "version_major": 2,
              "version_minor": 0,
              "model_id": "ced655b1dd4e475b9c74e89b0483a809"
            }
          },
          "metadata": {}
        }
      ]
    },
    {
      "cell_type": "code",
      "source": [
        "sequences = pipeline(\n",
        "    f'[INST] {prompt} [/INST]',\n",
        "    do_sample=True,\n",
        "    top_k=10,\n",
        "    num_return_sequences=1,\n",
        "    eos_token_id=tokenizer.eos_token_id,\n",
        "    max_length=200,\n",
        ")\n",
        "for seq in sequences:\n",
        "    print(f\"Result: {seq['generated_text']}\")\n"
      ],
      "metadata": {
        "colab": {
          "base_uri": "https://localhost:8080/",
          "height": 211
        },
        "id": "K0xuEfzXHcdD",
        "outputId": "55f3bdae-8b8e-4bdb-b163-f0d835a2e73a"
      },
      "execution_count": null,
      "outputs": [
        {
          "output_type": "error",
          "ename": "NameError",
          "evalue": "name 'pipeline' is not defined",
          "traceback": [
            "\u001b[0;31m---------------------------------------------------------------------------\u001b[0m",
            "\u001b[0;31mNameError\u001b[0m                                 Traceback (most recent call last)",
            "\u001b[0;32m<ipython-input-2-f80c4142f9fb>\u001b[0m in \u001b[0;36m<cell line: 1>\u001b[0;34m()\u001b[0m\n\u001b[0;32m----> 1\u001b[0;31m sequences = pipeline(\n\u001b[0m\u001b[1;32m      2\u001b[0m     \u001b[0;34mf'[INST] {prompt} [/INST]'\u001b[0m\u001b[0;34m,\u001b[0m\u001b[0;34m\u001b[0m\u001b[0;34m\u001b[0m\u001b[0m\n\u001b[1;32m      3\u001b[0m     \u001b[0mdo_sample\u001b[0m\u001b[0;34m=\u001b[0m\u001b[0;32mTrue\u001b[0m\u001b[0;34m,\u001b[0m\u001b[0;34m\u001b[0m\u001b[0;34m\u001b[0m\u001b[0m\n\u001b[1;32m      4\u001b[0m     \u001b[0mtop_k\u001b[0m\u001b[0;34m=\u001b[0m\u001b[0;36m10\u001b[0m\u001b[0;34m,\u001b[0m\u001b[0;34m\u001b[0m\u001b[0;34m\u001b[0m\u001b[0m\n\u001b[1;32m      5\u001b[0m     \u001b[0mnum_return_sequences\u001b[0m\u001b[0;34m=\u001b[0m\u001b[0;36m1\u001b[0m\u001b[0;34m,\u001b[0m\u001b[0;34m\u001b[0m\u001b[0;34m\u001b[0m\u001b[0m\n",
            "\u001b[0;31mNameError\u001b[0m: name 'pipeline' is not defined"
          ]
        }
      ]
    },
    {
      "cell_type": "code",
      "source": [
        "prompt = \"What is crime\"\n",
        "sequences = pipeline(\n",
        "    f'[INST] {prompt} [/INST]',\n",
        "    do_sample=True,\n",
        "    top_k=10,\n",
        "    num_return_sequences=1,\n",
        "    eos_token_id=tokenizer.eos_token_id,\n",
        "    max_length=500,\n",
        ")\n",
        "for seq in sequences:\n",
        "    print(f\"Result: {seq['generated_text']}\")"
      ],
      "metadata": {
        "colab": {
          "base_uri": "https://localhost:8080/"
        },
        "id": "nlyxiZ4LHjCg",
        "outputId": "1717c5da-98b0-4e5d-cf0c-2537438defb4"
      },
      "execution_count": null,
      "outputs": [
        {
          "output_type": "stream",
          "name": "stdout",
          "text": [
            "Result: [INST] What is crime [/INST]  Crime refers to any act or omission that violates the law and is punishable by the state or federal government. It can take many forms, including:\n",
            "\n",
            "1. Violent crimes: These are crimes that involve physical harm or the threat of physical harm to another person, such as murder, assault, and robbery.\n",
            "2. Property crimes: These are crimes that involve the theft or destruction of property, such as burglary, theft, and vandalism.\n",
            "3. White collar crimes: These are crimes that are committed by businesses or individuals for financial gain, such as fraud, embezzlement, and money laundering.\n",
            "4. Drug crimes: These are crimes that involve the possession, distribution, or manufacture of illegal drugs, such as drug trafficking and drug possession.\n",
            "5. Public order crimes: These are crimes that disrupt the normal functioning of society, such as disorderly conduct, loitering, and vagrancy.\n",
            "6. Cyber crimes: These are crimes that involve the use of computers or the internet to commit illegal acts, such as hacking, identity theft, and online fraud.\n",
            "7. Sex crimes: These are crimes that involve non-consensual sexual contact or exploitation, such as rape, sexual assault, and child sexual abuse.\n",
            "8. Environmental crimes: These are crimes that involve the violation of environmental laws, such as pollution, illegal dumping, and wildlife trafficking.\n",
            "9. Financial crimes: These are crimes that involve the use of the financial system for illegal activities, such as money laundering, fraud, and embezzlement.\n",
            "10. Organized crime: These are crimes that are committed by organized groups, such as gangs, cartels, and syndicates, often for financial gain.\n",
            "\n",
            "It is important to note that the specific definition and classification of crimes can vary depending on the jurisdiction and the legal system in place.\n"
          ]
        }
      ]
    },
    {
      "cell_type": "markdown",
      "source": [
        "# Loading Fine tuned model from hugging face\n",
        "*printing the output from the fine tuned model when a prompt is given*"
      ],
      "metadata": {
        "id": "t6_WmQzpPK-4"
      }
    },
    {
      "cell_type": "code",
      "source": [
        "modelF = \"Chandana03/Llama-2-7b-chat-hf.legal-FineTune\""
      ],
      "metadata": {
        "id": "LNvTkH4WO2MM"
      },
      "execution_count": null,
      "outputs": []
    },
    {
      "cell_type": "code",
      "source": [
        "tokenizerF = AutoTokenizer.from_pretrained(modelF)\n",
        "pipelineF = transformers.pipeline(\n",
        "    \"text-generation\",\n",
        "    model=modelF,\n",
        "    torch_dtype=torch.float16,\n",
        "    device_map=\"auto\",\n",
        ")"
      ],
      "metadata": {
        "colab": {
          "base_uri": "https://localhost:8080/",
          "height": 461,
          "referenced_widgets": [
            "515222334d9340ab90590076222dd429",
            "b49a0e1c85c144399fcc86029c3b5bf8",
            "c54860d09cbb44e780fec30599d59bdc",
            "202253c27a564e13832a3e3b93f08673",
            "6eb68a78510240959a823e31bc5a54c6",
            "dd9edd7a88634167b3cec176cf369110",
            "661c5df1172442049cc7619365ea6510",
            "e7246da3c0d042daa646fbd46911d3d0",
            "0d1c44abc555439282a3048e94392095",
            "259d7d6ff8b14aa29490a5acfa0fc247",
            "bd7837243a3c43a883ae84d97de2a598",
            "00a5208966f7438499a5e80b9dd54a74",
            "bf1616301e9443808775b74f0fd1be19",
            "aac4e1b438f346dc8d402e2f0545ea0a",
            "ace33106b549441f970eeeb4b94c1915",
            "d17e9f204567422e9d6581250df13ba0",
            "7d3141b755a14863a7d9f8462d70597a",
            "989801e568d046bab487953a95d4c81e",
            "a649df425e5340e6aecc7e7b46622fb4",
            "e10614984fb74f91a4e1d7dcb98fb155",
            "82c48c7b011c45c0b7e8b87bd515ab9a",
            "d45b50406fdb406386638990f8941ec7",
            "a55b5281fa4744d5b56c2b763bbf349c",
            "03b052278c024176b77d1f9c8e2d9666",
            "b5fc476123264e4b963af87f8bd84e3d",
            "f7c9a81a9e9749008c6793bf91243ec3",
            "3f0a5560264142a39421f036d63933f9",
            "a0d2ee00276a45619e1a2aed23ab4629",
            "a80ba9886e934d3290c958e2f42a6358",
            "8dc28515a04d4409b47e12922a3e5c06",
            "5098b3c4300f43678b84cf1682ef8dda",
            "d427d89ca5674ade88f43ebf6e077971",
            "fdf1e0af941549eaa6739290338065fb",
            "c7c260724a654df5ace23e0012fe6fd0",
            "6c3267eabce24bdb9ebdad9ae5974e04",
            "59a765f369f8499b8cd4f2cbdd4527ee",
            "1c34d7ab444e493ead1532235f9f21a9",
            "744ef82e4b0c4ebb858b142dc11d8363",
            "89fbeb67c1ee4401a1280c25418cc099",
            "7371dbd11bf843e2b032864606fc1b33",
            "8f543c412ac548dab2294b2249f36674",
            "e7fa9063ded54e85b841328b3aacf95e",
            "8f3e3e0589794f3bb2815ffede685b76",
            "324fb4edd44d4a0e85d0b2175ad1e235",
            "754571fa44d645cf99b55397fdb6948d",
            "87eaff3321a042d58f588ca2c98d1af2",
            "372a74120317484abb3fb5c039b7ba26",
            "ae340da44298474d9a8e6a87736afc1a",
            "90b1c8fb6f7b46cc8d27a773215fc564",
            "936dbe6879294df9aa2c4b5b1fa46688",
            "7c92c8e2a5a043fba5cda449dfadd49b",
            "92ff31be7114408ab459a2080fe6349a",
            "503fb10db83f477cb7497dd4d1a3384f",
            "876c3d3c06424aa69f33c4dd3088a4a0",
            "be53c232e6d44449ab0ccf181639576e",
            "00bde4a3bb234caabcb4e74951f3e88d",
            "72586446803b43f78c12c3ef05229622",
            "49a60717eb9b4c3eb2d100dc41594907",
            "aa9e29eda5884529aa5ab5a41684ecac",
            "6fbbd33b5f7948d8a11fcbd981a4a5c2",
            "9bd7b4b7166244049036cbce55960312",
            "c0ffce9944264e29ad6f20f6c9a19c54",
            "5ffc37640d494dbe99b358d2b68c5f49",
            "4da8f1ab58454bf4b5752b2c654609bb",
            "950013d43327495dbebe39035d201e12",
            "d01f5b3d00c94d588f4cce2a4d546c80",
            "166747a8e23b431392eb08b97c3c83d4",
            "13f5dcce9ed14c27a2634bcaa3d119c7",
            "44f00235d35e493994a9c90f8f5e0ed0",
            "6867ce0f7c514f58b31811a05dd49562",
            "47b8fde0e6354218b7d2f8d17aaa3452",
            "9f825e1410e74594a2c6e2e2bcc71948",
            "a13f10c8e6ea4d44b5bb1f36b3059b79",
            "d16cd0adb0f842e6af4ded7571e3e710",
            "cf7f0efb320449a6b8dbfc35d0381ea5",
            "785e84e117924ed2b5f273fc216b6537",
            "010a436240134be88808f5a99587b142",
            "060bf3eec24c4128be32b671cb399a06",
            "385760ebdd7843f2a24677e494e6f1a7",
            "1c8a088a842b43c98b371d2a247d4d20",
            "42a6abf1bcd947f58a6689856311ae02",
            "9f9bb8bafba147feb27e618c1787bc48",
            "16a02e735cfd42c18709b71567db38ef",
            "35302f7c36754946ac013d5d252fdf22",
            "0d6f0f1d053f4924ba4694135b8c7a23",
            "2b9c55d2f69f4f2ca0187345c6228fd2",
            "55ce5df1e09945d29bd0c626939148e0",
            "78c6f07c6e5e4bad8cdab40e79bf6f39",
            "da7c7c1fb3454ef88c1b757e792b8585",
            "9e275bd30a244546b6486fc5d1073e3a",
            "1be232a7c63648a78245cc9ce5be0d4c",
            "8f196a98d4ae4d4fb5a1897adb054897",
            "780054afb78a424fa5fa1283ddddc350",
            "56e4fa86a6f84141892f0b41b76a9e12",
            "6015b102a4ff4b8dacc793bb30c167d0",
            "ebc7e02d8a3545ab8b44b1aaf08b068c",
            "553addb8060e4d9bac453828952f1d36",
            "a587d9371f8c4deaa7fa511a52ca1593",
            "9a36ab1dd32b472c9505561ea54d700b",
            "7472c31f4c6e4963afd42aad5dc4a586",
            "9575885331cf449c80049a35ec8e7677",
            "5cfff349d1b048b5b1c82d20734c69f2",
            "6eaf85a51469435a8838d38809fd2542",
            "dc53fc7266a94b35bc330fd211427cd5",
            "aa5cf92b91fa4bdfadcf9747f4c98568",
            "965f94a1559a4325a3353b8accd069e3",
            "ace5eb9b96c7425b962929599b34de6d",
            "7bc3da7aa1af480e97e0e2f2a64c0b6b",
            "c8c071e3910a45e984fc1004eafe30fc",
            "a18bdc2fef464c78be178a9ff35f5e83"
          ]
        },
        "id": "4Pmec4MbPrNM",
        "outputId": "a0ac5e82-b427-40c3-ddbd-97998f17715a"
      },
      "execution_count": null,
      "outputs": [
        {
          "output_type": "display_data",
          "data": {
            "text/plain": [
              "tokenizer_config.json:   0%|          | 0.00/1.76k [00:00<?, ?B/s]"
            ],
            "application/vnd.jupyter.widget-view+json": {
              "version_major": 2,
              "version_minor": 0,
              "model_id": "515222334d9340ab90590076222dd429"
            }
          },
          "metadata": {}
        },
        {
          "output_type": "display_data",
          "data": {
            "text/plain": [
              "tokenizer.model:   0%|          | 0.00/500k [00:00<?, ?B/s]"
            ],
            "application/vnd.jupyter.widget-view+json": {
              "version_major": 2,
              "version_minor": 0,
              "model_id": "00a5208966f7438499a5e80b9dd54a74"
            }
          },
          "metadata": {}
        },
        {
          "output_type": "display_data",
          "data": {
            "text/plain": [
              "tokenizer.json:   0%|          | 0.00/1.84M [00:00<?, ?B/s]"
            ],
            "application/vnd.jupyter.widget-view+json": {
              "version_major": 2,
              "version_minor": 0,
              "model_id": "a55b5281fa4744d5b56c2b763bbf349c"
            }
          },
          "metadata": {}
        },
        {
          "output_type": "display_data",
          "data": {
            "text/plain": [
              "special_tokens_map.json:   0%|          | 0.00/437 [00:00<?, ?B/s]"
            ],
            "application/vnd.jupyter.widget-view+json": {
              "version_major": 2,
              "version_minor": 0,
              "model_id": "c7c260724a654df5ace23e0012fe6fd0"
            }
          },
          "metadata": {}
        },
        {
          "output_type": "display_data",
          "data": {
            "text/plain": [
              "Downloading shards:   0%|          | 0/3 [00:00<?, ?it/s]"
            ],
            "application/vnd.jupyter.widget-view+json": {
              "version_major": 2,
              "version_minor": 0,
              "model_id": "754571fa44d645cf99b55397fdb6948d"
            }
          },
          "metadata": {}
        },
        {
          "output_type": "display_data",
          "data": {
            "text/plain": [
              "model-00001-of-00003.safetensors:   0%|          | 0.00/4.96G [00:00<?, ?B/s]"
            ],
            "application/vnd.jupyter.widget-view+json": {
              "version_major": 2,
              "version_minor": 0,
              "model_id": "00bde4a3bb234caabcb4e74951f3e88d"
            }
          },
          "metadata": {}
        },
        {
          "output_type": "display_data",
          "data": {
            "text/plain": [
              "model-00002-of-00003.safetensors:   0%|          | 0.00/4.97G [00:00<?, ?B/s]"
            ],
            "application/vnd.jupyter.widget-view+json": {
              "version_major": 2,
              "version_minor": 0,
              "model_id": "166747a8e23b431392eb08b97c3c83d4"
            }
          },
          "metadata": {}
        },
        {
          "output_type": "display_data",
          "data": {
            "text/plain": [
              "model-00003-of-00003.safetensors:   0%|          | 0.00/3.61G [00:00<?, ?B/s]"
            ],
            "application/vnd.jupyter.widget-view+json": {
              "version_major": 2,
              "version_minor": 0,
              "model_id": "060bf3eec24c4128be32b671cb399a06"
            }
          },
          "metadata": {}
        },
        {
          "output_type": "display_data",
          "data": {
            "text/plain": [
              "Loading checkpoint shards:   0%|          | 0/3 [00:00<?, ?it/s]"
            ],
            "application/vnd.jupyter.widget-view+json": {
              "version_major": 2,
              "version_minor": 0,
              "model_id": "da7c7c1fb3454ef88c1b757e792b8585"
            }
          },
          "metadata": {}
        },
        {
          "output_type": "stream",
          "name": "stderr",
          "text": [
            "Some weights of the model checkpoint at Chandana03/Llama-2-7b-chat-hf.legal-FineTune were not used when initializing LlamaForCausalLM: ['model.layers.0.self_attn.q_proj.base_layer.weight', 'model.layers.0.self_attn.q_proj.lora_A.default.weight', 'model.layers.0.self_attn.q_proj.lora_B.default.weight', 'model.layers.0.self_attn.v_proj.base_layer.weight', 'model.layers.0.self_attn.v_proj.lora_A.default.weight', 'model.layers.0.self_attn.v_proj.lora_B.default.weight', 'model.layers.1.self_attn.q_proj.base_layer.weight', 'model.layers.1.self_attn.q_proj.lora_A.default.weight', 'model.layers.1.self_attn.q_proj.lora_B.default.weight', 'model.layers.1.self_attn.v_proj.base_layer.weight', 'model.layers.1.self_attn.v_proj.lora_A.default.weight', 'model.layers.1.self_attn.v_proj.lora_B.default.weight', 'model.layers.10.self_attn.q_proj.base_layer.weight', 'model.layers.10.self_attn.q_proj.lora_A.default.weight', 'model.layers.10.self_attn.q_proj.lora_B.default.weight', 'model.layers.10.self_attn.v_proj.base_layer.weight', 'model.layers.10.self_attn.v_proj.lora_A.default.weight', 'model.layers.10.self_attn.v_proj.lora_B.default.weight', 'model.layers.11.self_attn.q_proj.base_layer.weight', 'model.layers.11.self_attn.q_proj.lora_A.default.weight', 'model.layers.11.self_attn.q_proj.lora_B.default.weight', 'model.layers.11.self_attn.v_proj.base_layer.weight', 'model.layers.11.self_attn.v_proj.lora_A.default.weight', 'model.layers.11.self_attn.v_proj.lora_B.default.weight', 'model.layers.12.self_attn.q_proj.base_layer.weight', 'model.layers.12.self_attn.q_proj.lora_A.default.weight', 'model.layers.12.self_attn.q_proj.lora_B.default.weight', 'model.layers.12.self_attn.v_proj.base_layer.weight', 'model.layers.12.self_attn.v_proj.lora_A.default.weight', 'model.layers.12.self_attn.v_proj.lora_B.default.weight', 'model.layers.13.self_attn.q_proj.base_layer.weight', 'model.layers.13.self_attn.q_proj.lora_A.default.weight', 'model.layers.13.self_attn.q_proj.lora_B.default.weight', 'model.layers.13.self_attn.v_proj.base_layer.weight', 'model.layers.13.self_attn.v_proj.lora_A.default.weight', 'model.layers.13.self_attn.v_proj.lora_B.default.weight', 'model.layers.14.self_attn.q_proj.base_layer.weight', 'model.layers.14.self_attn.q_proj.lora_A.default.weight', 'model.layers.14.self_attn.q_proj.lora_B.default.weight', 'model.layers.14.self_attn.v_proj.base_layer.weight', 'model.layers.14.self_attn.v_proj.lora_A.default.weight', 'model.layers.14.self_attn.v_proj.lora_B.default.weight', 'model.layers.15.self_attn.q_proj.base_layer.weight', 'model.layers.15.self_attn.q_proj.lora_A.default.weight', 'model.layers.15.self_attn.q_proj.lora_B.default.weight', 'model.layers.15.self_attn.v_proj.base_layer.weight', 'model.layers.15.self_attn.v_proj.lora_A.default.weight', 'model.layers.15.self_attn.v_proj.lora_B.default.weight', 'model.layers.16.self_attn.q_proj.base_layer.weight', 'model.layers.16.self_attn.q_proj.lora_A.default.weight', 'model.layers.16.self_attn.q_proj.lora_B.default.weight', 'model.layers.16.self_attn.v_proj.base_layer.weight', 'model.layers.16.self_attn.v_proj.lora_A.default.weight', 'model.layers.16.self_attn.v_proj.lora_B.default.weight', 'model.layers.17.self_attn.q_proj.base_layer.weight', 'model.layers.17.self_attn.q_proj.lora_A.default.weight', 'model.layers.17.self_attn.q_proj.lora_B.default.weight', 'model.layers.17.self_attn.v_proj.base_layer.weight', 'model.layers.17.self_attn.v_proj.lora_A.default.weight', 'model.layers.17.self_attn.v_proj.lora_B.default.weight', 'model.layers.18.self_attn.q_proj.base_layer.weight', 'model.layers.18.self_attn.q_proj.lora_A.default.weight', 'model.layers.18.self_attn.q_proj.lora_B.default.weight', 'model.layers.18.self_attn.v_proj.base_layer.weight', 'model.layers.18.self_attn.v_proj.lora_A.default.weight', 'model.layers.18.self_attn.v_proj.lora_B.default.weight', 'model.layers.19.self_attn.q_proj.base_layer.weight', 'model.layers.19.self_attn.q_proj.lora_A.default.weight', 'model.layers.19.self_attn.q_proj.lora_B.default.weight', 'model.layers.19.self_attn.v_proj.base_layer.weight', 'model.layers.19.self_attn.v_proj.lora_A.default.weight', 'model.layers.19.self_attn.v_proj.lora_B.default.weight', 'model.layers.2.self_attn.q_proj.base_layer.weight', 'model.layers.2.self_attn.q_proj.lora_A.default.weight', 'model.layers.2.self_attn.q_proj.lora_B.default.weight', 'model.layers.2.self_attn.v_proj.base_layer.weight', 'model.layers.2.self_attn.v_proj.lora_A.default.weight', 'model.layers.2.self_attn.v_proj.lora_B.default.weight', 'model.layers.20.self_attn.q_proj.base_layer.weight', 'model.layers.20.self_attn.q_proj.lora_A.default.weight', 'model.layers.20.self_attn.q_proj.lora_B.default.weight', 'model.layers.20.self_attn.v_proj.base_layer.weight', 'model.layers.20.self_attn.v_proj.lora_A.default.weight', 'model.layers.20.self_attn.v_proj.lora_B.default.weight', 'model.layers.21.self_attn.q_proj.base_layer.weight', 'model.layers.21.self_attn.q_proj.lora_A.default.weight', 'model.layers.21.self_attn.q_proj.lora_B.default.weight', 'model.layers.21.self_attn.v_proj.base_layer.weight', 'model.layers.21.self_attn.v_proj.lora_A.default.weight', 'model.layers.21.self_attn.v_proj.lora_B.default.weight', 'model.layers.22.self_attn.q_proj.base_layer.weight', 'model.layers.22.self_attn.q_proj.lora_A.default.weight', 'model.layers.22.self_attn.q_proj.lora_B.default.weight', 'model.layers.22.self_attn.v_proj.base_layer.weight', 'model.layers.22.self_attn.v_proj.lora_A.default.weight', 'model.layers.22.self_attn.v_proj.lora_B.default.weight', 'model.layers.23.self_attn.q_proj.base_layer.weight', 'model.layers.23.self_attn.q_proj.lora_A.default.weight', 'model.layers.23.self_attn.q_proj.lora_B.default.weight', 'model.layers.23.self_attn.v_proj.base_layer.weight', 'model.layers.23.self_attn.v_proj.lora_A.default.weight', 'model.layers.23.self_attn.v_proj.lora_B.default.weight', 'model.layers.24.self_attn.q_proj.base_layer.weight', 'model.layers.24.self_attn.q_proj.lora_A.default.weight', 'model.layers.24.self_attn.q_proj.lora_B.default.weight', 'model.layers.24.self_attn.v_proj.base_layer.weight', 'model.layers.24.self_attn.v_proj.lora_A.default.weight', 'model.layers.24.self_attn.v_proj.lora_B.default.weight', 'model.layers.25.self_attn.q_proj.base_layer.weight', 'model.layers.25.self_attn.q_proj.lora_A.default.weight', 'model.layers.25.self_attn.q_proj.lora_B.default.weight', 'model.layers.25.self_attn.v_proj.base_layer.weight', 'model.layers.25.self_attn.v_proj.lora_A.default.weight', 'model.layers.25.self_attn.v_proj.lora_B.default.weight', 'model.layers.26.self_attn.q_proj.base_layer.weight', 'model.layers.26.self_attn.q_proj.lora_A.default.weight', 'model.layers.26.self_attn.q_proj.lora_B.default.weight', 'model.layers.26.self_attn.v_proj.base_layer.weight', 'model.layers.26.self_attn.v_proj.lora_A.default.weight', 'model.layers.26.self_attn.v_proj.lora_B.default.weight', 'model.layers.27.self_attn.q_proj.base_layer.weight', 'model.layers.27.self_attn.q_proj.lora_A.default.weight', 'model.layers.27.self_attn.q_proj.lora_B.default.weight', 'model.layers.27.self_attn.v_proj.base_layer.weight', 'model.layers.27.self_attn.v_proj.lora_A.default.weight', 'model.layers.27.self_attn.v_proj.lora_B.default.weight', 'model.layers.28.self_attn.q_proj.base_layer.weight', 'model.layers.28.self_attn.q_proj.lora_A.default.weight', 'model.layers.28.self_attn.q_proj.lora_B.default.weight', 'model.layers.28.self_attn.v_proj.base_layer.weight', 'model.layers.28.self_attn.v_proj.lora_A.default.weight', 'model.layers.28.self_attn.v_proj.lora_B.default.weight', 'model.layers.29.self_attn.q_proj.base_layer.weight', 'model.layers.29.self_attn.q_proj.lora_A.default.weight', 'model.layers.29.self_attn.q_proj.lora_B.default.weight', 'model.layers.29.self_attn.v_proj.base_layer.weight', 'model.layers.29.self_attn.v_proj.lora_A.default.weight', 'model.layers.29.self_attn.v_proj.lora_B.default.weight', 'model.layers.3.self_attn.q_proj.base_layer.weight', 'model.layers.3.self_attn.q_proj.lora_A.default.weight', 'model.layers.3.self_attn.q_proj.lora_B.default.weight', 'model.layers.3.self_attn.v_proj.base_layer.weight', 'model.layers.3.self_attn.v_proj.lora_A.default.weight', 'model.layers.3.self_attn.v_proj.lora_B.default.weight', 'model.layers.30.self_attn.q_proj.base_layer.weight', 'model.layers.30.self_attn.q_proj.lora_A.default.weight', 'model.layers.30.self_attn.q_proj.lora_B.default.weight', 'model.layers.30.self_attn.v_proj.base_layer.weight', 'model.layers.30.self_attn.v_proj.lora_A.default.weight', 'model.layers.30.self_attn.v_proj.lora_B.default.weight', 'model.layers.31.self_attn.q_proj.base_layer.weight', 'model.layers.31.self_attn.q_proj.lora_A.default.weight', 'model.layers.31.self_attn.q_proj.lora_B.default.weight', 'model.layers.31.self_attn.v_proj.base_layer.weight', 'model.layers.31.self_attn.v_proj.lora_A.default.weight', 'model.layers.31.self_attn.v_proj.lora_B.default.weight', 'model.layers.4.self_attn.q_proj.base_layer.weight', 'model.layers.4.self_attn.q_proj.lora_A.default.weight', 'model.layers.4.self_attn.q_proj.lora_B.default.weight', 'model.layers.4.self_attn.v_proj.base_layer.weight', 'model.layers.4.self_attn.v_proj.lora_A.default.weight', 'model.layers.4.self_attn.v_proj.lora_B.default.weight', 'model.layers.5.self_attn.q_proj.base_layer.weight', 'model.layers.5.self_attn.q_proj.lora_A.default.weight', 'model.layers.5.self_attn.q_proj.lora_B.default.weight', 'model.layers.5.self_attn.v_proj.base_layer.weight', 'model.layers.5.self_attn.v_proj.lora_A.default.weight', 'model.layers.5.self_attn.v_proj.lora_B.default.weight', 'model.layers.6.self_attn.q_proj.base_layer.weight', 'model.layers.6.self_attn.q_proj.lora_A.default.weight', 'model.layers.6.self_attn.q_proj.lora_B.default.weight', 'model.layers.6.self_attn.v_proj.base_layer.weight', 'model.layers.6.self_attn.v_proj.lora_A.default.weight', 'model.layers.6.self_attn.v_proj.lora_B.default.weight', 'model.layers.7.self_attn.q_proj.base_layer.weight', 'model.layers.7.self_attn.q_proj.lora_A.default.weight', 'model.layers.7.self_attn.q_proj.lora_B.default.weight', 'model.layers.7.self_attn.v_proj.base_layer.weight', 'model.layers.7.self_attn.v_proj.lora_A.default.weight', 'model.layers.7.self_attn.v_proj.lora_B.default.weight', 'model.layers.8.self_attn.q_proj.base_layer.weight', 'model.layers.8.self_attn.q_proj.lora_A.default.weight', 'model.layers.8.self_attn.q_proj.lora_B.default.weight', 'model.layers.8.self_attn.v_proj.base_layer.weight', 'model.layers.8.self_attn.v_proj.lora_A.default.weight', 'model.layers.8.self_attn.v_proj.lora_B.default.weight', 'model.layers.9.self_attn.q_proj.base_layer.weight', 'model.layers.9.self_attn.q_proj.lora_A.default.weight', 'model.layers.9.self_attn.q_proj.lora_B.default.weight', 'model.layers.9.self_attn.v_proj.base_layer.weight', 'model.layers.9.self_attn.v_proj.lora_A.default.weight', 'model.layers.9.self_attn.v_proj.lora_B.default.weight']\n",
            "- This IS expected if you are initializing LlamaForCausalLM from the checkpoint of a model trained on another task or with another architecture (e.g. initializing a BertForSequenceClassification model from a BertForPreTraining model).\n",
            "- This IS NOT expected if you are initializing LlamaForCausalLM from the checkpoint of a model that you expect to be exactly identical (initializing a BertForSequenceClassification model from a BertForSequenceClassification model).\n",
            "Some weights of LlamaForCausalLM were not initialized from the model checkpoint at Chandana03/Llama-2-7b-chat-hf.legal-FineTune and are newly initialized: ['model.layers.0.self_attn.q_proj.weight', 'model.layers.0.self_attn.v_proj.weight', 'model.layers.1.self_attn.q_proj.weight', 'model.layers.1.self_attn.v_proj.weight', 'model.layers.10.self_attn.q_proj.weight', 'model.layers.10.self_attn.v_proj.weight', 'model.layers.11.self_attn.q_proj.weight', 'model.layers.11.self_attn.v_proj.weight', 'model.layers.12.self_attn.q_proj.weight', 'model.layers.12.self_attn.v_proj.weight', 'model.layers.13.self_attn.q_proj.weight', 'model.layers.13.self_attn.v_proj.weight', 'model.layers.14.self_attn.q_proj.weight', 'model.layers.14.self_attn.v_proj.weight', 'model.layers.15.self_attn.q_proj.weight', 'model.layers.15.self_attn.v_proj.weight', 'model.layers.16.self_attn.q_proj.weight', 'model.layers.16.self_attn.v_proj.weight', 'model.layers.17.self_attn.q_proj.weight', 'model.layers.17.self_attn.v_proj.weight', 'model.layers.18.self_attn.q_proj.weight', 'model.layers.18.self_attn.v_proj.weight', 'model.layers.19.self_attn.q_proj.weight', 'model.layers.19.self_attn.v_proj.weight', 'model.layers.2.self_attn.q_proj.weight', 'model.layers.2.self_attn.v_proj.weight', 'model.layers.20.self_attn.q_proj.weight', 'model.layers.20.self_attn.v_proj.weight', 'model.layers.21.self_attn.q_proj.weight', 'model.layers.21.self_attn.v_proj.weight', 'model.layers.22.self_attn.q_proj.weight', 'model.layers.22.self_attn.v_proj.weight', 'model.layers.23.self_attn.q_proj.weight', 'model.layers.23.self_attn.v_proj.weight', 'model.layers.24.self_attn.q_proj.weight', 'model.layers.24.self_attn.v_proj.weight', 'model.layers.25.self_attn.q_proj.weight', 'model.layers.25.self_attn.v_proj.weight', 'model.layers.26.self_attn.q_proj.weight', 'model.layers.26.self_attn.v_proj.weight', 'model.layers.27.self_attn.q_proj.weight', 'model.layers.27.self_attn.v_proj.weight', 'model.layers.28.self_attn.q_proj.weight', 'model.layers.28.self_attn.v_proj.weight', 'model.layers.29.self_attn.q_proj.weight', 'model.layers.29.self_attn.v_proj.weight', 'model.layers.3.self_attn.q_proj.weight', 'model.layers.3.self_attn.v_proj.weight', 'model.layers.30.self_attn.q_proj.weight', 'model.layers.30.self_attn.v_proj.weight', 'model.layers.31.self_attn.q_proj.weight', 'model.layers.31.self_attn.v_proj.weight', 'model.layers.4.self_attn.q_proj.weight', 'model.layers.4.self_attn.v_proj.weight', 'model.layers.5.self_attn.q_proj.weight', 'model.layers.5.self_attn.v_proj.weight', 'model.layers.6.self_attn.q_proj.weight', 'model.layers.6.self_attn.v_proj.weight', 'model.layers.7.self_attn.q_proj.weight', 'model.layers.7.self_attn.v_proj.weight', 'model.layers.8.self_attn.q_proj.weight', 'model.layers.8.self_attn.v_proj.weight', 'model.layers.9.self_attn.q_proj.weight', 'model.layers.9.self_attn.v_proj.weight']\n",
            "You should probably TRAIN this model on a down-stream task to be able to use it for predictions and inference.\n"
          ]
        },
        {
          "output_type": "display_data",
          "data": {
            "text/plain": [
              "generation_config.json:   0%|          | 0.00/183 [00:00<?, ?B/s]"
            ],
            "application/vnd.jupyter.widget-view+json": {
              "version_major": 2,
              "version_minor": 0,
              "model_id": "7472c31f4c6e4963afd42aad5dc4a586"
            }
          },
          "metadata": {}
        },
        {
          "output_type": "stream",
          "name": "stderr",
          "text": [
            "WARNING:root:Some parameters are on the meta device device because they were offloaded to the cpu.\n"
          ]
        }
      ]
    },
    {
      "cell_type": "code",
      "source": [
        "promptF='what is crime'\n",
        "sequencesF = pipelineF(\n",
        "    f'[INST] {promptF} [/INST]',\n",
        "    do_sample=True,\n",
        "    top_k=10,\n",
        "    num_return_sequences=1,\n",
        "    eos_token_id=tokenizer.eos_token_id,\n",
        "    max_length=200,\n",
        ")\n",
        "for seq in sequencesF:\n",
        "    print(f\"Result: {seq['generated_text']}\")"
      ],
      "metadata": {
        "colab": {
          "base_uri": "https://localhost:8080/"
        },
        "id": "f7HNvgdfPuq-",
        "outputId": "3dbb0f86-155b-4ccb-dcd3-53bce7171c93"
      },
      "execution_count": null,
      "outputs": [
        {
          "output_type": "stream",
          "name": "stderr",
          "text": [
            "Truncation was not explicitly activated but `max_length` is provided a specific value, please use `truncation=True` to explicitly truncate examples to max length. Defaulting to 'longest_first' truncation strategy. If you encode pairs of sequences (GLUE-style) with the tokenizer you can select this strategy more precisely by providing a specific strategy to `truncation`.\n"
          ]
        }
      ]
    },
    {
      "cell_type": "code",
      "source": [
        "import pandas as pd\n"
      ],
      "metadata": {
        "id": "46ewhpwcR4zh"
      },
      "execution_count": null,
      "outputs": []
    },
    {
      "cell_type": "code",
      "source": [
        "from nltk.translate.bleu_score import sentence_bleu\n",
        "\n",
        "# Example with multiple references and a candidate sentence\n",
        "references = [\"Can you provide some sections and laws that are used by lawyers\"]\n",
        "candidate = \" Constitution of India: The Constitution of India sets out the basic structure of the Indian legal system, including the rights and duties of individuals, the powers of the government, and the relationship between the federal and state governments.\"\n",
        "\n",
        "# Calculate BLEU score\n",
        "bleu_score = sentence_bleu([references], candidate)\n",
        "print(f\"BLEU Score: {bleu_score}\")\n"
      ],
      "metadata": {
        "colab": {
          "base_uri": "https://localhost:8080/"
        },
        "id": "f6Q0D7f02bx8",
        "outputId": "3f584ee1-fe27-4963-9682-4b7ec02e715f"
      },
      "execution_count": null,
      "outputs": [
        {
          "output_type": "stream",
          "name": "stdout",
          "text": [
            "BLEU Score: 0\n"
          ]
        }
      ]
    },
    {
      "cell_type": "code",
      "source": [
        "from nltk.translate.bleu_score import sentence_bleu\n",
        "\n",
        "# Example with multiple references and a candidate sentence\n",
        "references = [\"tell me about section 420\",'This section deals with the offense of cheating and dishonestly inducing the delivery of property. If someone cheats another person and, as a result, induces that person to deliver property or alter valuable securities, they can be punished under this section. ']\n",
        "candidate = ' It is crucial to consult a legal professional for advice on how to interpret and apply the law.In general, Section 420 of the Indian Penal Code (IPC) pertains to the offense of criminal intimidation. It is defined under IPC Section 420 as a criminal act that involves threatening or attempting to threaten someone in order to cause harm or apprehension to that person or a third party. Penalties for committing the offense of criminal intimidation vary depending on the specific circumstances of the offense and the severity of the harm caused. For example, criminal intimidation can be punished with a prison term of up to two years or with a fine, or both, under IPC Section 420 It is important to keep in mind that the laws of India are subject to frequent changes and interpretations, and that legal advice should generally only be sought from qualified legal professionals with appropriate knowledge of the relevant laws.'\n",
        "\n",
        "# Calculate BLEU score\n",
        "bleu_score = sentence_bleu([references], candidate)\n",
        "print(f\"BLEU Score: {bleu_score}\")"
      ],
      "metadata": {
        "colab": {
          "base_uri": "https://localhost:8080/"
        },
        "id": "Vnlb3Y7m3ePR",
        "outputId": "632af1b6-3fdd-49a5-ef34-7b8adbdd4efb"
      },
      "execution_count": null,
      "outputs": [
        {
          "output_type": "stream",
          "name": "stdout",
          "text": [
            "BLEU Score: 0\n"
          ]
        }
      ]
    },
    {
      "cell_type": "code",
      "source": [
        "# from nltk.translate.meteor_score import meteor_score\n",
        "\n",
        "# # Example with multiple references and a candidate sentence\n",
        "# references = [\"Reference sentence 1\", \"Reference sentence 2\"]\n",
        "# candidate = \"Generated sentence\"\n",
        "\n",
        "# # Calculate METEOR score\n",
        "# meteor_score = meteor_score(references, candidate)\n",
        "# print(f\"METEOR Score: {meteor_score}\")"
      ],
      "metadata": {
        "id": "fyGNvKYs4YC5"
      },
      "execution_count": null,
      "outputs": []
    },
    {
      "source": [
        "ref = [\"'What are the potential legal risks in the following scenario under the Indian Penal Code: 'Ravi sends an email to his friends that contains defamatory remarks about a common acquaintance, thinking it is a private conversation.'\"]\n",
        "gen = ['Ravi could potentially face legal consequences for defamation under Section 499 of the Indian Penal Code. Even though he considered the email a private conversation, the act of sending defamatory remarks about an individual to others could still be construed as defamation.']"
      ],
      "cell_type": "code",
      "metadata": {
        "id": "wL2qOfof7WVy"
      },
      "execution_count": null,
      "outputs": []
    },
    {
      "cell_type": "code",
      "source": [
        "\n",
        "ref = [\"How do the powers of the 'Rajya Sabha' compare to those of the 'Lok Sabha'?\"]\n",
        "gen = ['Both Rajya Sabha (Upper House) and Lok Sabha (Lower House) are integral to the Indian Parliament. While Lok Sabha has greater power in matters of finance and money bills, and deciding the executive government, Rajya Sabha holds special powers to declare a subject as of national importance and safeguards the interests of states and union territories.']"
      ],
      "metadata": {
        "id": "Ln43GhE7JOU4"
      },
      "execution_count": null,
      "outputs": []
    },
    {
      "cell_type": "code",
      "source": [
        "\n",
        "from nltk.translate.bleu_score import SmoothingFunction, corpus_bleu, sentence_bleu\n",
        "\n",
        "\n",
        "def bleu(ref, gen):\n",
        "    '''\n",
        "    calculate pair wise bleu score. uses nltk implementation\n",
        "    Args:\n",
        "        references : a list of reference sentences\n",
        "        candidates : a list of candidate(generated) sentences\n",
        "    Returns:\n",
        "        bleu score(float)\n",
        "    '''\n",
        "    ref_bleu = []\n",
        "    gen_bleu = []\n",
        "    for l in gen:\n",
        "        gen_bleu.append(l.split())\n",
        "    for i,l in enumerate(ref):\n",
        "        ref_bleu.append([l.split()])\n",
        "    cc = SmoothingFunction()\n",
        "    score_bleu = corpus_bleu(ref_bleu, gen_bleu, weights=(0, 1, 0, 0), smoothing_function=cc.method4)\n",
        "    return score_bleu\n",
        "\n",
        "ref = [\"How do the powers of the 'Rajya Sabha' compare to those of the 'Lok Sabha'?\"]\n",
        "gen = ['Both Rajya Sabha (Upper House) and Lok Sabha (Lower House) are integral to the Indian Parliament. While Lok Sabha has greater power in matters of finance and money bills, and deciding the executive government, Rajya Sabha holds special powers to declare a subject as of national importance and safeguards the interests of states and union territories.']\n",
        "bleu(ref,gen)"
      ],
      "metadata": {
        "colab": {
          "base_uri": "https://localhost:8080/"
        },
        "id": "rhLaL-FC57Ua",
        "outputId": "7a45ea2a-c47e-4885-9c35-f544586c5567"
      },
      "execution_count": null,
      "outputs": [
        {
          "output_type": "execute_result",
          "data": {
            "text/plain": [
              "0.007318821255882091"
            ]
          },
          "metadata": {},
          "execution_count": 3
        }
      ]
    },
    {
      "cell_type": "code",
      "source": [],
      "metadata": {
        "id": "rjzu7WJn7Tci"
      },
      "execution_count": null,
      "outputs": []
    },
    {
      "cell_type": "code",
      "source": [
        "\n",
        "def bleu(ref, gen):\n",
        "    '''\n",
        "    calculate pair wise bleu score. uses nltk implementation\n",
        "    Args:\n",
        "        references : a list of reference sentences\n",
        "        candidates : a list of candidate(generated) sentences\n",
        "    Returns:\n",
        "        bleu score(float)\n",
        "    '''\n",
        "    ref_bleu = []\n",
        "    gen_bleu = []\n",
        "    for l in gen:\n",
        "        gen_bleu.append(l.split())\n",
        "    for i,l in enumerate(ref):\n",
        "        ref_bleu.append([l.split()])\n",
        "    cc = SmoothingFunction()\n",
        "    score_bleu = corpus_bleu(ref_bleu, gen_bleu, weights=(0, 1, 0, 0), smoothing_function=cc.method4)\n",
        "    return score_bleu\n",
        "\n",
        "ref=['tell me about section 420? In the context of Indian law, Section 420 is a provision under the Indian Penal Code (IPC) that deals with the offense of cheating and dishonestly inducing delivery of property. Here is the content of Section 420']\n",
        "gen=[\"Section 420 of the Indian Penal Code (IPC) pertains to the offense of criminal intimidation. It is defined under IPC Section 420 as a criminal act that involves threatening or attempting to threaten someone in order to cause harm or apprehension to that person or a third party. Penalties for committing the offense of criminal intimidation vary depending on the specific circumstances of the offense and the severity of the harm caused. For example, criminal intimidation can be punished with a prison term of up to two years or with a fine, or both, under IPC Section 420 It is important to keep in mind that the laws of India are subject to frequent changes and interpretations, and that legal advice should generally only be sought from qualified legal professionals with appropriate knowledge of the relevant laws.\"]\n",
        "bleu(ref,gen)"
      ],
      "metadata": {
        "colab": {
          "base_uri": "https://localhost:8080/"
        },
        "id": "IH3IwWnt8PFy",
        "outputId": "103c25b3-07b8-4637-ed8a-7933e313f4dd"
      },
      "execution_count": null,
      "outputs": [
        {
          "output_type": "execute_result",
          "data": {
            "text/plain": [
              "0.0588235294117647"
            ]
          },
          "metadata": {},
          "execution_count": 22
        }
      ]
    },
    {
      "cell_type": "code",
      "source": [
        "def bleu(ref, gen):\n",
        "    '''\n",
        "    calculate pair wise bleu score. uses nltk implementation\n",
        "    Args:\n",
        "        references : a list of reference sentences\n",
        "        candidates : a list of candidate(generated) sentences\n",
        "    Returns:\n",
        "        bleu score(float)\n",
        "    '''\n",
        "    ref_bleu = []\n",
        "    gen_bleu = []\n",
        "    for l in gen:\n",
        "        gen_bleu.append(l.split())\n",
        "    for i,l in enumerate(ref):\n",
        "        ref_bleu.append([l.split()])\n",
        "    cc = SmoothingFunction()\n",
        "    score_bleu = corpus_bleu(ref_bleu, gen_bleu, weights=(0, 1, 0, 0), smoothing_function=cc.method4)\n",
        "    return score_bleu\n",
        "\n",
        "    ref=[\"What is the importance of Article 32 of the Indian Constitution?\"]\n",
        "    gen=[\"Article 32 is known as the 'Heart and Soul of the Constitution'. It provides for the right to constitutional remedies, enabling citizens to approach the Supreme Court for enforcement of their Fundamental Rights. This provision acts as the guardian of Fundamental Rights, making them meaningful and effective\"]\n",
        "\n",
        "    print(bleu(ref,gen))"
      ],
      "metadata": {
        "id": "lDXdG6oA88DP"
      },
      "execution_count": null,
      "outputs": []
    },
    {
      "cell_type": "code",
      "source": [
        "\n",
        "\n",
        "def bleu(ref, gen):\n",
        "    '''\n",
        "    calculate pair wise bleu score. uses nltk implementation\n",
        "    Args:\n",
        "        references : a list of reference sentences\n",
        "        candidates : a list of candidate(generated) sentences\n",
        "    Returns:\n",
        "        bleu score(float)\n",
        "    '''\n",
        "    ref_bleu = []\n",
        "    gen_bleu = []\n",
        "    for l in gen:\n",
        "        gen_bleu.append(l.split())\n",
        "    for i,l in enumerate(ref):\n",
        "        ref_bleu.append([l.split()])\n",
        "    cc = SmoothingFunction()\n",
        "    score_bleu = corpus_bleu(ref_bleu, gen_bleu, weights=(0, 1, 0, 0), smoothing_function=cc.method4)\n",
        "    return score_bleu\n",
        "\n",
        "ref=['create  500 words case file for legal proceedings  by taking victims statement is John, a pedestrian, was hit by a car while crossing the street at a crosswalk?']\n",
        "gen=[\"Johns victim statement highlights the need for better driver training and compliance with traffic laws to prevent pedestrian accidents. John's legal team could argue that the driver of the car in the incident violated the rights of pedestrians by failing to stop at the crosswalk and failing to show due care and attention. , John's legal team could also pursue a negligence claim against the driver of the car, arguing that the driver was negligent in failing to stop at the crosswalk and causing injury to John. , John's legal team could also argue that the city and state were at fault for allowing inadequate road infrastructure in the area, which led to the accident. \" ]\n",
        "bleu(ref,gen)"
      ],
      "metadata": {
        "colab": {
          "base_uri": "https://localhost:8080/"
        },
        "id": "Zx4RGUbl9s-9",
        "outputId": "34050ddd-cd6a-473a-e27c-94787bb15ed0"
      },
      "execution_count": null,
      "outputs": [
        {
          "output_type": "execute_result",
          "data": {
            "text/plain": [
              "0.004162221165230919"
            ]
          },
          "metadata": {},
          "execution_count": 3
        }
      ]
    },
    {
      "cell_type": "code",
      "source": [
        "ref = [\"'What are the potential legal risks in the following scenario under the Indian Penal Code: 'Ravi sends an email to his friends that contains defamatory remarks about a common acquaintance, thinking it is a private conversation.'\"]\n",
        "gen = ['Ravi could potentially face legal consequences for defamation under Section 499 of the Indian Penal Code. Even though he considered the email a private conversation, the act of sending defamatory remarks about an individual to others could still be construed as defamation.']"
      ],
      "metadata": {
        "id": "XZyqKh5P-c5C"
      },
      "execution_count": null,
      "outputs": []
    },
    {
      "cell_type": "code",
      "source": [
        "def bleu(ref, gen):\n",
        "    '''\n",
        "    calculate pair wise bleu score. uses nltk implementation\n",
        "    Args:\n",
        "        references : a list of reference sentences\n",
        "        candidates : a list of candidate(generated) sentences\n",
        "    Returns:\n",
        "        bleu score(float)\n",
        "    '''\n",
        "    ref_bleu = []\n",
        "    gen_bleu = []\n",
        "    for l in gen:\n",
        "        gen_bleu.append(l.split())\n",
        "    for i,l in enumerate(ref):\n",
        "        ref_bleu.append([l.split()])\n",
        "    cc = SmoothingFunction()\n",
        "    score_bleu = corpus_bleu(ref_bleu, gen_bleu, weights=(0, 1, 0, 0), smoothing_function=cc.method4)\n",
        "    return score_bleu\n",
        "ref = [\"'What are the potential legal risks in the following scenario under the Indian Penal Code: 'Ravi sends an email to his friends that contains defamatory remarks about a common acquaintance, thinking it is a private conversation.'\"]\n",
        "gen = ['Ravi could potentially face legal consequences for defamation under Section 499 of the Indian Penal Code. Even though he considered the email a private conversation, the act of sending defamatory remarks about an individual to others could still be construed as defamation.']\n",
        "bleu(ref,gen)"
      ],
      "metadata": {
        "colab": {
          "base_uri": "https://localhost:8080/"
        },
        "id": "Oe48mbk2JzDA",
        "outputId": "cd09860d-3f88-48d6-a9c2-cd64b707406e"
      },
      "execution_count": null,
      "outputs": [
        {
          "output_type": "execute_result",
          "data": {
            "text/plain": [
              "0.12195121951219512"
            ]
          },
          "metadata": {},
          "execution_count": 6
        }
      ]
    },
    {
      "cell_type": "code",
      "source": [
        "pip install pyter3"
      ],
      "metadata": {
        "colab": {
          "base_uri": "https://localhost:8080/"
        },
        "id": "phZWgar7-dTx",
        "outputId": "85051dd6-5e77-4b68-e8d8-1a86e92e1a79"
      },
      "execution_count": null,
      "outputs": [
        {
          "output_type": "stream",
          "name": "stdout",
          "text": [
            "Collecting pyter3\n",
            "  Downloading pyter3-0.3-py3-none-any.whl (4.1 kB)\n",
            "Installing collected packages: pyter3\n",
            "Successfully installed pyter3-0.3\n"
          ]
        }
      ]
    },
    {
      "cell_type": "code",
      "source": [
        "import pyter\n",
        "\n",
        "def ter(ref, gen):\n",
        "    '''\n",
        "    Args:\n",
        "        ref - reference sentences - in a list\n",
        "        gen - generated sentences - in a list\n",
        "    Returns:\n",
        "        averaged TER score over all sentence pairs\n",
        "    '''\n",
        "    if len(ref) == 1:\n",
        "        total_score =  pyter.ter(gen[0].split(), ref[0].split())\n",
        "    else:\n",
        "        total_score = 0\n",
        "        for i in range(len(gen)):\n",
        "            total_score = total_score + pyter.ter(gen[i].split(), ref[i].split())\n",
        "        total_score = total_score/len(gen)\n",
        "    return total_score\n",
        "\n",
        "ref=['create  500 words case file for legal proceedings  by taking victims statement is John, a pedestrian, was hit by a car while crossing the street at a crosswalk?']\n",
        "gen=[\"Johns victim statement highlights the need for better driver training and compliance with traffic laws to prevent pedestrian accidents. John's legal team could argue that the driver of the car in the incident violated the rights of pedestrians by failing to stop at the crosswalk and failing to show due care and attention. , John's legal team could also pursue a negligence claim against the driver of the car, arguing that the driver was negligent in failing to stop at the crosswalk and causing injury to John. , John's legal team could also argue that the city and state were at fault for allowing inadequate road infrastructure in the area, which led to the accident. \" ]\n",
        "ter(ref,gen)"
      ],
      "metadata": {
        "colab": {
          "base_uri": "https://localhost:8080/"
        },
        "id": "XnzSdtxo-dxp",
        "outputId": "aeaf0a31-c203-4c2f-fe11-67dcffe51333"
      },
      "execution_count": null,
      "outputs": [
        {
          "output_type": "execute_result",
          "data": {
            "text/plain": [
              "3.857142857142857"
            ]
          },
          "metadata": {},
          "execution_count": 8
        }
      ]
    },
    {
      "cell_type": "code",
      "source": [
        "import pyter\n",
        "\n",
        "def ter(ref, gen):\n",
        "    '''\n",
        "    Args:\n",
        "        ref - reference sentences - in a list\n",
        "        gen - generated sentences - in a list\n",
        "    Returns:\n",
        "        averaged TER score over all sentence pairs\n",
        "    '''\n",
        "    if len(ref) == 1:\n",
        "        total_score =  pyter.ter(gen[0].split(), ref[0].split())\n",
        "    else:\n",
        "        total_score = 0\n",
        "        for i in range(len(gen)):\n",
        "            total_score = total_score + pyter.ter(gen[i].split(), ref[i].split())\n",
        "        total_score = total_score/len(gen)\n",
        "    return total_score\n",
        "\n",
        "ref = [\"'What are the potential legal risks in the following scenario under the Indian Penal Code: 'Ravi sends an email to his friends that contains defamatory remarks about a common acquaintance, thinking it is a private conversation.'\"]\n",
        "gen = ['Ravi could potentially face legal consequences for defamation under Section 499 of the Indian Penal Code. Even though he considered the email a private conversation, the act of sending defamatory remarks about an individual to others could still be construed as defamation.']\n",
        "ter(ref,gen)"
      ],
      "metadata": {
        "colab": {
          "base_uri": "https://localhost:8080/"
        },
        "id": "63_3CTfk-4fa",
        "outputId": "6fe715fd-98ad-4acb-d3d3-035f264664b9"
      },
      "execution_count": null,
      "outputs": [
        {
          "output_type": "execute_result",
          "data": {
            "text/plain": [
              "0.9444444444444444"
            ]
          },
          "metadata": {},
          "execution_count": 9
        }
      ]
    },
    {
      "cell_type": "code",
      "source": [
        "def ter(ref, gen):\n",
        "    '''\n",
        "    Args:\n",
        "        ref - reference sentences - in a list\n",
        "        gen - generated sentences - in a list\n",
        "    Returns:\n",
        "        averaged TER score over all sentence pairs\n",
        "    '''\n",
        "    if len(ref) == 1:\n",
        "        total_score =  pyter.ter(gen[0].split(), ref[0].split())\n",
        "    else:\n",
        "        total_score = 0\n",
        "        for i in range(len(gen)):\n",
        "            total_score = total_score + pyter.ter(gen[i].split(), ref[i].split())\n",
        "        total_score = total_score/len(gen)\n",
        "    return total_score\n",
        "\n",
        "ref = [\"How do the powers of the 'Rajya Sabha' compare to those of the 'Lok Sabha'?\"]\n",
        "gen = ['Both Rajya Sabha (Upper House) and Lok Sabha (Lower House) are integral to the Indian Parliament. While Lok Sabha has greater power in matters of finance and money bills, and deciding the executive government, Rajya Sabha holds special powers to declare a subject as of national importance and safeguards the interests of states and union territories.']\n",
        "ter(ref,gen)"
      ],
      "metadata": {
        "colab": {
          "base_uri": "https://localhost:8080/"
        },
        "id": "hikx34efAfrI",
        "outputId": "b9c74db6-adbd-4562-eecc-78d5f2034ee6"
      },
      "execution_count": null,
      "outputs": [
        {
          "output_type": "execute_result",
          "data": {
            "text/plain": [
              "3.3333333333333335"
            ]
          },
          "metadata": {},
          "execution_count": 30
        }
      ]
    },
    {
      "cell_type": "code",
      "source": [],
      "metadata": {
        "id": "6ZA8W98CBBEW"
      },
      "execution_count": null,
      "outputs": []
    },
    {
      "cell_type": "code",
      "source": [
        "# ter"
      ],
      "metadata": {
        "id": "In7AZF3akkYf"
      },
      "execution_count": null,
      "outputs": []
    },
    {
      "cell_type": "code",
      "source": [
        "def ter(ref, gen):\n",
        "    '''\n",
        "    Args:\n",
        "        ref - reference sentences - in a list\n",
        "        gen - generated sentences - in a list\n",
        "    Returns:\n",
        "        averaged TER score over all sentence pairs\n",
        "    '''\n",
        "    if len(ref) == 1:\n",
        "        total_score =  pyter.ter(gen[0].split(), ref[0].split())\n",
        "    else:\n",
        "        total_score = 0\n",
        "        for i in range(len(gen)):\n",
        "            total_score = total_score + pyter.ter(gen[i].split(), ref[i].split())\n",
        "        total_score = total_score/len(gen)\n",
        "    return total_score\n",
        "\n",
        "ref = [\"create FIR Document by taking victims statement is John, a pedestrian, was hit by a car while crossing the street at a crosswalk?\"]\n",
        "gen = [\"I am John, a pedestrian who was hit by a car while crossing the street at a crosswalk. My statement is to inform the authorities of the accident and to provide a detailed account of the events leading up to and following the incident. I was crossing the street at a designated crosswalk when the car struck me. I suffered moderate injuries and was taken to a nearby hospital for medical treatment. I believe that the driver of the car was negligent and failed to yield the right of way at the crosswalk, causing the accident. I demand justice and compensation for the injuries sustained in the incident. I have attached photographic evidence of the accident scene, including photographs of the damage to the car and the injuries sustained by me. Sincerely, John Victim's Signature: John\"]\n",
        "ter(ref,gen)"
      ],
      "metadata": {
        "colab": {
          "base_uri": "https://localhost:8080/"
        },
        "id": "0UbMH6PokkM5",
        "outputId": "625c60d4-f3b3-4431-af26-65f5bf214e78"
      },
      "execution_count": null,
      "outputs": [
        {
          "output_type": "execute_result",
          "data": {
            "text/plain": [
              "5.3478260869565215"
            ]
          },
          "metadata": {},
          "execution_count": 11
        }
      ]
    },
    {
      "cell_type": "code",
      "source": [
        "def ter(ref, gen):\n",
        "    '''\n",
        "    Args:\n",
        "        ref - reference sentences - in a list\n",
        "        gen - generated sentences - in a list\n",
        "    Returns:\n",
        "        averaged TER score over all sentence pairs\n",
        "    '''\n",
        "    if len(ref) == 1:\n",
        "        total_score =  pyter.ter(gen[0].split(), ref[0].split())\n",
        "    else:\n",
        "        total_score = 0\n",
        "        for i in range(len(gen)):\n",
        "            total_score = total_score + pyter.ter(gen[i].split(), ref[i].split())\n",
        "        total_score = total_score/len(gen)\n",
        "    return total_score\n",
        "\n",
        "ref = [\"Can you provide some sections and laws that are used by lawyers\"]\n",
        "gen = [\"Sure! Here are some laws and regulations that are often used by lawyers: 1. Constitution of India: The Constitution of India sets out the basic structure of the Indian legal system, including the rights and duties of individuals, the powers of the government, and the relationship between the federal and state governments. 2. Indian Contract Act, 1872: The Indian Contract Act sets out the rules for the formation, performance, and enforcement of contracts in India. 3. Indian Penal Code, 1837: The Indian Penal Code sets out the provisions for criminal law in India, including the punishments for various crimes. 4. Civil Procedure Code, 1908: The Civil Procedure Code sets out the rules for civil litigation in India, including the procedures for filing lawsuits, serving notice, and conducting trials. 5. Code of Civil Procedure, 1955: The Code of Civil Procedure sets out the rules for filing and handling civil cases in India, including the procedures for filing lawsuits, serving notice, and conducting trials. 6. Arbitration and Conciliation Act, 1996: The Arbitration and Conciliation Act sets out the rules for the resolution of disputes through arbitration and conciliation in India. 7. Insolvency and Bankruptcy Code, 2016: The Insolvency and Bankruptcy Code sets out the rules for the resolution of insolvency and bankruptcy in India. 8. Securities Exchange Board of India Act, 1992: The Securities Exchange Board of India Act sets out the rules for the regulation of securities markets in India. 9. Foreign Exchange Management Act, 1999: The Foreign Exchange Management Act sets out the rules for the regulation of foreign exchange transactions in India. These are just a few examples of the laws and regulations that lawyers in India must be familiar with. The specific laws and regulations that apply to a given situation will depend on the facts and circumstances of the case.\"]\n",
        "ter(ref,gen)"
      ],
      "metadata": {
        "colab": {
          "base_uri": "https://localhost:8080/"
        },
        "id": "05jQA6sumeCA",
        "outputId": "3a4758b0-cc40-4621-e50c-d685f290d234"
      },
      "execution_count": null,
      "outputs": [
        {
          "output_type": "execute_result",
          "data": {
            "text/plain": [
              "24.666666666666668"
            ]
          },
          "metadata": {},
          "execution_count": 12
        }
      ]
    },
    {
      "cell_type": "code",
      "source": [
        "def ter(ref, gen):\n",
        "    '''\n",
        "    Args:\n",
        "        ref - reference sentences - in a list\n",
        "        gen - generated sentences - in a list\n",
        "    Returns:\n",
        "        averaged TER score over all sentence pairs\n",
        "    '''\n",
        "    if len(ref) == 1:\n",
        "        total_score =  pyter.ter(gen[0].split(), ref[0].split())\n",
        "    else:\n",
        "        total_score = 0\n",
        "        for i in range(len(gen)):\n",
        "            total_score = total_score + pyter.ter(gen[i].split(), ref[i].split())\n",
        "        total_score = total_score/len(gen)\n",
        "    return total_score\n",
        "\n",
        "ref = [\"What is section 498 a of Indian penal code?\"]\n",
        "gen = [\"\"\"498-A of Indian Penal Code deals with \"Husband or relative of husband subjecting a woman to cruelty.\" This section was enacted in 1970 to criminalize the act of subjecting a woman to cruelty by her husband or any relative of her husband. Punishment for violation of this section includes imprisonment for a term which may extend to 3 years and also to pay a fine. The law was enacted to protect the rights of women in India and to curb the practice of cruelty meted out to them by their husbands or relatives. Since its enactment, this law has been instrumental in protecting the rights of women and in maintaining law and order in the country. However, there have been some criticisms of this law. Some have argued that this law is often misused and that women themselves may use it to harass their husbands or other relatives. Others have pointed out that the definition of cruelty under this law is vague and can include trivial acts, such as scolding or refusing to cook meals. Despite these criticisms, the law remains an important tool for protecting the rights of women in India. It has helped to change attitudes towards women and to promote gender equality, and has been instrumental in bringing perpetrators of domestic violence to justice. In conclusion, this law is a crucial provision in the Indian Penal Code that helps to protect the rights of women from being subjected to cruelty by their husbands or any relative of their husband. It is an important step towards gender equality and promoting a society that values and respects the rights of all individuals.\"\"\"]\n",
        "ter(ref,gen)"
      ],
      "metadata": {
        "colab": {
          "base_uri": "https://localhost:8080/"
        },
        "id": "vku1hMdKnKn6",
        "outputId": "25241a92-e0e2-4cdc-8cee-bcf39f3d1a82"
      },
      "execution_count": null,
      "outputs": [
        {
          "output_type": "execute_result",
          "data": {
            "text/plain": [
              "29.88888888888889"
            ]
          },
          "metadata": {},
          "execution_count": 16
        }
      ]
    },
    {
      "cell_type": "code",
      "source": [
        "def ter(ref, gen):\n",
        "    '''\n",
        "    Args:\n",
        "        ref - reference sentences - in a list\n",
        "        gen - generated sentences - in a list\n",
        "    Returns:\n",
        "        averaged TER score over all sentence pairs\n",
        "    '''\n",
        "    if len(ref) == 1:\n",
        "        total_score =  pyter.ter(gen[0].split(), ref[0].split())\n",
        "    else:\n",
        "        total_score = 0\n",
        "        for i in range(len(gen)):\n",
        "            total_score = total_score + pyter.ter(gen[i].split(), ref[i].split())\n",
        "        total_score = total_score/len(gen)\n",
        "    return total_score\n",
        "\n",
        "ref = [\"What is the Judgement of 498A\"]\n",
        "gen = [\"The case of 498A of the Indian Penal Code, 1860, is a landmark case in India related to domestic violence. In this case, a man was charged with and later convicted of murdering his wife, who was a victim of domestic violence. The court held that Section 302 (punishment for murder) and Section 149 (punishment for criminal conspiracy) of the IPC applied to this case, and the accused was accordingly sentenced to death. The court also considered several other factors in its decision, including the fact that the victim was a woman and was subject to violence by her husband and his family. The court held that domestic violence is a heinous crime that must be dealt with strongly, and that the law must be enforced to protect the rights of women and children. The judgment of 498A has been widely cited and has set a precedent for the enforcement of domestic violence laws in India. Reasons for the judgment of 498A: The court in the case of 498A observed that the Indian Penal Code, 1860 does not explicitly state that domestic violence falls within its purview. However, the court found that Section 2(a) of the IPC, which defines cruelty, applies to this case. The court further observed that domestic violence is a heinous crime that is not limited to any particular gender or community and that it is a serious offense against human dignity. The court noted that the law must be enforced to protect the rights of women and children who are the most vulnerable to domestic violence. Conclusion: The judgment of 498A in India highlights the importance of enforcing domestic violence laws to protect the rights of women and children. The court held that Section 2(a) of the IPC applies to this case and that the law must be enforced to prevent and punish such heinous crimes. The judgment has been widely cited and has set a precedent for the enforcement of domestic violence laws in India.\"]\n",
        "ter(ref,gen)"
      ],
      "metadata": {
        "colab": {
          "base_uri": "https://localhost:8080/"
        },
        "id": "agNGL57Yoa75",
        "outputId": "e077db75-9017-412b-953d-7c7ac3bd2744"
      },
      "execution_count": null,
      "outputs": [
        {
          "output_type": "execute_result",
          "data": {
            "text/plain": [
              "54.333333333333336"
            ]
          },
          "metadata": {},
          "execution_count": 18
        }
      ]
    },
    {
      "cell_type": "code",
      "source": [
        "def ter(ref, gen):\n",
        "    '''\n",
        "    Args:\n",
        "        ref - reference sentences - in a list\n",
        "        gen - generated sentences - in a list\n",
        "    Returns:\n",
        "        averaged TER score over all sentence pairs\n",
        "    '''\n",
        "    if len(ref) == 1:\n",
        "        total_score =  pyter.ter(gen[0].split(), ref[0].split())\n",
        "    else:\n",
        "        total_score = 0\n",
        "        for i in range(len(gen)):\n",
        "            total_score = total_score + pyter.ter(gen[i].split(), ref[i].split())\n",
        "        total_score = total_score/len(gen)\n",
        "    return total_score\n",
        "\n",
        "ref = [\"tell me about section 420\"]\n",
        "gen = [\"As an AI language model, I don't have the authority to advise people or give legal advice. It is crucial to consult a legal professional for advice on how to interpret and apply the law. In general, Section 420 of the Indian Penal Code (IPC) pertains to the offense of criminal intimidation. It is defined under IPC Section 420 as a criminal act that involves threatening or attempting to threaten someone in order to cause harm or apprehension to that person or a third party. Penalties for committing the offense of criminal intimidation vary depending on the specific circumstances of the offense and the severity of the harm caused. For example, criminal intimidation can be punished with a prison term of up to two years or with a fine, or both, under IPC Section 420 It is important to keep in mind that the laws of India are subject to frequent changes and interpretations, and that legal advice should generally only be sought from qualified legal professionals with appropriate knowledge of the relevant laws.\"]\n",
        "ter(ref,gen)"
      ],
      "metadata": {
        "colab": {
          "base_uri": "https://localhost:8080/"
        },
        "id": "Ps5qiW3SpJwQ",
        "outputId": "e54bd9e6-1cc8-4b65-8535-29edfa95bc74"
      },
      "execution_count": null,
      "outputs": [
        {
          "output_type": "execute_result",
          "data": {
            "text/plain": [
              "34.6"
            ]
          },
          "metadata": {},
          "execution_count": 19
        }
      ]
    },
    {
      "cell_type": "code",
      "source": [
        "def ter(ref, gen):\n",
        "    '''\n",
        "    Args:\n",
        "        ref - reference sentences - in a list\n",
        "        gen - generated sentences - in a list\n",
        "    Returns:\n",
        "        averaged TER score over all sentence pairs\n",
        "    '''\n",
        "    if len(ref) == 1:\n",
        "        total_score =  pyter.ter(gen[0].split(), ref[0].split())\n",
        "    else:\n",
        "        total_score = 0\n",
        "        for i in range(len(gen)):\n",
        "            total_score = total_score + pyter.ter(gen[i].split(), ref[i].split())\n",
        "        total_score = total_score/len(gen)\n",
        "    return total_score\n",
        "\n",
        "ref = [\"Explain the principles and key provisions of the Goods and Services Tax (GST) Act in India.\"]\n",
        "gen = [\"The Goods and Services Tax (GST) Act in India is a comprehensive indirect tax law that was introduced in 2017 to replace multiple state and central taxes with a single tax system. The key provisions of the GST Act are as follows: 1. Constitutional Provisions: The GST Act is based on the Constitution of India, specifically Article 246, which provides for the levy of taxes by the Union and the states. 2. Tax Structure: The GST Act provides for a multi-tier tax structure, with taxes levied at the central, state, and local levels. The tax rates are categorized into four slabs: 5%, 12%, 18%, and 28%. 3. Taxable Events: The GST Act defines the taxable events, including the supply of goods and services, import of goods, and inter-state supply of goods and services. 4. Tax Incentives: The GST Act provides for tax incentives, such as the composition scheme, which allows small businesses to pay a lower tax rate. 5. Tax Credits: The GST Act allows tax credits for taxes paid on inputs, which can be used to offset the tax liability on output supplies. 6. Electronic Filing: The GST Act requires taxpayers to file returns electronically, which can be done through the GST portal. 7. Tax Compliance: The GST Act provides for tax compliance measures, such as the requirement to maintain records and submit returns, and the power of the tax authorities to conduct audits and inspections. 8. Dispute Resolution: The GST Act provides for a dispute resolution mechanism, which includes the GST Appellate Tribunal and the GST Council. 9. Anti-Dumping Duty: The GST Act provides for the imposition of anti-dumping duty on imported goods that are considered to be dumped in the Indian market. 10. Cross-Border Supplies: The GST Act provides for the taxation of cross-border supplies of goods and services, including the levy of taxes on imports and exports. These are some of the key provisions of the GST Act in India. The Act is a comprehensive and complex piece of legislation, and it is important to seek professional advice to understand its implications and compliance requirements.\"]\n",
        "ter(ref,gen)"
      ],
      "metadata": {
        "colab": {
          "base_uri": "https://localhost:8080/"
        },
        "id": "OfSZhvrOpbZo",
        "outputId": "3be648cf-8fea-4e7a-a7c8-2c672544164b"
      },
      "execution_count": null,
      "outputs": [
        {
          "output_type": "execute_result",
          "data": {
            "text/plain": [
              "21.1875"
            ]
          },
          "metadata": {},
          "execution_count": 20
        }
      ]
    },
    {
      "cell_type": "code",
      "source": [
        "def ter(ref, gen):\n",
        "    '''\n",
        "    Args:\n",
        "        ref - reference sentences - in a list\n",
        "        gen - generated sentences - in a list\n",
        "    Returns:\n",
        "        averaged TER score over all sentence pairs\n",
        "    '''\n",
        "    if len(ref) == 1:\n",
        "        total_score =  pyter.ter(gen[0].split(), ref[0].split())\n",
        "    else:\n",
        "        total_score = 0\n",
        "        for i in range(len(gen)):\n",
        "            total_score = total_score + pyter.ter(gen[i].split(), ref[i].split())\n",
        "        total_score = total_score/len(gen)\n",
        "    return total_score\n",
        "\n",
        "ref = [\"What are the potential legal risks in the following scenario under the Indian Penal Code: 'Ravi sends an email to his friends that contains defamatory remarks about a common acquaintance, thinking it is a private conversation.\"]\n",
        "gen = [\"Under the Indian Penal Code, the potential legal risks in the given scenario could include: 1. Defamation: Ravi's email could be considered defamatory, as it contains derogatory remarks about a person's character. If the recipients of the email share it with others, it could lead to the spread of defamatory material, which is a criminal offense under Section 499 of the Indian Penal Code. 2. Contempt of Court: If the email contains any remarks that could be considered contemptuous towards a court or any legal authority, it could lead to a criminal complaint under Section 228 of the Indian Penal Code. 3. Hate Speech: If the email contains any hate speech or incites violence against any particular group of people, it could lead to a criminal complaint under Section 153A of the Indian Penal Code. 4. Harassment: If the email contains any threatening or harassing language, it could lead to a criminal complaint under Section 506 of the Indian Penal Code. 5. Privacy Violation: If the email contains any personal information about the recipient without their consent, it could lead to a criminal complaint under Section 660 of the Indian Penal Code. It is important to note that the specific legal risks in the given scenario would depend on the facts and circumstances of the case. Therefore, it is advisable to consult with a legal professional to determine the potential legal risks in any given situation.\"]\n",
        "ter(ref,gen)"
      ],
      "metadata": {
        "colab": {
          "base_uri": "https://localhost:8080/"
        },
        "id": "cr3zAGkHpc7f",
        "outputId": "26f68f5a-3aa2-4d9a-94b4-6263a819a781"
      },
      "execution_count": null,
      "outputs": [
        {
          "output_type": "execute_result",
          "data": {
            "text/plain": [
              "6.027777777777778"
            ]
          },
          "metadata": {},
          "execution_count": 21
        }
      ]
    },
    {
      "cell_type": "code",
      "source": [
        "def ter(ref, gen):\n",
        "    '''\n",
        "    Args:\n",
        "        ref - reference sentences - in a list\n",
        "        gen - generated sentences - in a list\n",
        "    Returns:\n",
        "        averaged TER score over all sentence pairs\n",
        "    '''\n",
        "    if len(ref) == 1:\n",
        "        total_score =  pyter.ter(gen[0].split(), ref[0].split())\n",
        "    else:\n",
        "        total_score = 0\n",
        "        for i in range(len(gen)):\n",
        "            total_score = total_score + pyter.ter(gen[i].split(), ref[i].split())\n",
        "        total_score = total_score/len(gen)\n",
        "    return total_score\n",
        "\n",
        "ref = [\"How do the powers of the 'Rajya Sabha' compare to those of the 'Lok Sabha'?\"]\n",
        "gen = [\"The Rajya Sabha and the Lok Sabha are the two houses of the Indian Parliament. The Rajya Sabha, also known as the Council of States, is a permanent house with a maximum strength of 250 members. The members are elected by the state legislatures for a term of six years. The Rajya Sabha has limited powers compared to the Lok Sabha, and its main function is to review and amend bills passed by the Lok Sabha. The Lok Sabha, also known as the House of the People, is the lower house of the Indian Parliament with a maximum strength of 545 members. The members are elected directly by the people for a term of five years. The Lok Sabha has more powers than the Rajya Sabha, and it is responsible for passing laws and exercising control over the government. In summary, the Rajya Sabha has limited powers compared to the Lok Sabha, and its main function is to review and amend bills passed by the Lok Sabha. The Lok Sabha has more powers than the Rajya Sabha and is responsible for passing laws and exercising control over the government.\"]\n",
        "ter(ref,gen)"
      ],
      "metadata": {
        "colab": {
          "base_uri": "https://localhost:8080/"
        },
        "id": "MFLu2f7gphH2",
        "outputId": "ba036aea-50c7-40c9-b73c-080d6cb66383"
      },
      "execution_count": null,
      "outputs": [
        {
          "output_type": "execute_result",
          "data": {
            "text/plain": [
              "12.2"
            ]
          },
          "metadata": {},
          "execution_count": 22
        }
      ]
    },
    {
      "cell_type": "code",
      "source": [
        "def ter(ref, gen):\n",
        "    '''\n",
        "    Args:\n",
        "        ref - reference sentences - in a list\n",
        "        gen - generated sentences - in a list\n",
        "    Returns:\n",
        "        averaged TER score over all sentence pairs\n",
        "    '''\n",
        "    if len(ref) == 1:\n",
        "        total_score =  pyter.ter(gen[0].split(), ref[0].split())\n",
        "    else:\n",
        "        total_score = 0\n",
        "        for i in range(len(gen)):\n",
        "            total_score = total_score + pyter.ter(gen[i].split(), ref[i].split())\n",
        "        total_score = total_score/len(gen)\n",
        "    return total_score\n",
        "\n",
        "ref = [\"Explain the legal aspects surrounding online dispute resolution mechanisms and their enforceability in India.\"]\n",
        "gen = [\"The legal aspects surrounding ODR mechanisms in India include: 1. Jurisdiction: ODR mechanisms are subject to the jurisdiction of the courts in India. The Indian Contract Act, 1872, and the Information Technology Act, 2000, provide the legal framework for the enforcement of ODR mechanisms in India. 2. Legal recognition: ODR mechanisms are recognized as a valid mode of dispute resolution in India. The Indian Contract Act, 1872, and the Information Technology Act, 2000, provide legal recognition to ODR mechanisms. 3. Enforceability: ODR mechanisms are enforceable in India through the courts. The Indian Contract Act, 1872, and the Information Technology Act, 2000, provide the legal framework for the enforcement of ODR mechanisms in India. 4. Arbitration: ODR mechanisms can be used for arbitration in India. The Arbitration and Conciliation Act, 1996, provides the legal framework for arbitration in India. 5. Mediation: ODR mechanisms can be used for mediation in India. The Mediation Act, 2019, provides the legal framework for mediation in India. 6. Electronic evidence: ODR mechanisms can be used to collect and present electronic evidence in India. The Indian Evidence Act, 1872, provides the legal framework for the admission of electronic evidence in India. 7. Data privacy: ODR mechanisms must comply with data privacy laws in India. The Indian Data Protection Act, 2018, provides the legal framework for data privacy in India. 8. Intellectual property: ODR mechanisms must comply with intellectual property laws in India. The Indian Patents Act, 1970, and the Indian Copyright Act, 1957, provide the legal framework for intellectual property in India. 9. Consumer protection: ODR mechanisms must comply with consumer protection laws in India. The Consumer Protection Act, 1986, provides the legal framework for consumer protection in India. In conclusion, ODR mechanisms are legal and enforceable in India. They are subject to the jurisdiction of the courts in India and must comply with Indian laws, including the Indian Contract Act, 1872, the Indian Penal Code, 1860, the Information Technology Act, 2000, the Arbitration and Conciliation Act, 1996, the Mediation Act, 2019, the Indian Evidence Act, 1872, the Indian Data Protection Act, 2018, the Indian Patents Act, 1970, and the Indian Copyright Act, 1957.\"]\n",
        "ter(ref,gen)"
      ],
      "metadata": {
        "colab": {
          "base_uri": "https://localhost:8080/"
        },
        "id": "tUiMwlUbpiIW",
        "outputId": "d7a660f1-5116-4a31-82e9-2a9546108749"
      },
      "execution_count": null,
      "outputs": [
        {
          "output_type": "execute_result",
          "data": {
            "text/plain": [
              "24.857142857142858"
            ]
          },
          "metadata": {},
          "execution_count": 23
        }
      ]
    },
    {
      "cell_type": "code",
      "source": [
        "def ter(ref, gen):\n",
        "    '''\n",
        "    Args:\n",
        "        ref - reference sentences - in a list\n",
        "        gen - generated sentences - in a list\n",
        "    Returns:\n",
        "        averaged TER score over all sentence pairs\n",
        "    '''\n",
        "    if len(ref) == 1:\n",
        "        total_score =  pyter.ter(gen[0].split(), ref[0].split())\n",
        "    else:\n",
        "        total_score = 0\n",
        "        for i in range(len(gen)):\n",
        "            total_score = total_score + pyter.ter(gen[i].split(), ref[i].split())\n",
        "        total_score = total_score/len(gen)\n",
        "    return total_score\n",
        "\n",
        "ref = [\"Discuss the legal implications of the recent amendments to the Indian Penal Code regarding cybercrimes.\"]\n",
        "gen = [\"The recent amendments to the Indian Penal Code regarding cybercrimes have expanded the scope of criminal liability for offenses committed through digital means, and have introduced new provisions for dealing with such offenses. These amendments demonstrate the Indian government's commitment to addressing the growing threat of cybercrime in the country, and to ensuring that the legal framework is adequate to deal with the challenges posed by this type of crime.\"]\n",
        "ter(ref,gen)"
      ],
      "metadata": {
        "colab": {
          "base_uri": "https://localhost:8080/"
        },
        "id": "4HVBp8strZuW",
        "outputId": "7f2b8215-9e51-4c9d-9f1a-a7c15d48a089"
      },
      "execution_count": null,
      "outputs": [
        {
          "output_type": "execute_result",
          "data": {
            "text/plain": [
              "4.133333333333334"
            ]
          },
          "metadata": {},
          "execution_count": 24
        }
      ]
    },
    {
      "cell_type": "code",
      "source": [],
      "metadata": {
        "id": "f4pI81HFrZP2"
      },
      "execution_count": null,
      "outputs": []
    },
    {
      "cell_type": "code",
      "source": [
        "# blue"
      ],
      "metadata": {
        "id": "qkVB29bDrZDw"
      },
      "execution_count": null,
      "outputs": []
    },
    {
      "cell_type": "code",
      "source": [
        "\n",
        "def bleu(ref, gen):\n",
        "    '''\n",
        "    calculate pair wise bleu score. uses nltk implementation\n",
        "    Args:\n",
        "        references : a list of reference sentences\n",
        "        candidates : a list of candidate(generated) sentences\n",
        "    Returns:\n",
        "        bleu score(float)\n",
        "    '''\n",
        "    ref_bleu = []\n",
        "    gen_bleu = []\n",
        "    for l in gen:\n",
        "        gen_bleu.append(l.split())\n",
        "    for i,l in enumerate(ref):\n",
        "        ref_bleu.append([l.split()])\n",
        "    cc = SmoothingFunction()\n",
        "    score_bleu = corpus_bleu(ref_bleu, gen_bleu, weights=(0, 1, 0, 0), smoothing_function=cc.method4)\n",
        "    return score_bleu\n",
        "\n",
        "ref = [\"create FIR Document by taking victims statement is John, a pedestrian, was hit by a car while crossing the street at a crosswalk?\"]\n",
        "gen = [\"I am John, a pedestrian who was hit by a car while crossing the street at a crosswalk. My statement is to inform the authorities of the accident and to provide a detailed account of the events leading up to and following the incident. I was crossing the street at a designated crosswalk when the car struck me. I suffered moderate injuries and was taken to a nearby hospital for medical treatment. I believe that the driver of the car was negligent and failed to yield the right of way at the crosswalk, causing the accident. I demand justice and compensation for the injuries sustained in the incident. I have attached photographic evidence of the accident scene, including photographs of the damage to the car and the injuries sustained by me. Sincerely, John Victim's Signature: John\"]\n",
        "bleu(ref,gen)"
      ],
      "metadata": {
        "colab": {
          "base_uri": "https://localhost:8080/"
        },
        "id": "a8mIXs6KsoQs",
        "outputId": "91477999-fa7b-4411-8af5-0d5649388014"
      },
      "execution_count": null,
      "outputs": [
        {
          "output_type": "execute_result",
          "data": {
            "text/plain": [
              "0.08888888888888888"
            ]
          },
          "metadata": {},
          "execution_count": 26
        }
      ]
    },
    {
      "cell_type": "code",
      "source": [
        "def bleu(ref, gen):\n",
        "    '''\n",
        "    calculate pair wise bleu score. uses nltk implementation\n",
        "    Args:\n",
        "        references : a list of reference sentences\n",
        "        candidates : a list of candidate(generated) sentences\n",
        "    Returns:\n",
        "        bleu score(float)\n",
        "    '''\n",
        "    ref_bleu = []\n",
        "    gen_bleu = []\n",
        "    for l in gen:\n",
        "        gen_bleu.append(l.split())\n",
        "    for i,l in enumerate(ref):\n",
        "        ref_bleu.append([l.split()])\n",
        "    cc = SmoothingFunction()\n",
        "    score_bleu = corpus_bleu(ref_bleu, gen_bleu, weights=(0, 1, 0, 0), smoothing_function=cc.method4)\n",
        "    return score_bleu\n",
        "\n",
        "ref = [\"Can you provide some sections and laws that are used by lawyers\"]\n",
        "gen = [\"Sure! Here are some laws and regulations that are often used by lawyers: 1. Constitution of India: The Constitution of India sets out the basic structure of the Indian legal system, including the rights and duties of individuals, the powers of the government, and the relationship between the federal and state governments. 2. Indian Contract Act, 1872: The Indian Contract Act sets out the rules for the formation, performance, and enforcement of contracts in India. 3. Indian Penal Code, 1837: The Indian Penal Code sets out the provisions for criminal law in India, including the punishments for various crimes. 4. Civil Procedure Code, 1908: The Civil Procedure Code sets out the rules for civil litigation in India, including the procedures for filing lawsuits, serving notice, and conducting trials. 5. Code of Civil Procedure, 1955: The Code of Civil Procedure sets out the rules for filing and handling civil cases in India, including the procedures for filing lawsuits, serving notice, and conducting trials. 6. Arbitration and Conciliation Act, 1996: The Arbitration and Conciliation Act sets out the rules for the resolution of disputes through arbitration and conciliation in India. 7. Insolvency and Bankruptcy Code, 2016: The Insolvency and Bankruptcy Code sets out the rules for the resolution of insolvency and bankruptcy in India. 8. Securities Exchange Board of India Act, 1992: The Securities Exchange Board of India Act sets out the rules for the regulation of securities markets in India. 9. Foreign Exchange Management Act, 1999: The Foreign Exchange Management Act sets out the rules for the regulation of foreign exchange transactions in India. These are just a few examples of the laws and regulations that lawyers in India must be familiar with. The specific laws and regulations that apply to a given situation will depend on the facts and circumstances of the case.\"]\n",
        "bleu(ref,gen)"
      ],
      "metadata": {
        "colab": {
          "base_uri": "https://localhost:8080/"
        },
        "id": "0hlZj7P-s8I-",
        "outputId": "c41f3a4c-3186-40f2-b2b3-a0d78d17d6b3"
      },
      "execution_count": null,
      "outputs": [
        {
          "output_type": "execute_result",
          "data": {
            "text/plain": [
              "0.006622516556291391"
            ]
          },
          "metadata": {},
          "execution_count": 27
        }
      ]
    },
    {
      "cell_type": "code",
      "source": [
        "\n",
        "def bleu(ref, gen):\n",
        "    '''\n",
        "    calculate pair wise bleu score. uses nltk implementation\n",
        "    Args:\n",
        "        references : a list of reference sentences\n",
        "        candidates : a list of candidate(generated) sentences\n",
        "    Returns:\n",
        "        bleu score(float)\n",
        "    '''\n",
        "    ref_bleu = []\n",
        "    gen_bleu = []\n",
        "    for l in gen:\n",
        "        gen_bleu.append(l.split())\n",
        "    for i,l in enumerate(ref):\n",
        "        ref_bleu.append([l.split()])\n",
        "    cc = SmoothingFunction()\n",
        "    score_bleu = corpus_bleu(ref_bleu, gen_bleu, weights=(0, 1, 0, 0), smoothing_function=cc.method4)\n",
        "    return score_bleu\n",
        "\n",
        "ref = [\"What is section 498 a of Indian penal code?\"]\n",
        "gen = [\"\"\"498-A of Indian Penal Code deals with \"Husband or relative of husband subjecting a woman to cruelty.\" This section was enacted in 1970 to criminalize the act of subjecting a woman to cruelty by her husband or any relative of her husband. Punishment for violation of this section includes imprisonment for a term which may extend to 3 years and also to pay a fine. The law was enacted to protect the rights of women in India and to curb the practice of cruelty meted out to them by their husbands or relatives. Since its enactment, this law has been instrumental in protecting the rights of women and in maintaining law and order in the country. However, there have been some criticisms of this law. Some have argued that this law is often misused and that women themselves may use it to harass their husbands or other relatives. Others have pointed out that the definition of cruelty under this law is vague and can include trivial acts, such as scolding or refusing to cook meals. Despite these criticisms, the law remains an important tool for protecting the rights of women in India. It has helped to change attitudes towards women and to promote gender equality, and has been instrumental in bringing perpetrators of domestic violence to justice. In conclusion, this law is a crucial provision in the Indian Penal Code that helps to protect the rights of women from being subjected to cruelty by their husbands or any relative of their husband. It is an important step towards gender equality and promoting a society that values and respects the rights of all individuals.\"\"\"]\n",
        "bleu(ref,gen)"
      ],
      "metadata": {
        "colab": {
          "base_uri": "https://localhost:8080/"
        },
        "id": "O4R4F2B_tL3T",
        "outputId": "0bea84e5-8dfc-443d-82e8-4abedc2bf412"
      },
      "execution_count": null,
      "outputs": [
        {
          "output_type": "execute_result",
          "data": {
            "text/plain": [
              "0.0036764705882352923"
            ]
          },
          "metadata": {},
          "execution_count": 28
        }
      ]
    },
    {
      "cell_type": "code",
      "source": [
        "\n",
        "def bleu(ref, gen):\n",
        "    '''\n",
        "    calculate pair wise bleu score. uses nltk implementation\n",
        "    Args:\n",
        "        references : a list of reference sentences\n",
        "        candidates : a list of candidate(generated) sentences\n",
        "    Returns:\n",
        "        bleu score(float)\n",
        "    '''\n",
        "    ref_bleu = []\n",
        "    gen_bleu = []\n",
        "    for l in gen:\n",
        "        gen_bleu.append(l.split())\n",
        "    for i,l in enumerate(ref):\n",
        "        ref_bleu.append([l.split()])\n",
        "    cc = SmoothingFunction()\n",
        "    score_bleu = corpus_bleu(ref_bleu, gen_bleu, weights=(0, 1, 0, 0), smoothing_function=cc.method4)\n",
        "    return score_bleu\n",
        "\n",
        "ref = [\"What is the Judgement of 498A\"]\n",
        "gen = [\"The case of 498A of the Indian Penal Code, 1860, is a landmark case in India related to domestic violence. In this case, a man was charged with and later convicted of murdering his wife, who was a victim of domestic violence. The court held that Section 302 (punishment for murder) and Section 149 (punishment for criminal conspiracy) of the IPC applied to this case, and the accused was accordingly sentenced to death. The court also considered several other factors in its decision, including the fact that the victim was a woman and was subject to violence by her husband and his family. The court held that domestic violence is a heinous crime that must be dealt with strongly, and that the law must be enforced to protect the rights of women and children. The judgment of 498A has been widely cited and has set a precedent for the enforcement of domestic violence laws in India. Reasons for the judgment of 498A: The court in the case of 498A observed that the Indian Penal Code, 1860 does not explicitly state that domestic violence falls within its purview. However, the court found that Section 2(a) of the IPC, which defines cruelty, applies to this case. The court further observed that domestic violence is a heinous crime that is not limited to any particular gender or community and that it is a serious offense against human dignity. The court noted that the law must be enforced to protect the rights of women and children who are the most vulnerable to domestic violence. Conclusion: The judgment of 498A in India highlights the importance of enforcing domestic violence laws to protect the rights of women and children. The court held that Section 2(a) of the IPC applies to this case and that the law must be enforced to prevent and punish such heinous crimes. The judgment has been widely cited and has set a precedent for the enforcement of domestic violence laws in India.\"]\n",
        "bleu(ref,gen)"
      ],
      "metadata": {
        "colab": {
          "base_uri": "https://localhost:8080/"
        },
        "id": "ytJ-8znntQbz",
        "outputId": "8dfc419f-45e9-4505-b6d5-b7464b4841ff"
      },
      "execution_count": null,
      "outputs": [
        {
          "output_type": "execute_result",
          "data": {
            "text/plain": [
              "0.00303951367781155"
            ]
          },
          "metadata": {},
          "execution_count": 29
        }
      ]
    },
    {
      "cell_type": "code",
      "source": [
        "\n",
        "def bleu(ref, gen):\n",
        "    '''\n",
        "    calculate pair wise bleu score. uses nltk implementation\n",
        "    Args:\n",
        "        references : a list of reference sentences\n",
        "        candidates : a list of candidate(generated) sentences\n",
        "    Returns:\n",
        "        bleu score(float)\n",
        "    '''\n",
        "    ref_bleu = []\n",
        "    gen_bleu = []\n",
        "    for l in gen:\n",
        "        gen_bleu.append(l.split())\n",
        "    for i,l in enumerate(ref):\n",
        "        ref_bleu.append([l.split()])\n",
        "    cc = SmoothingFunction()\n",
        "    score_bleu = corpus_bleu(ref_bleu, gen_bleu, weights=(0, 1, 0, 0), smoothing_function=cc.method4)\n",
        "    return score_bleu\n",
        "\n",
        "ref = [\"tell me about section 420\"]\n",
        "gen = [\"As an AI language model, I don't have the authority to advise people or give legal advice. It is crucial to consult a legal professional for advice on how to interpret and apply the law. In general, Section 420 of the Indian Penal Code (IPC) pertains to the offense of criminal intimidation. It is defined under IPC Section 420 as a criminal act that involves threatening or attempting to threaten someone in order to cause harm or apprehension to that person or a third party. Penalties for committing the offense of criminal intimidation vary depending on the specific circumstances of the offense and the severity of the harm caused. For example, criminal intimidation can be punished with a prison term of up to two years or with a fine, or both, under IPC Section 420 It is important to keep in mind that the laws of India are subject to frequent changes and interpretations, and that legal advice should generally only be sought from qualified legal professionals with appropriate knowledge of the relevant laws.\"]\n",
        "bleu(ref,gen)"
      ],
      "metadata": {
        "colab": {
          "base_uri": "https://localhost:8080/"
        },
        "id": "5yFxEAaqtRez",
        "outputId": "e899fa31-2e77-4725-dc58-2f140474c579"
      },
      "execution_count": null,
      "outputs": [
        {
          "output_type": "execute_result",
          "data": {
            "text/plain": [
              "0.0029821128897193805"
            ]
          },
          "metadata": {},
          "execution_count": 30
        }
      ]
    },
    {
      "cell_type": "code",
      "source": [
        "\n",
        "def bleu(ref, gen):\n",
        "    '''\n",
        "    calculate pair wise bleu score. uses nltk implementation\n",
        "    Args:\n",
        "        references : a list of reference sentences\n",
        "        candidates : a list of candidate(generated) sentences\n",
        "    Returns:\n",
        "        bleu score(float)\n",
        "    '''\n",
        "    ref_bleu = []\n",
        "    gen_bleu = []\n",
        "    for l in gen:\n",
        "        gen_bleu.append(l.split())\n",
        "    for i,l in enumerate(ref):\n",
        "        ref_bleu.append([l.split()])\n",
        "    cc = SmoothingFunction()\n",
        "    score_bleu = corpus_bleu(ref_bleu, gen_bleu, weights=(0, 1, 0, 0), smoothing_function=cc.method4)\n",
        "    return score_bleu\n",
        "\n",
        "ref = [\"Explain the principles and key provisions of the Goods and Services Tax (GST) Act in India.\"]\n",
        "gen = [\"The Goods and Services Tax (GST) Act in India is a comprehensive indirect tax law that was introduced in 2017 to replace multiple state and central taxes with a single tax system. The key provisions of the GST Act are as follows: 1. Constitutional Provisions: The GST Act is based on the Constitution of India, specifically Article 246, which provides for the levy of taxes by the Union and the states. 2. Tax Structure: The GST Act provides for a multi-tier tax structure, with taxes levied at the central, state, and local levels. The tax rates are categorized into four slabs: 5%, 12%, 18%, and 28%. 3. Taxable Events: The GST Act defines the taxable events, including the supply of goods and services, import of goods, and inter-state supply of goods and services. 4. Tax Incentives: The GST Act provides for tax incentives, such as the composition scheme, which allows small businesses to pay a lower tax rate. 5. Tax Credits: The GST Act allows tax credits for taxes paid on inputs, which can be used to offset the tax liability on output supplies. 6. Electronic Filing: The GST Act requires taxpayers to file returns electronically, which can be done through the GST portal. 7. Tax Compliance: The GST Act provides for tax compliance measures, such as the requirement to maintain records and submit returns, and the power of the tax authorities to conduct audits and inspections. 8. Dispute Resolution: The GST Act provides for a dispute resolution mechanism, which includes the GST Appellate Tribunal and the GST Council. 9. Anti-Dumping Duty: The GST Act provides for the imposition of anti-dumping duty on imported goods that are considered to be dumped in the Indian market. 10. Cross-Border Supplies: The GST Act provides for the taxation of cross-border supplies of goods and services, including the levy of taxes on imports and exports. These are some of the key provisions of the GST Act in India. The Act is a comprehensive and complex piece of legislation, and it is important to seek professional advice to understand its implications and compliance requirements.\"]\n",
        "bleu(ref,gen)"
      ],
      "metadata": {
        "colab": {
          "base_uri": "https://localhost:8080/"
        },
        "id": "HNLUCPnHtS9Q",
        "outputId": "019cfd97-babc-464c-cf24-470a7afc6be8"
      },
      "execution_count": null,
      "outputs": [
        {
          "output_type": "execute_result",
          "data": {
            "text/plain": [
              "0.02873563218390805"
            ]
          },
          "metadata": {},
          "execution_count": 31
        }
      ]
    },
    {
      "cell_type": "code",
      "source": [
        "\n",
        "def bleu(ref, gen):\n",
        "    '''\n",
        "    calculate pair wise bleu score. uses nltk implementation\n",
        "    Args:\n",
        "        references : a list of reference sentences\n",
        "        candidates : a list of candidate(generated) sentences\n",
        "    Returns:\n",
        "        bleu score(float)\n",
        "    '''\n",
        "    ref_bleu = []\n",
        "    gen_bleu = []\n",
        "    for l in gen:\n",
        "        gen_bleu.append(l.split())\n",
        "    for i,l in enumerate(ref):\n",
        "        ref_bleu.append([l.split()])\n",
        "    cc = SmoothingFunction()\n",
        "    score_bleu = corpus_bleu(ref_bleu, gen_bleu, weights=(0, 1, 0, 0), smoothing_function=cc.method4)\n",
        "    return score_bleu\n",
        "\n",
        "ref = [\"What are the potential legal risks in the following scenario under the Indian Penal Code: 'Ravi sends an email to his friends that contains defamatory remarks about a common acquaintance, thinking it is a private conversation.\"]\n",
        "gen = [\"Under the Indian Penal Code, the potential legal risks in the given scenario could include: 1. Defamation: Ravi's email could be considered defamatory, as it contains derogatory remarks about a person's character. If the recipients of the email share it with others, it could lead to the spread of defamatory material, which is a criminal offense under Section 499 of the Indian Penal Code. 2. Contempt of Court: If the email contains any remarks that could be considered contemptuous towards a court or any legal authority, it could lead to a criminal complaint under Section 228 of the Indian Penal Code. 3. Hate Speech: If the email contains any hate speech or incites violence against any particular group of people, it could lead to a criminal complaint under Section 153A of the Indian Penal Code. 4. Harassment: If the email contains any threatening or harassing language, it could lead to a criminal complaint under Section 506 of the Indian Penal Code. 5. Privacy Violation: If the email contains any personal information about the recipient without their consent, it could lead to a criminal complaint under Section 660 of the Indian Penal Code. It is important to note that the specific legal risks in the given scenario would depend on the facts and circumstances of the case. Therefore, it is advisable to consult with a legal professional to determine the potential legal risks in any given situation.\"]\n",
        "bleu(ref,gen)"
      ],
      "metadata": {
        "colab": {
          "base_uri": "https://localhost:8080/"
        },
        "id": "Igt0uucdtT-R",
        "outputId": "abb4bc2b-082f-4ebd-f4a9-3c94db9e9cc0"
      },
      "execution_count": null,
      "outputs": [
        {
          "output_type": "execute_result",
          "data": {
            "text/plain": [
              "0.04680851063829788"
            ]
          },
          "metadata": {},
          "execution_count": 32
        }
      ]
    },
    {
      "cell_type": "code",
      "source": [
        "\n",
        "def bleu(ref, gen):\n",
        "    '''\n",
        "    calculate pair wise bleu score. uses nltk implementation\n",
        "    Args:\n",
        "        references : a list of reference sentences\n",
        "        candidates : a list of candidate(generated) sentences\n",
        "    Returns:\n",
        "        bleu score(float)\n",
        "    '''\n",
        "    ref_bleu = []\n",
        "    gen_bleu = []\n",
        "    for l in gen:\n",
        "        gen_bleu.append(l.split())\n",
        "    for i,l in enumerate(ref):\n",
        "        ref_bleu.append([l.split()])\n",
        "    cc = SmoothingFunction()\n",
        "    score_bleu = corpus_bleu(ref_bleu, gen_bleu, weights=(0, 1, 0, 0), smoothing_function=cc.method4)\n",
        "    return score_bleu\n",
        "\n",
        "ref = [\"How do the powers of the 'Rajya Sabha' compare to those of the 'Lok Sabha'?\"]\n",
        "gen = [\"The Rajya Sabha and the Lok Sabha are the two houses of the Indian Parliament. The Rajya Sabha, also known as the Council of States, is a permanent house with a maximum strength of 250 members. The members are elected by the state legislatures for a term of six years. The Rajya Sabha has limited powers compared to the Lok Sabha, and its main function is to review and amend bills passed by the Lok Sabha. The Lok Sabha, also known as the House of the People, is the lower house of the Indian Parliament with a maximum strength of 545 members. The members are elected directly by the people for a term of five years. The Lok Sabha has more powers than the Rajya Sabha, and it is responsible for passing laws and exercising control over the government. In summary, the Rajya Sabha has limited powers compared to the Lok Sabha, and its main function is to review and amend bills passed by the Lok Sabha. The Lok Sabha has more powers than the Rajya Sabha and is responsible for passing laws and exercising control over the government.\"]\n",
        "bleu(ref,gen)"
      ],
      "metadata": {
        "colab": {
          "base_uri": "https://localhost:8080/"
        },
        "id": "uxzy6r0_tUua",
        "outputId": "3e78abe5-0176-4b1e-cb73-3e7468dd8425"
      },
      "execution_count": null,
      "outputs": [
        {
          "output_type": "execute_result",
          "data": {
            "text/plain": [
              "0.010638297872340427"
            ]
          },
          "metadata": {},
          "execution_count": 33
        }
      ]
    },
    {
      "cell_type": "code",
      "source": [
        "\n",
        "def bleu(ref, gen):\n",
        "    '''\n",
        "    calculate pair wise bleu score. uses nltk implementation\n",
        "    Args:\n",
        "        references : a list of reference sentences\n",
        "        candidates : a list of candidate(generated) sentences\n",
        "    Returns:\n",
        "        bleu score(float)\n",
        "    '''\n",
        "    ref_bleu = []\n",
        "    gen_bleu = []\n",
        "    for l in gen:\n",
        "        gen_bleu.append(l.split())\n",
        "    for i,l in enumerate(ref):\n",
        "        ref_bleu.append([l.split()])\n",
        "    cc = SmoothingFunction()\n",
        "    score_bleu = corpus_bleu(ref_bleu, gen_bleu, weights=(0, 1, 0, 0), smoothing_function=cc.method4)\n",
        "    return score_bleu\n",
        "\n",
        "ref = [\"Explain the legal aspects surrounding online dispute resolution mechanisms and their enforceability in India.\"]\n",
        "gen = [\"The legal aspects surrounding ODR mechanisms in India include: 1. Jurisdiction: ODR mechanisms are subject to the jurisdiction of the courts in India. The Indian Contract Act, 1872, and the Information Technology Act, 2000, provide the legal framework for the enforcement of ODR mechanisms in India. 2. Legal recognition: ODR mechanisms are recognized as a valid mode of dispute resolution in India. The Indian Contract Act, 1872, and the Information Technology Act, 2000, provide legal recognition to ODR mechanisms. 3. Enforceability: ODR mechanisms are enforceable in India through the courts. The Indian Contract Act, 1872, and the Information Technology Act, 2000, provide the legal framework for the enforcement of ODR mechanisms in India. 4. Arbitration: ODR mechanisms can be used for arbitration in India. The Arbitration and Conciliation Act, 1996, provides the legal framework for arbitration in India. 5. Mediation: ODR mechanisms can be used for mediation in India. The Mediation Act, 2019, provides the legal framework for mediation in India. 6. Electronic evidence: ODR mechanisms can be used to collect and present electronic evidence in India. The Indian Evidence Act, 1872, provides the legal framework for the admission of electronic evidence in India. 7. Data privacy: ODR mechanisms must comply with data privacy laws in India. The Indian Data Protection Act, 2018, provides the legal framework for data privacy in India. 8. Intellectual property: ODR mechanisms must comply with intellectual property laws in India. The Indian Patents Act, 1970, and the Indian Copyright Act, 1957, provide the legal framework for intellectual property in India. 9. Consumer protection: ODR mechanisms must comply with consumer protection laws in India. The Consumer Protection Act, 1986, provides the legal framework for consumer protection in India. In conclusion, ODR mechanisms are legal and enforceable in India. They are subject to the jurisdiction of the courts in India and must comply with Indian laws, including the Indian Contract Act, 1872, the Indian Penal Code, 1860, the Information Technology Act, 2000, the Arbitration and Conciliation Act, 1996, the Mediation Act, 2019, the Indian Evidence Act, 1872, the Indian Data Protection Act, 2018, the Indian Patents Act, 1970, and the Indian Copyright Act, 1957.\"]\n",
        "bleu(ref,gen)"
      ],
      "metadata": {
        "colab": {
          "base_uri": "https://localhost:8080/"
        },
        "id": "8-ishfIPtVdf",
        "outputId": "dd2a8d66-d9cc-4a55-991c-53a05caa1d74"
      },
      "execution_count": null,
      "outputs": [
        {
          "output_type": "execute_result",
          "data": {
            "text/plain": [
              "0.01404494382022472"
            ]
          },
          "metadata": {},
          "execution_count": 34
        }
      ]
    },
    {
      "cell_type": "code",
      "source": [
        "\n",
        "def bleu(ref, gen):\n",
        "    '''\n",
        "    calculate pair wise bleu score. uses nltk implementation\n",
        "    Args:\n",
        "        references : a list of reference sentences\n",
        "        candidates : a list of candidate(generated) sentences\n",
        "    Returns:\n",
        "        bleu score(float)\n",
        "    '''\n",
        "    ref_bleu = []\n",
        "    gen_bleu = []\n",
        "    for l in gen:\n",
        "        gen_bleu.append(l.split())\n",
        "    for i,l in enumerate(ref):\n",
        "        ref_bleu.append([l.split()])\n",
        "    cc = SmoothingFunction()\n",
        "    score_bleu = corpus_bleu(ref_bleu, gen_bleu, weights=(0, 1, 0, 0), smoothing_function=cc.method4)\n",
        "    return score_bleu\n",
        "\n",
        "\n",
        "ref = [\"Discuss the legal implications of the recent amendments to the Indian Penal Code regarding cybercrimes.\"]\n",
        "gen = [\"The recent amendments to the Indian Penal Code regarding cybercrimes have expanded the scope of criminal liability for offenses committed through digital means, and have introduced new provisions for dealing with such offenses. These amendments demonstrate the Indian government's commitment to addressing the growing threat of cybercrime in the country, and to ensuring that the legal framework is adequate to deal with the challenges posed by this type of crime.\"]\n",
        "bleu(ref,gen)"
      ],
      "metadata": {
        "colab": {
          "base_uri": "https://localhost:8080/"
        },
        "id": "tZWRpLu4tWHN",
        "outputId": "2a92aed4-b40e-4b55-ca69-5d83021fb1e0"
      },
      "execution_count": null,
      "outputs": [
        {
          "output_type": "execute_result",
          "data": {
            "text/plain": [
              "0.11594202898550725"
            ]
          },
          "metadata": {},
          "execution_count": 35
        }
      ]
    },
    {
      "cell_type": "code",
      "source": [
        "ter_scores=[5.3478260869565215,24.666666666666668,29.88888888888889,54.333333333333336,34.6, 21.1875, 6.027777777777778, 12.2, 24.857142857142858, 4.133333333333334]"
      ],
      "metadata": {
        "id": "pZlPiESnvVm-"
      },
      "execution_count": null,
      "outputs": []
    },
    {
      "cell_type": "code",
      "source": [
        "bleu_scores=[0.08888888888888888,0.006622516556291391,0.0036764705882352923, 0.00303951367781155, 0.0029821128897193805, 0.02873563218390805, 0.04680851063829788, 0.010638297872340427, 0.01404494382022472, 0.11594202898550725]"
      ],
      "metadata": {
        "id": "zpB19ij1yf4f"
      },
      "execution_count": null,
      "outputs": []
    },
    {
      "cell_type": "code",
      "source": [
        "import matplotlib.pyplot as plt\n",
        "import seaborn as sns\n",
        "\n",
        "# Assuming ter_scores and bleu_scores are your lists of scores\n",
        "sns.scatterplot(x=ter_scores, y=bleu_scores)\n",
        "plt.xlabel('TER Score')\n",
        "plt.ylabel('BLEU Score')\n",
        "plt.title('TER vs BLEU Scores')\n",
        "plt.show()\n"
      ],
      "metadata": {
        "colab": {
          "base_uri": "https://localhost:8080/",
          "height": 472
        },
        "id": "DyoG0sWOzyeg",
        "outputId": "3f8a3262-e6d8-4a05-fdd5-fde2bd8626e8"
      },
      "execution_count": null,
      "outputs": [
        {
          "output_type": "display_data",
          "data": {
            "text/plain": [
              "<Figure size 640x480 with 1 Axes>"
            ],
            "image/png": "[encoded data removed]"
          },
          "metadata": {}
        }
      ]
    },
    {
      "cell_type": "code",
      "source": [
        "import matplotlib.pyplot as plt\n",
        "import seaborn as sns\n",
        "\n",
        "# Assuming ter_scores is your list of TER scores\n",
        "sns.scatterplot(x=range(len(ter_scores)), y=ter_scores, color='blue')\n",
        "plt.xlabel('Data Points')\n",
        "plt.ylabel('TER Score')\n",
        "plt.title('TER Scores Distribution')\n",
        "plt.show()\n"
      ],
      "metadata": {
        "colab": {
          "base_uri": "https://localhost:8080/",
          "height": 472
        },
        "id": "4-iwbrwXz2S7",
        "outputId": "7e6bfb9c-9f17-458a-98dc-0a3c42dec935"
      },
      "execution_count": null,
      "outputs": [
        {
          "output_type": "display_data",
          "data": {
            "text/plain": [
              "<Figure size 640x480 with 1 Axes>"
            ],
            "image/png": "[encoded data removed]"
          },
          "metadata": {}
        }
      ]
    },
    {
      "cell_type": "code",
      "source": [
        "import matplotlib.pyplot as plt\n",
        "import seaborn as sns\n",
        "\n",
        "# Assuming bleu_scores is your list of BLEU scores\n",
        "sns.scatterplot(x=range(len(bleu_scores)), y=bleu_scores, color='green')\n",
        "plt.xlabel('Data Points')\n",
        "plt.ylabel('BLEU Score')\n",
        "plt.title('BLEU Scores Distribution')\n",
        "plt.show()\n",
        "\n"
      ],
      "metadata": {
        "colab": {
          "base_uri": "https://localhost:8080/",
          "height": 472
        },
        "id": "aI0TnB3Tz8vg",
        "outputId": "c97db653-eff0-4481-edb1-8c6e34990cbf"
      },
      "execution_count": null,
      "outputs": [
        {
          "output_type": "display_data",
          "data": {
            "text/plain": [
              "<Figure size 640x480 with 1 Axes>"
            ],
            "image/png": "[encoded data removed]"
          },
          "metadata": {}
        }
      ]
    },
    {
      "cell_type": "code",
      "source": [
        "plt.figure(figsize=(8, 5))\n",
        "sns.scatterplot(x=range(1, len(ter_scores) + 1), y=ter_scores, color='blue', s=100)\n",
        "\n",
        "# Annotate points p1 to p10\n",
        "for i, txt in enumerate(['p1', 'p2', 'p3', 'p4', 'p5', 'p6', 'p7', 'p8', 'p9', 'p10']):\n",
        "    plt.annotate(txt, (i + 1, ter_scores[i]), textcoords=\"offset points\", xytext=(0, 5), ha='center')\n",
        "\n",
        "plt.xlabel('Data Points')\n",
        "plt.ylabel('TER Score')\n",
        "plt.title('TER Scores Distribution')\n",
        "plt.show()"
      ],
      "metadata": {
        "colab": {
          "base_uri": "https://localhost:8080/",
          "height": 487
        },
        "id": "HkTgXRDm0Qv_",
        "outputId": "2c84458d-c141-4bd1-d7ea-6b90c3dd2b19"
      },
      "execution_count": null,
      "outputs": [
        {
          "output_type": "display_data",
          "data": {
            "text/plain": [
              "<Figure size 800x500 with 1 Axes>"
            ],
            "image/png": "[encoded data removed]"
          },
          "metadata": {}
        }
      ]
    },
    {
      "cell_type": "code",
      "source": [
        "plt.figure(figsize=(8, 5))\n",
        "sns.scatterplot(x=range(1, len(bleu_scores) + 1), y=bleu_scores, color='green', s=100)\n",
        "\n",
        "# Annotate points p1 to p10\n",
        "for i, txt in enumerate(['p1', 'p2', 'p3', 'p4', 'p5', 'p6', 'p7', 'p8', 'p9', 'p10']):\n",
        "    plt.annotate(txt, (i + 1, bleu_scores[i]), textcoords=\"offset points\", xytext=(0, 5), ha='center')\n",
        "\n",
        "plt.xlabel('Data Points')\n",
        "plt.ylabel('BLEU Score')\n",
        "plt.title('BLEU Scores Distribution')\n",
        "plt.show()"
      ],
      "metadata": {
        "colab": {
          "base_uri": "https://localhost:8080/",
          "height": 487
        },
        "id": "bS9go07S0SnW",
        "outputId": "6b263b70-5456-4ef9-c691-e1db3affc26d"
      },
      "execution_count": null,
      "outputs": [
        {
          "output_type": "display_data",
          "data": {
            "text/plain": [
              "<Figure size 800x500 with 1 Axes>"
            ],
            "image/png": "[encoded data removed]"
          },
          "metadata": {}
        }
      ]
    },
    {
      "cell_type": "code",
      "source": [
        "plt.figure(figsize=(8, 5))\n",
        "sns.boxplot(ter_scores, color='blue')\n",
        "plt.xlabel('TER Scores')\n",
        "plt.title('Box Plot of TER Scores')\n",
        "plt.show()"
      ],
      "metadata": {
        "colab": {
          "base_uri": "https://localhost:8080/",
          "height": 473
        },
        "id": "3oVJhcdl0RT5",
        "outputId": "e6073353-7062-4561-e582-3189518833b0"
      },
      "execution_count": null,
      "outputs": [
        {
          "output_type": "display_data",
          "data": {
            "text/plain": [
              "<Figure size 800x500 with 1 Axes>"
            ],
            "image/png": "[encoded data removed]"
          },
          "metadata": {}
        }
      ]
    },
    {
      "cell_type": "code",
      "source": [
        "plt.figure(figsize=(8, 5))\n",
        "sns.boxplot(bleu_scores, color='green')\n",
        "plt.xlabel('BLEU Scores')\n",
        "plt.title('Box Plot of BLEU Scores')\n",
        "plt.show()"
      ],
      "metadata": {
        "colab": {
          "base_uri": "https://localhost:8080/",
          "height": 473
        },
        "id": "GSz8-E050dgC",
        "outputId": "56337e00-f9d5-4cc2-cc53-e2c26ba735f2"
      },
      "execution_count": null,
      "outputs": [
        {
          "output_type": "display_data",
          "data": {
            "text/plain": [
              "<Figure size 800x500 with 1 Axes>"
            ],
            "image/png": "[encoded data removed]"
          },
          "metadata": {}
        }
      ]
    },
    {
      "cell_type": "code",
      "source": [],
      "metadata": {
        "id": "KOxRASz60hwm"
      },
      "execution_count": null,
      "outputs": []
    },
    {
      "cell_type": "code",
      "source": [
        "plt.figure(figsize=(8, 5))\n",
        "sns.violinplot(ter_scores, color='blue')\n",
        "plt.xlabel('TER Scores')\n",
        "plt.title('Violin Plot of TER Scores')\n",
        "plt.show()"
      ],
      "metadata": {
        "colab": {
          "base_uri": "https://localhost:8080/",
          "height": 473
        },
        "id": "wAfEuhxi0kMH",
        "outputId": "839c7f4c-4700-4dc8-acd1-c1e4b18dd34d"
      },
      "execution_count": null,
      "outputs": [
        {
          "output_type": "display_data",
          "data": {
            "text/plain": [
              "<Figure size 800x500 with 1 Axes>"
            ],
            "image/png": "[encoded data removed]"
          },
          "metadata": {}
        }
      ]
    },
    {
      "cell_type": "code",
      "source": [
        "plt.figure(figsize=(8, 5))\n",
        "sns.violinplot(bleu_scores, color='green')\n",
        "plt.xlabel('BLEU Scores')\n",
        "plt.title('Violin Plot of BLEU Scores')\n",
        "plt.show()"
      ],
      "metadata": {
        "colab": {
          "base_uri": "https://localhost:8080/",
          "height": 473
        },
        "id": "ur5oKQYX0lBi",
        "outputId": "f5167a1a-c933-4006-f7a5-5cf1269454c3"
      },
      "execution_count": null,
      "outputs": [
        {
          "output_type": "display_data",
          "data": {
            "text/plain": [
              "<Figure size 800x500 with 1 Axes>"
            ],
            "image/png": "[encoded data removed]"
          },
          "metadata": {}
        }
      ]
    },
    {
      "cell_type": "code",
      "source": [],
      "metadata": {
        "id": "sNebLMq10pz4"
      },
      "execution_count": null,
      "outputs": []
    },
    {
      "cell_type": "code",
      "source": [
        "plt.figure(figsize=(8, 5))\n",
        "sns.histplot(ter_scores, bins=10, color='blue', kde=True)\n",
        "plt.xlabel('TER Scores')\n",
        "plt.title('Histogram of TER Scores')\n",
        "plt.show()"
      ],
      "metadata": {
        "colab": {
          "base_uri": "https://localhost:8080/",
          "height": 487
        },
        "id": "mJ9cDh_30w4P",
        "outputId": "a95a0f09-238b-4c67-f12f-8fb18b604ac3"
      },
      "execution_count": null,
      "outputs": [
        {
          "output_type": "display_data",
          "data": {
            "text/plain": [
              "<Figure size 800x500 with 1 Axes>"
            ],
            "image/png": "[encoded data removed]"
          },
          "metadata": {}
        }
      ]
    },
    {
      "cell_type": "code",
      "source": [
        "plt.figure(figsize=(8, 5))\n",
        "sns.histplot(bleu_scores, bins=10, color='green', kde=True)\n",
        "plt.xlabel('BLEU Scores')\n",
        "plt.title('Histogram of BLEU Scores')\n",
        "plt.show()"
      ],
      "metadata": {
        "colab": {
          "base_uri": "https://localhost:8080/",
          "height": 487
        },
        "id": "ogSuleNw0xhB",
        "outputId": "01eab0fd-608d-45ab-eeb0-99202435c1f2"
      },
      "execution_count": null,
      "outputs": [
        {
          "output_type": "display_data",
          "data": {
            "text/plain": [
              "<Figure size 800x500 with 1 Axes>"
            ],
            "image/png": "[encoded data removed]"
          },
          "metadata": {}
        }
      ]
    },
    {
      "cell_type": "code",
      "source": [],
      "metadata": {
        "id": "TgVAHJ8i01Y6"
      },
      "execution_count": null,
      "outputs": []
    },
    {
      "cell_type": "code",
      "source": [
        "plt.figure(figsize=(8, 5))\n",
        "sns.kdeplot(ter_scores, color='blue', fill=True)\n",
        "plt.xlabel('TER Scores')\n",
        "plt.title('Kernel Density Estimate (KDE) Plot of TER Scores')\n",
        "plt.show()"
      ],
      "metadata": {
        "colab": {
          "base_uri": "https://localhost:8080/",
          "height": 487
        },
        "id": "HSGfcIaE02-3",
        "outputId": "ceafa661-c34e-468e-cedd-fd3b43ad7b5c"
      },
      "execution_count": null,
      "outputs": [
        {
          "output_type": "display_data",
          "data": {
            "text/plain": [
              "<Figure size 800x500 with 1 Axes>"
            ],
            "image/png": "[encoded data removed]"
          },
          "metadata": {}
        }
      ]
    },
    {
      "cell_type": "code",
      "source": [
        "plt.figure(figsize=(8, 5))\n",
        "sns.kdeplot(bleu_scores, color='green', fill=True)\n",
        "plt.xlabel('BLEU Scores')\n",
        "plt.title('Kernel Density Estimate (KDE) Plot of BLEU Scores')\n",
        "plt.show()"
      ],
      "metadata": {
        "colab": {
          "base_uri": "https://localhost:8080/",
          "height": 487
        },
        "id": "WoYPBX0J0_bX",
        "outputId": "24a6eb4d-3c1c-49ba-b698-3b2490607bb5"
      },
      "execution_count": null,
      "outputs": [
        {
          "output_type": "display_data",
          "data": {
            "text/plain": [
              "<Figure size 800x500 with 1 Axes>"
            ],
            "image/png": "[encoded data removed]"
          },
          "metadata": {}
        }
      ]
    },
    {
      "cell_type": "code",
      "source": [],
      "metadata": {
        "id": "D1M96-qa1Cbk"
      },
      "execution_count": null,
      "outputs": []
    }
  ]
}